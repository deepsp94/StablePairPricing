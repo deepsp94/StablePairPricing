{
 "cells": [
  {
   "cell_type": "code",
   "execution_count": 83,
   "id": "c3cc4523",
   "metadata": {},
   "outputs": [],
   "source": [
    "import pandas as pd\n",
    "import plotly.express as px\n",
    "import plotly.graph_objects as go\n",
    "from plotly.subplots import make_subplots\n",
    "import numpy as np\n",
    "from datetime import datetime, timedelta"
   ]
  },
  {
   "cell_type": "code",
   "execution_count": 84,
   "id": "649dd5db",
   "metadata": {},
   "outputs": [
    {
     "data": {
      "text/html": [
       "<div>\n",
       "<style scoped>\n",
       "    .dataframe tbody tr th:only-of-type {\n",
       "        vertical-align: middle;\n",
       "    }\n",
       "\n",
       "    .dataframe tbody tr th {\n",
       "        vertical-align: top;\n",
       "    }\n",
       "\n",
       "    .dataframe thead th {\n",
       "        text-align: right;\n",
       "    }\n",
       "</style>\n",
       "<table border=\"1\" class=\"dataframe\">\n",
       "  <thead>\n",
       "    <tr style=\"text-align: right;\">\n",
       "      <th></th>\n",
       "      <th>side</th>\n",
       "      <th>price</th>\n",
       "      <th>time</th>\n",
       "      <th>size</th>\n",
       "      <th>day</th>\n",
       "    </tr>\n",
       "  </thead>\n",
       "  <tbody>\n",
       "    <tr>\n",
       "      <th>0</th>\n",
       "      <td>buy</td>\n",
       "      <td>1.0001</td>\n",
       "      <td>2025-09-25 03:32:12.178759+00:00</td>\n",
       "      <td>138.02</td>\n",
       "      <td>2025-09-25</td>\n",
       "    </tr>\n",
       "    <tr>\n",
       "      <th>1</th>\n",
       "      <td>buy</td>\n",
       "      <td>1.0001</td>\n",
       "      <td>2025-09-25 03:44:12.441170+00:00</td>\n",
       "      <td>5000.00</td>\n",
       "      <td>2025-09-25</td>\n",
       "    </tr>\n",
       "    <tr>\n",
       "      <th>2</th>\n",
       "      <td>buy</td>\n",
       "      <td>1.0001</td>\n",
       "      <td>2025-09-25 04:21:34.172087+00:00</td>\n",
       "      <td>899.78</td>\n",
       "      <td>2025-09-25</td>\n",
       "    </tr>\n",
       "    <tr>\n",
       "      <th>3</th>\n",
       "      <td>buy</td>\n",
       "      <td>1.0001</td>\n",
       "      <td>2025-09-25 04:32:15.432034+00:00</td>\n",
       "      <td>45.17</td>\n",
       "      <td>2025-09-25</td>\n",
       "    </tr>\n",
       "    <tr>\n",
       "      <th>4</th>\n",
       "      <td>buy</td>\n",
       "      <td>1.0001</td>\n",
       "      <td>2025-09-25 04:51:16.585584+00:00</td>\n",
       "      <td>897.72</td>\n",
       "      <td>2025-09-25</td>\n",
       "    </tr>\n",
       "  </tbody>\n",
       "</table>\n",
       "</div>"
      ],
      "text/plain": [
       "  side   price                             time     size         day\n",
       "0  buy  1.0001 2025-09-25 03:32:12.178759+00:00   138.02  2025-09-25\n",
       "1  buy  1.0001 2025-09-25 03:44:12.441170+00:00  5000.00  2025-09-25\n",
       "2  buy  1.0001 2025-09-25 04:21:34.172087+00:00   899.78  2025-09-25\n",
       "3  buy  1.0001 2025-09-25 04:32:15.432034+00:00    45.17  2025-09-25\n",
       "4  buy  1.0001 2025-09-25 04:51:16.585584+00:00   897.72  2025-09-25"
      ]
     },
     "execution_count": 84,
     "metadata": {},
     "output_type": "execute_result"
    }
   ],
   "source": [
    "df = pd.read_csv('trades.csv')\n",
    "# Fix the time column\n",
    "df['time'] = pd.to_datetime(df['time'])\n",
    "\n",
    "# Remove column trade_id\n",
    "df = df.drop(columns=['trade_id'])\n",
    "\n",
    "# Group by side, price, time and sum the size\n",
    "df = df.groupby(['side', 'price', 'time'])['size'].sum().reset_index()\n",
    "\n",
    "# Add a column called day\n",
    "df['day'] = pd.to_datetime(df['time']).dt.date\n",
    "\n",
    "df.head()"
   ]
  },
  {
   "cell_type": "code",
   "execution_count": 85,
   "id": "b8a115e6",
   "metadata": {},
   "outputs": [
    {
     "data": {
      "text/html": [
       "<div>\n",
       "<style scoped>\n",
       "    .dataframe tbody tr th:only-of-type {\n",
       "        vertical-align: middle;\n",
       "    }\n",
       "\n",
       "    .dataframe tbody tr th {\n",
       "        vertical-align: top;\n",
       "    }\n",
       "\n",
       "    .dataframe thead th {\n",
       "        text-align: right;\n",
       "    }\n",
       "</style>\n",
       "<table border=\"1\" class=\"dataframe\">\n",
       "  <thead>\n",
       "    <tr style=\"text-align: right;\">\n",
       "      <th></th>\n",
       "      <th>side</th>\n",
       "      <th>price</th>\n",
       "      <th>time</th>\n",
       "      <th>size</th>\n",
       "      <th>day</th>\n",
       "    </tr>\n",
       "  </thead>\n",
       "  <tbody>\n",
       "    <tr>\n",
       "      <th>19456</th>\n",
       "      <td>sell</td>\n",
       "      <td>1.0004</td>\n",
       "      <td>2025-09-24 00:48:34.835177+00:00</td>\n",
       "      <td>422.98</td>\n",
       "      <td>2025-09-24</td>\n",
       "    </tr>\n",
       "    <tr>\n",
       "      <th>19457</th>\n",
       "      <td>sell</td>\n",
       "      <td>1.0004</td>\n",
       "      <td>2025-09-24 00:48:46.689000+00:00</td>\n",
       "      <td>422.98</td>\n",
       "      <td>2025-09-24</td>\n",
       "    </tr>\n",
       "    <tr>\n",
       "      <th>19458</th>\n",
       "      <td>sell</td>\n",
       "      <td>1.0004</td>\n",
       "      <td>2025-09-24 00:50:15.993753+00:00</td>\n",
       "      <td>292244.23</td>\n",
       "      <td>2025-09-24</td>\n",
       "    </tr>\n",
       "    <tr>\n",
       "      <th>486</th>\n",
       "      <td>buy</td>\n",
       "      <td>1.0003</td>\n",
       "      <td>2025-09-24 00:57:00.353522+00:00</td>\n",
       "      <td>605.40</td>\n",
       "      <td>2025-09-24</td>\n",
       "    </tr>\n",
       "    <tr>\n",
       "      <th>19459</th>\n",
       "      <td>sell</td>\n",
       "      <td>1.0004</td>\n",
       "      <td>2025-09-24 00:57:18.410859+00:00</td>\n",
       "      <td>689.03</td>\n",
       "      <td>2025-09-24</td>\n",
       "    </tr>\n",
       "    <tr>\n",
       "      <th>2065</th>\n",
       "      <td>buy</td>\n",
       "      <td>1.0004</td>\n",
       "      <td>2025-09-24 00:57:42.978165+00:00</td>\n",
       "      <td>605.40</td>\n",
       "      <td>2025-09-24</td>\n",
       "    </tr>\n",
       "    <tr>\n",
       "      <th>22524</th>\n",
       "      <td>sell</td>\n",
       "      <td>1.0005</td>\n",
       "      <td>2025-09-24 00:59:14.484352+00:00</td>\n",
       "      <td>689.03</td>\n",
       "      <td>2025-09-24</td>\n",
       "    </tr>\n",
       "    <tr>\n",
       "      <th>22525</th>\n",
       "      <td>sell</td>\n",
       "      <td>1.0005</td>\n",
       "      <td>2025-09-24 00:59:21.190281+00:00</td>\n",
       "      <td>689.03</td>\n",
       "      <td>2025-09-24</td>\n",
       "    </tr>\n",
       "    <tr>\n",
       "      <th>2066</th>\n",
       "      <td>buy</td>\n",
       "      <td>1.0004</td>\n",
       "      <td>2025-09-24 01:10:05.009753+00:00</td>\n",
       "      <td>45.00</td>\n",
       "      <td>2025-09-24</td>\n",
       "    </tr>\n",
       "    <tr>\n",
       "      <th>2067</th>\n",
       "      <td>buy</td>\n",
       "      <td>1.0004</td>\n",
       "      <td>2025-09-24 01:10:05.021236+00:00</td>\n",
       "      <td>45.00</td>\n",
       "      <td>2025-09-24</td>\n",
       "    </tr>\n",
       "    <tr>\n",
       "      <th>2068</th>\n",
       "      <td>buy</td>\n",
       "      <td>1.0004</td>\n",
       "      <td>2025-09-24 01:12:14.097939+00:00</td>\n",
       "      <td>197.17</td>\n",
       "      <td>2025-09-24</td>\n",
       "    </tr>\n",
       "    <tr>\n",
       "      <th>22526</th>\n",
       "      <td>sell</td>\n",
       "      <td>1.0005</td>\n",
       "      <td>2025-09-24 01:13:58.742186+00:00</td>\n",
       "      <td>532.11</td>\n",
       "      <td>2025-09-24</td>\n",
       "    </tr>\n",
       "    <tr>\n",
       "      <th>22527</th>\n",
       "      <td>sell</td>\n",
       "      <td>1.0005</td>\n",
       "      <td>2025-09-24 01:19:46.761139+00:00</td>\n",
       "      <td>26.49</td>\n",
       "      <td>2025-09-24</td>\n",
       "    </tr>\n",
       "    <tr>\n",
       "      <th>2069</th>\n",
       "      <td>buy</td>\n",
       "      <td>1.0004</td>\n",
       "      <td>2025-09-24 01:24:40.595125+00:00</td>\n",
       "      <td>419.01</td>\n",
       "      <td>2025-09-24</td>\n",
       "    </tr>\n",
       "    <tr>\n",
       "      <th>22528</th>\n",
       "      <td>sell</td>\n",
       "      <td>1.0005</td>\n",
       "      <td>2025-09-24 01:26:10.198573+00:00</td>\n",
       "      <td>261.74</td>\n",
       "      <td>2025-09-24</td>\n",
       "    </tr>\n",
       "    <tr>\n",
       "      <th>2070</th>\n",
       "      <td>buy</td>\n",
       "      <td>1.0004</td>\n",
       "      <td>2025-09-24 01:27:23.684703+00:00</td>\n",
       "      <td>499.00</td>\n",
       "      <td>2025-09-24</td>\n",
       "    </tr>\n",
       "    <tr>\n",
       "      <th>22529</th>\n",
       "      <td>sell</td>\n",
       "      <td>1.0005</td>\n",
       "      <td>2025-09-24 01:29:43.465764+00:00</td>\n",
       "      <td>80.11</td>\n",
       "      <td>2025-09-24</td>\n",
       "    </tr>\n",
       "    <tr>\n",
       "      <th>22530</th>\n",
       "      <td>sell</td>\n",
       "      <td>1.0005</td>\n",
       "      <td>2025-09-24 01:34:28.549051+00:00</td>\n",
       "      <td>139.12</td>\n",
       "      <td>2025-09-24</td>\n",
       "    </tr>\n",
       "    <tr>\n",
       "      <th>2071</th>\n",
       "      <td>buy</td>\n",
       "      <td>1.0004</td>\n",
       "      <td>2025-09-24 01:35:34.556776+00:00</td>\n",
       "      <td>45.00</td>\n",
       "      <td>2025-09-24</td>\n",
       "    </tr>\n",
       "    <tr>\n",
       "      <th>2072</th>\n",
       "      <td>buy</td>\n",
       "      <td>1.0004</td>\n",
       "      <td>2025-09-24 01:35:34.825449+00:00</td>\n",
       "      <td>45.00</td>\n",
       "      <td>2025-09-24</td>\n",
       "    </tr>\n",
       "    <tr>\n",
       "      <th>2073</th>\n",
       "      <td>buy</td>\n",
       "      <td>1.0004</td>\n",
       "      <td>2025-09-24 01:35:35.024246+00:00</td>\n",
       "      <td>45.00</td>\n",
       "      <td>2025-09-24</td>\n",
       "    </tr>\n",
       "    <tr>\n",
       "      <th>2074</th>\n",
       "      <td>buy</td>\n",
       "      <td>1.0004</td>\n",
       "      <td>2025-09-24 01:35:35.033468+00:00</td>\n",
       "      <td>45.00</td>\n",
       "      <td>2025-09-24</td>\n",
       "    </tr>\n",
       "    <tr>\n",
       "      <th>2075</th>\n",
       "      <td>buy</td>\n",
       "      <td>1.0004</td>\n",
       "      <td>2025-09-24 01:35:35.307962+00:00</td>\n",
       "      <td>45.00</td>\n",
       "      <td>2025-09-24</td>\n",
       "    </tr>\n",
       "    <tr>\n",
       "      <th>2076</th>\n",
       "      <td>buy</td>\n",
       "      <td>1.0004</td>\n",
       "      <td>2025-09-24 01:35:35.539154+00:00</td>\n",
       "      <td>45.00</td>\n",
       "      <td>2025-09-24</td>\n",
       "    </tr>\n",
       "    <tr>\n",
       "      <th>2077</th>\n",
       "      <td>buy</td>\n",
       "      <td>1.0004</td>\n",
       "      <td>2025-09-24 01:35:35.543066+00:00</td>\n",
       "      <td>45.00</td>\n",
       "      <td>2025-09-24</td>\n",
       "    </tr>\n",
       "    <tr>\n",
       "      <th>2078</th>\n",
       "      <td>buy</td>\n",
       "      <td>1.0004</td>\n",
       "      <td>2025-09-24 01:35:35.766519+00:00</td>\n",
       "      <td>45.00</td>\n",
       "      <td>2025-09-24</td>\n",
       "    </tr>\n",
       "    <tr>\n",
       "      <th>2079</th>\n",
       "      <td>buy</td>\n",
       "      <td>1.0004</td>\n",
       "      <td>2025-09-24 01:35:35.820390+00:00</td>\n",
       "      <td>45.00</td>\n",
       "      <td>2025-09-24</td>\n",
       "    </tr>\n",
       "    <tr>\n",
       "      <th>2080</th>\n",
       "      <td>buy</td>\n",
       "      <td>1.0004</td>\n",
       "      <td>2025-09-24 01:35:36.269719+00:00</td>\n",
       "      <td>45.00</td>\n",
       "      <td>2025-09-24</td>\n",
       "    </tr>\n",
       "    <tr>\n",
       "      <th>2081</th>\n",
       "      <td>buy</td>\n",
       "      <td>1.0004</td>\n",
       "      <td>2025-09-24 01:35:36.509920+00:00</td>\n",
       "      <td>45.00</td>\n",
       "      <td>2025-09-24</td>\n",
       "    </tr>\n",
       "    <tr>\n",
       "      <th>2082</th>\n",
       "      <td>buy</td>\n",
       "      <td>1.0004</td>\n",
       "      <td>2025-09-24 01:35:36.521690+00:00</td>\n",
       "      <td>45.00</td>\n",
       "      <td>2025-09-24</td>\n",
       "    </tr>\n",
       "    <tr>\n",
       "      <th>2083</th>\n",
       "      <td>buy</td>\n",
       "      <td>1.0004</td>\n",
       "      <td>2025-09-24 01:35:36.743258+00:00</td>\n",
       "      <td>45.00</td>\n",
       "      <td>2025-09-24</td>\n",
       "    </tr>\n",
       "    <tr>\n",
       "      <th>2084</th>\n",
       "      <td>buy</td>\n",
       "      <td>1.0004</td>\n",
       "      <td>2025-09-24 01:35:36.748327+00:00</td>\n",
       "      <td>45.00</td>\n",
       "      <td>2025-09-24</td>\n",
       "    </tr>\n",
       "    <tr>\n",
       "      <th>2085</th>\n",
       "      <td>buy</td>\n",
       "      <td>1.0004</td>\n",
       "      <td>2025-09-24 01:35:38.974552+00:00</td>\n",
       "      <td>45.00</td>\n",
       "      <td>2025-09-24</td>\n",
       "    </tr>\n",
       "    <tr>\n",
       "      <th>2086</th>\n",
       "      <td>buy</td>\n",
       "      <td>1.0004</td>\n",
       "      <td>2025-09-24 01:40:13.401127+00:00</td>\n",
       "      <td>45.00</td>\n",
       "      <td>2025-09-24</td>\n",
       "    </tr>\n",
       "    <tr>\n",
       "      <th>2087</th>\n",
       "      <td>buy</td>\n",
       "      <td>1.0004</td>\n",
       "      <td>2025-09-24 01:40:13.640462+00:00</td>\n",
       "      <td>30.00</td>\n",
       "      <td>2025-09-24</td>\n",
       "    </tr>\n",
       "    <tr>\n",
       "      <th>19460</th>\n",
       "      <td>sell</td>\n",
       "      <td>1.0004</td>\n",
       "      <td>2025-09-24 01:47:46.607984+00:00</td>\n",
       "      <td>2.17</td>\n",
       "      <td>2025-09-24</td>\n",
       "    </tr>\n",
       "    <tr>\n",
       "      <th>19461</th>\n",
       "      <td>sell</td>\n",
       "      <td>1.0004</td>\n",
       "      <td>2025-09-24 01:48:41.257556+00:00</td>\n",
       "      <td>308.70</td>\n",
       "      <td>2025-09-24</td>\n",
       "    </tr>\n",
       "    <tr>\n",
       "      <th>19462</th>\n",
       "      <td>sell</td>\n",
       "      <td>1.0004</td>\n",
       "      <td>2025-09-24 01:51:09.315793+00:00</td>\n",
       "      <td>199.92</td>\n",
       "      <td>2025-09-24</td>\n",
       "    </tr>\n",
       "    <tr>\n",
       "      <th>19463</th>\n",
       "      <td>sell</td>\n",
       "      <td>1.0004</td>\n",
       "      <td>2025-09-24 02:04:56.427489+00:00</td>\n",
       "      <td>2000.00</td>\n",
       "      <td>2025-09-24</td>\n",
       "    </tr>\n",
       "    <tr>\n",
       "      <th>487</th>\n",
       "      <td>buy</td>\n",
       "      <td>1.0003</td>\n",
       "      <td>2025-09-24 02:23:10.880763+00:00</td>\n",
       "      <td>369.78</td>\n",
       "      <td>2025-09-24</td>\n",
       "    </tr>\n",
       "    <tr>\n",
       "      <th>488</th>\n",
       "      <td>buy</td>\n",
       "      <td>1.0003</td>\n",
       "      <td>2025-09-24 02:24:01.532817+00:00</td>\n",
       "      <td>49.30</td>\n",
       "      <td>2025-09-24</td>\n",
       "    </tr>\n",
       "    <tr>\n",
       "      <th>19464</th>\n",
       "      <td>sell</td>\n",
       "      <td>1.0004</td>\n",
       "      <td>2025-09-24 02:29:32.051050+00:00</td>\n",
       "      <td>13.12</td>\n",
       "      <td>2025-09-24</td>\n",
       "    </tr>\n",
       "    <tr>\n",
       "      <th>19465</th>\n",
       "      <td>sell</td>\n",
       "      <td>1.0004</td>\n",
       "      <td>2025-09-24 02:34:52.455817+00:00</td>\n",
       "      <td>850.88</td>\n",
       "      <td>2025-09-24</td>\n",
       "    </tr>\n",
       "    <tr>\n",
       "      <th>19466</th>\n",
       "      <td>sell</td>\n",
       "      <td>1.0004</td>\n",
       "      <td>2025-09-24 02:38:55.452807+00:00</td>\n",
       "      <td>12.04</td>\n",
       "      <td>2025-09-24</td>\n",
       "    </tr>\n",
       "    <tr>\n",
       "      <th>19467</th>\n",
       "      <td>sell</td>\n",
       "      <td>1.0004</td>\n",
       "      <td>2025-09-24 02:55:51.173016+00:00</td>\n",
       "      <td>45.00</td>\n",
       "      <td>2025-09-24</td>\n",
       "    </tr>\n",
       "    <tr>\n",
       "      <th>19468</th>\n",
       "      <td>sell</td>\n",
       "      <td>1.0004</td>\n",
       "      <td>2025-09-24 02:55:51.174560+00:00</td>\n",
       "      <td>45.00</td>\n",
       "      <td>2025-09-24</td>\n",
       "    </tr>\n",
       "    <tr>\n",
       "      <th>19469</th>\n",
       "      <td>sell</td>\n",
       "      <td>1.0004</td>\n",
       "      <td>2025-09-24 02:55:51.398607+00:00</td>\n",
       "      <td>45.00</td>\n",
       "      <td>2025-09-24</td>\n",
       "    </tr>\n",
       "    <tr>\n",
       "      <th>19470</th>\n",
       "      <td>sell</td>\n",
       "      <td>1.0004</td>\n",
       "      <td>2025-09-24 02:55:51.401784+00:00</td>\n",
       "      <td>45.00</td>\n",
       "      <td>2025-09-24</td>\n",
       "    </tr>\n",
       "    <tr>\n",
       "      <th>19471</th>\n",
       "      <td>sell</td>\n",
       "      <td>1.0004</td>\n",
       "      <td>2025-09-24 02:55:51.622495+00:00</td>\n",
       "      <td>45.00</td>\n",
       "      <td>2025-09-24</td>\n",
       "    </tr>\n",
       "    <tr>\n",
       "      <th>19472</th>\n",
       "      <td>sell</td>\n",
       "      <td>1.0004</td>\n",
       "      <td>2025-09-24 02:55:54.842367+00:00</td>\n",
       "      <td>45.00</td>\n",
       "      <td>2025-09-24</td>\n",
       "    </tr>\n",
       "  </tbody>\n",
       "</table>\n",
       "</div>"
      ],
      "text/plain": [
       "       side   price                             time       size         day\n",
       "19456  sell  1.0004 2025-09-24 00:48:34.835177+00:00     422.98  2025-09-24\n",
       "19457  sell  1.0004 2025-09-24 00:48:46.689000+00:00     422.98  2025-09-24\n",
       "19458  sell  1.0004 2025-09-24 00:50:15.993753+00:00  292244.23  2025-09-24\n",
       "486     buy  1.0003 2025-09-24 00:57:00.353522+00:00     605.40  2025-09-24\n",
       "19459  sell  1.0004 2025-09-24 00:57:18.410859+00:00     689.03  2025-09-24\n",
       "2065    buy  1.0004 2025-09-24 00:57:42.978165+00:00     605.40  2025-09-24\n",
       "22524  sell  1.0005 2025-09-24 00:59:14.484352+00:00     689.03  2025-09-24\n",
       "22525  sell  1.0005 2025-09-24 00:59:21.190281+00:00     689.03  2025-09-24\n",
       "2066    buy  1.0004 2025-09-24 01:10:05.009753+00:00      45.00  2025-09-24\n",
       "2067    buy  1.0004 2025-09-24 01:10:05.021236+00:00      45.00  2025-09-24\n",
       "2068    buy  1.0004 2025-09-24 01:12:14.097939+00:00     197.17  2025-09-24\n",
       "22526  sell  1.0005 2025-09-24 01:13:58.742186+00:00     532.11  2025-09-24\n",
       "22527  sell  1.0005 2025-09-24 01:19:46.761139+00:00      26.49  2025-09-24\n",
       "2069    buy  1.0004 2025-09-24 01:24:40.595125+00:00     419.01  2025-09-24\n",
       "22528  sell  1.0005 2025-09-24 01:26:10.198573+00:00     261.74  2025-09-24\n",
       "2070    buy  1.0004 2025-09-24 01:27:23.684703+00:00     499.00  2025-09-24\n",
       "22529  sell  1.0005 2025-09-24 01:29:43.465764+00:00      80.11  2025-09-24\n",
       "22530  sell  1.0005 2025-09-24 01:34:28.549051+00:00     139.12  2025-09-24\n",
       "2071    buy  1.0004 2025-09-24 01:35:34.556776+00:00      45.00  2025-09-24\n",
       "2072    buy  1.0004 2025-09-24 01:35:34.825449+00:00      45.00  2025-09-24\n",
       "2073    buy  1.0004 2025-09-24 01:35:35.024246+00:00      45.00  2025-09-24\n",
       "2074    buy  1.0004 2025-09-24 01:35:35.033468+00:00      45.00  2025-09-24\n",
       "2075    buy  1.0004 2025-09-24 01:35:35.307962+00:00      45.00  2025-09-24\n",
       "2076    buy  1.0004 2025-09-24 01:35:35.539154+00:00      45.00  2025-09-24\n",
       "2077    buy  1.0004 2025-09-24 01:35:35.543066+00:00      45.00  2025-09-24\n",
       "2078    buy  1.0004 2025-09-24 01:35:35.766519+00:00      45.00  2025-09-24\n",
       "2079    buy  1.0004 2025-09-24 01:35:35.820390+00:00      45.00  2025-09-24\n",
       "2080    buy  1.0004 2025-09-24 01:35:36.269719+00:00      45.00  2025-09-24\n",
       "2081    buy  1.0004 2025-09-24 01:35:36.509920+00:00      45.00  2025-09-24\n",
       "2082    buy  1.0004 2025-09-24 01:35:36.521690+00:00      45.00  2025-09-24\n",
       "2083    buy  1.0004 2025-09-24 01:35:36.743258+00:00      45.00  2025-09-24\n",
       "2084    buy  1.0004 2025-09-24 01:35:36.748327+00:00      45.00  2025-09-24\n",
       "2085    buy  1.0004 2025-09-24 01:35:38.974552+00:00      45.00  2025-09-24\n",
       "2086    buy  1.0004 2025-09-24 01:40:13.401127+00:00      45.00  2025-09-24\n",
       "2087    buy  1.0004 2025-09-24 01:40:13.640462+00:00      30.00  2025-09-24\n",
       "19460  sell  1.0004 2025-09-24 01:47:46.607984+00:00       2.17  2025-09-24\n",
       "19461  sell  1.0004 2025-09-24 01:48:41.257556+00:00     308.70  2025-09-24\n",
       "19462  sell  1.0004 2025-09-24 01:51:09.315793+00:00     199.92  2025-09-24\n",
       "19463  sell  1.0004 2025-09-24 02:04:56.427489+00:00    2000.00  2025-09-24\n",
       "487     buy  1.0003 2025-09-24 02:23:10.880763+00:00     369.78  2025-09-24\n",
       "488     buy  1.0003 2025-09-24 02:24:01.532817+00:00      49.30  2025-09-24\n",
       "19464  sell  1.0004 2025-09-24 02:29:32.051050+00:00      13.12  2025-09-24\n",
       "19465  sell  1.0004 2025-09-24 02:34:52.455817+00:00     850.88  2025-09-24\n",
       "19466  sell  1.0004 2025-09-24 02:38:55.452807+00:00      12.04  2025-09-24\n",
       "19467  sell  1.0004 2025-09-24 02:55:51.173016+00:00      45.00  2025-09-24\n",
       "19468  sell  1.0004 2025-09-24 02:55:51.174560+00:00      45.00  2025-09-24\n",
       "19469  sell  1.0004 2025-09-24 02:55:51.398607+00:00      45.00  2025-09-24\n",
       "19470  sell  1.0004 2025-09-24 02:55:51.401784+00:00      45.00  2025-09-24\n",
       "19471  sell  1.0004 2025-09-24 02:55:51.622495+00:00      45.00  2025-09-24\n",
       "19472  sell  1.0004 2025-09-24 02:55:54.842367+00:00      45.00  2025-09-24"
      ]
     },
     "execution_count": 85,
     "metadata": {},
     "output_type": "execute_result"
    }
   ],
   "source": [
    "# Sort df by time\n",
    "df = df.sort_values('time')\n",
    "\n",
    "df.head(50)"
   ]
  },
  {
   "cell_type": "code",
   "execution_count": 89,
   "id": "603354e9",
   "metadata": {},
   "outputs": [
    {
     "data": {
      "application/vnd.plotly.v1+json": {
       "config": {
        "plotlyServerURL": "https://plot.ly"
       },
       "data": [
        {
         "hovertemplate": "price=%{x}<br>size=%{y}<extra></extra>",
         "legendgroup": "",
         "marker": {
          "color": "#636efa",
          "pattern": {
           "shape": ""
          }
         },
         "name": "",
         "orientation": "v",
         "showlegend": false,
         "textposition": "auto",
         "type": "bar",
         "x": {
          "bdata": "cayL22gA8D/iWBe30QDwP1MFo5I6AfA/xLEubqMB8D81XrpJDALwP6YKRiV1AvA/F7fRAN4C8D+IY13cRgPwP/kP6bevA/A/arx0kxgE8D8=",
          "dtype": "f8"
         },
         "xaxis": "x",
         "y": {
          "bdata": "H4XrIWU2U0Fcj8J1W7ZAQYXrUbidMEFBzczMzKuLRkHNzMyMsoldQVyPwnVSf1hB4XoUbsgsWkHD9ShccyVSQT0K16NA0CJB4noUro9dAkE=",
          "dtype": "f8"
         },
         "yaxis": "y"
        }
       ],
       "layout": {
        "barmode": "relative",
        "legend": {
         "tracegroupgap": 0
        },
        "margin": {
         "t": 60
        },
        "template": {
         "data": {
          "bar": [
           {
            "error_x": {
             "color": "#2a3f5f"
            },
            "error_y": {
             "color": "#2a3f5f"
            },
            "marker": {
             "line": {
              "color": "#E5ECF6",
              "width": 0.5
             },
             "pattern": {
              "fillmode": "overlay",
              "size": 10,
              "solidity": 0.2
             }
            },
            "type": "bar"
           }
          ],
          "barpolar": [
           {
            "marker": {
             "line": {
              "color": "#E5ECF6",
              "width": 0.5
             },
             "pattern": {
              "fillmode": "overlay",
              "size": 10,
              "solidity": 0.2
             }
            },
            "type": "barpolar"
           }
          ],
          "carpet": [
           {
            "aaxis": {
             "endlinecolor": "#2a3f5f",
             "gridcolor": "white",
             "linecolor": "white",
             "minorgridcolor": "white",
             "startlinecolor": "#2a3f5f"
            },
            "baxis": {
             "endlinecolor": "#2a3f5f",
             "gridcolor": "white",
             "linecolor": "white",
             "minorgridcolor": "white",
             "startlinecolor": "#2a3f5f"
            },
            "type": "carpet"
           }
          ],
          "choropleth": [
           {
            "colorbar": {
             "outlinewidth": 0,
             "ticks": ""
            },
            "type": "choropleth"
           }
          ],
          "contour": [
           {
            "colorbar": {
             "outlinewidth": 0,
             "ticks": ""
            },
            "colorscale": [
             [
              0,
              "#0d0887"
             ],
             [
              0.1111111111111111,
              "#46039f"
             ],
             [
              0.2222222222222222,
              "#7201a8"
             ],
             [
              0.3333333333333333,
              "#9c179e"
             ],
             [
              0.4444444444444444,
              "#bd3786"
             ],
             [
              0.5555555555555556,
              "#d8576b"
             ],
             [
              0.6666666666666666,
              "#ed7953"
             ],
             [
              0.7777777777777778,
              "#fb9f3a"
             ],
             [
              0.8888888888888888,
              "#fdca26"
             ],
             [
              1,
              "#f0f921"
             ]
            ],
            "type": "contour"
           }
          ],
          "contourcarpet": [
           {
            "colorbar": {
             "outlinewidth": 0,
             "ticks": ""
            },
            "type": "contourcarpet"
           }
          ],
          "heatmap": [
           {
            "colorbar": {
             "outlinewidth": 0,
             "ticks": ""
            },
            "colorscale": [
             [
              0,
              "#0d0887"
             ],
             [
              0.1111111111111111,
              "#46039f"
             ],
             [
              0.2222222222222222,
              "#7201a8"
             ],
             [
              0.3333333333333333,
              "#9c179e"
             ],
             [
              0.4444444444444444,
              "#bd3786"
             ],
             [
              0.5555555555555556,
              "#d8576b"
             ],
             [
              0.6666666666666666,
              "#ed7953"
             ],
             [
              0.7777777777777778,
              "#fb9f3a"
             ],
             [
              0.8888888888888888,
              "#fdca26"
             ],
             [
              1,
              "#f0f921"
             ]
            ],
            "type": "heatmap"
           }
          ],
          "histogram": [
           {
            "marker": {
             "pattern": {
              "fillmode": "overlay",
              "size": 10,
              "solidity": 0.2
             }
            },
            "type": "histogram"
           }
          ],
          "histogram2d": [
           {
            "colorbar": {
             "outlinewidth": 0,
             "ticks": ""
            },
            "colorscale": [
             [
              0,
              "#0d0887"
             ],
             [
              0.1111111111111111,
              "#46039f"
             ],
             [
              0.2222222222222222,
              "#7201a8"
             ],
             [
              0.3333333333333333,
              "#9c179e"
             ],
             [
              0.4444444444444444,
              "#bd3786"
             ],
             [
              0.5555555555555556,
              "#d8576b"
             ],
             [
              0.6666666666666666,
              "#ed7953"
             ],
             [
              0.7777777777777778,
              "#fb9f3a"
             ],
             [
              0.8888888888888888,
              "#fdca26"
             ],
             [
              1,
              "#f0f921"
             ]
            ],
            "type": "histogram2d"
           }
          ],
          "histogram2dcontour": [
           {
            "colorbar": {
             "outlinewidth": 0,
             "ticks": ""
            },
            "colorscale": [
             [
              0,
              "#0d0887"
             ],
             [
              0.1111111111111111,
              "#46039f"
             ],
             [
              0.2222222222222222,
              "#7201a8"
             ],
             [
              0.3333333333333333,
              "#9c179e"
             ],
             [
              0.4444444444444444,
              "#bd3786"
             ],
             [
              0.5555555555555556,
              "#d8576b"
             ],
             [
              0.6666666666666666,
              "#ed7953"
             ],
             [
              0.7777777777777778,
              "#fb9f3a"
             ],
             [
              0.8888888888888888,
              "#fdca26"
             ],
             [
              1,
              "#f0f921"
             ]
            ],
            "type": "histogram2dcontour"
           }
          ],
          "mesh3d": [
           {
            "colorbar": {
             "outlinewidth": 0,
             "ticks": ""
            },
            "type": "mesh3d"
           }
          ],
          "parcoords": [
           {
            "line": {
             "colorbar": {
              "outlinewidth": 0,
              "ticks": ""
             }
            },
            "type": "parcoords"
           }
          ],
          "pie": [
           {
            "automargin": true,
            "type": "pie"
           }
          ],
          "scatter": [
           {
            "fillpattern": {
             "fillmode": "overlay",
             "size": 10,
             "solidity": 0.2
            },
            "type": "scatter"
           }
          ],
          "scatter3d": [
           {
            "line": {
             "colorbar": {
              "outlinewidth": 0,
              "ticks": ""
             }
            },
            "marker": {
             "colorbar": {
              "outlinewidth": 0,
              "ticks": ""
             }
            },
            "type": "scatter3d"
           }
          ],
          "scattercarpet": [
           {
            "marker": {
             "colorbar": {
              "outlinewidth": 0,
              "ticks": ""
             }
            },
            "type": "scattercarpet"
           }
          ],
          "scattergeo": [
           {
            "marker": {
             "colorbar": {
              "outlinewidth": 0,
              "ticks": ""
             }
            },
            "type": "scattergeo"
           }
          ],
          "scattergl": [
           {
            "marker": {
             "colorbar": {
              "outlinewidth": 0,
              "ticks": ""
             }
            },
            "type": "scattergl"
           }
          ],
          "scattermap": [
           {
            "marker": {
             "colorbar": {
              "outlinewidth": 0,
              "ticks": ""
             }
            },
            "type": "scattermap"
           }
          ],
          "scattermapbox": [
           {
            "marker": {
             "colorbar": {
              "outlinewidth": 0,
              "ticks": ""
             }
            },
            "type": "scattermapbox"
           }
          ],
          "scatterpolar": [
           {
            "marker": {
             "colorbar": {
              "outlinewidth": 0,
              "ticks": ""
             }
            },
            "type": "scatterpolar"
           }
          ],
          "scatterpolargl": [
           {
            "marker": {
             "colorbar": {
              "outlinewidth": 0,
              "ticks": ""
             }
            },
            "type": "scatterpolargl"
           }
          ],
          "scatterternary": [
           {
            "marker": {
             "colorbar": {
              "outlinewidth": 0,
              "ticks": ""
             }
            },
            "type": "scatterternary"
           }
          ],
          "surface": [
           {
            "colorbar": {
             "outlinewidth": 0,
             "ticks": ""
            },
            "colorscale": [
             [
              0,
              "#0d0887"
             ],
             [
              0.1111111111111111,
              "#46039f"
             ],
             [
              0.2222222222222222,
              "#7201a8"
             ],
             [
              0.3333333333333333,
              "#9c179e"
             ],
             [
              0.4444444444444444,
              "#bd3786"
             ],
             [
              0.5555555555555556,
              "#d8576b"
             ],
             [
              0.6666666666666666,
              "#ed7953"
             ],
             [
              0.7777777777777778,
              "#fb9f3a"
             ],
             [
              0.8888888888888888,
              "#fdca26"
             ],
             [
              1,
              "#f0f921"
             ]
            ],
            "type": "surface"
           }
          ],
          "table": [
           {
            "cells": {
             "fill": {
              "color": "#EBF0F8"
             },
             "line": {
              "color": "white"
             }
            },
            "header": {
             "fill": {
              "color": "#C8D4E3"
             },
             "line": {
              "color": "white"
             }
            },
            "type": "table"
           }
          ]
         },
         "layout": {
          "annotationdefaults": {
           "arrowcolor": "#2a3f5f",
           "arrowhead": 0,
           "arrowwidth": 1
          },
          "autotypenumbers": "strict",
          "coloraxis": {
           "colorbar": {
            "outlinewidth": 0,
            "ticks": ""
           }
          },
          "colorscale": {
           "diverging": [
            [
             0,
             "#8e0152"
            ],
            [
             0.1,
             "#c51b7d"
            ],
            [
             0.2,
             "#de77ae"
            ],
            [
             0.3,
             "#f1b6da"
            ],
            [
             0.4,
             "#fde0ef"
            ],
            [
             0.5,
             "#f7f7f7"
            ],
            [
             0.6,
             "#e6f5d0"
            ],
            [
             0.7,
             "#b8e186"
            ],
            [
             0.8,
             "#7fbc41"
            ],
            [
             0.9,
             "#4d9221"
            ],
            [
             1,
             "#276419"
            ]
           ],
           "sequential": [
            [
             0,
             "#0d0887"
            ],
            [
             0.1111111111111111,
             "#46039f"
            ],
            [
             0.2222222222222222,
             "#7201a8"
            ],
            [
             0.3333333333333333,
             "#9c179e"
            ],
            [
             0.4444444444444444,
             "#bd3786"
            ],
            [
             0.5555555555555556,
             "#d8576b"
            ],
            [
             0.6666666666666666,
             "#ed7953"
            ],
            [
             0.7777777777777778,
             "#fb9f3a"
            ],
            [
             0.8888888888888888,
             "#fdca26"
            ],
            [
             1,
             "#f0f921"
            ]
           ],
           "sequentialminus": [
            [
             0,
             "#0d0887"
            ],
            [
             0.1111111111111111,
             "#46039f"
            ],
            [
             0.2222222222222222,
             "#7201a8"
            ],
            [
             0.3333333333333333,
             "#9c179e"
            ],
            [
             0.4444444444444444,
             "#bd3786"
            ],
            [
             0.5555555555555556,
             "#d8576b"
            ],
            [
             0.6666666666666666,
             "#ed7953"
            ],
            [
             0.7777777777777778,
             "#fb9f3a"
            ],
            [
             0.8888888888888888,
             "#fdca26"
            ],
            [
             1,
             "#f0f921"
            ]
           ]
          },
          "colorway": [
           "#636efa",
           "#EF553B",
           "#00cc96",
           "#ab63fa",
           "#FFA15A",
           "#19d3f3",
           "#FF6692",
           "#B6E880",
           "#FF97FF",
           "#FECB52"
          ],
          "font": {
           "color": "#2a3f5f"
          },
          "geo": {
           "bgcolor": "white",
           "lakecolor": "white",
           "landcolor": "#E5ECF6",
           "showlakes": true,
           "showland": true,
           "subunitcolor": "white"
          },
          "hoverlabel": {
           "align": "left"
          },
          "hovermode": "closest",
          "mapbox": {
           "style": "light"
          },
          "paper_bgcolor": "white",
          "plot_bgcolor": "#E5ECF6",
          "polar": {
           "angularaxis": {
            "gridcolor": "white",
            "linecolor": "white",
            "ticks": ""
           },
           "bgcolor": "#E5ECF6",
           "radialaxis": {
            "gridcolor": "white",
            "linecolor": "white",
            "ticks": ""
           }
          },
          "scene": {
           "xaxis": {
            "backgroundcolor": "#E5ECF6",
            "gridcolor": "white",
            "gridwidth": 2,
            "linecolor": "white",
            "showbackground": true,
            "ticks": "",
            "zerolinecolor": "white"
           },
           "yaxis": {
            "backgroundcolor": "#E5ECF6",
            "gridcolor": "white",
            "gridwidth": 2,
            "linecolor": "white",
            "showbackground": true,
            "ticks": "",
            "zerolinecolor": "white"
           },
           "zaxis": {
            "backgroundcolor": "#E5ECF6",
            "gridcolor": "white",
            "gridwidth": 2,
            "linecolor": "white",
            "showbackground": true,
            "ticks": "",
            "zerolinecolor": "white"
           }
          },
          "shapedefaults": {
           "line": {
            "color": "#2a3f5f"
           }
          },
          "ternary": {
           "aaxis": {
            "gridcolor": "white",
            "linecolor": "white",
            "ticks": ""
           },
           "baxis": {
            "gridcolor": "white",
            "linecolor": "white",
            "ticks": ""
           },
           "bgcolor": "#E5ECF6",
           "caxis": {
            "gridcolor": "white",
            "linecolor": "white",
            "ticks": ""
           }
          },
          "title": {
           "x": 0.05
          },
          "xaxis": {
           "automargin": true,
           "gridcolor": "white",
           "linecolor": "white",
           "ticks": "",
           "title": {
            "standoff": 15
           },
           "zerolinecolor": "white",
           "zerolinewidth": 2
          },
          "yaxis": {
           "automargin": true,
           "gridcolor": "white",
           "linecolor": "white",
           "ticks": "",
           "title": {
            "standoff": 15
           },
           "zerolinecolor": "white",
           "zerolinewidth": 2
          }
         }
        },
        "xaxis": {
         "anchor": "y",
         "domain": [
          0,
          1
         ],
         "title": {
          "text": "price"
         }
        },
        "yaxis": {
         "anchor": "x",
         "domain": [
          0,
          1
         ],
         "title": {
          "text": "size"
         }
        }
       }
      }
     },
     "metadata": {},
     "output_type": "display_data"
    }
   ],
   "source": [
    "# Group by price and sum the size\n",
    "df_price_sum = df.groupby('price')['size'].sum()\n",
    "# Fix the index\n",
    "df_price_sum = df_price_sum.reset_index()\n",
    "\n",
    "# Plot the price vs the sum of the size\n",
    "px.bar(df_price_sum, x='price', y='size')\n"
   ]
  },
  {
   "cell_type": "code",
   "execution_count": 90,
   "id": "4664e5ec",
   "metadata": {},
   "outputs": [
    {
     "data": {
      "application/vnd.plotly.v1+json": {
       "config": {
        "plotlyServerURL": "https://plot.ly"
       },
       "data": [
        {
         "hovertemplate": "price=%{x}<br>size=%{y}<extra></extra>",
         "legendgroup": "",
         "marker": {
          "color": "#636efa",
          "pattern": {
           "shape": ""
          }
         },
         "name": "",
         "orientation": "v",
         "showlegend": false,
         "textposition": "auto",
         "type": "bar",
         "x": {
          "bdata": "cayL22gA8D/iWBe30QDwP1MFo5I6AfA/xLEubqMB8D81XrpJDALwP6YKRiV1AvA/F7fRAN4C8D+IY13cRgPwP/kP6bevA/A/arx0kxgE8D8=",
          "dtype": "f8"
         },
         "xaxis": "x",
         "y": {
          "bdata": "owDzAi8K7BCAJC0rIBM+E4MPiQA=",
          "dtype": "i2"
         },
         "yaxis": "y"
        }
       ],
       "layout": {
        "barmode": "relative",
        "legend": {
         "tracegroupgap": 0
        },
        "margin": {
         "t": 60
        },
        "template": {
         "data": {
          "bar": [
           {
            "error_x": {
             "color": "#2a3f5f"
            },
            "error_y": {
             "color": "#2a3f5f"
            },
            "marker": {
             "line": {
              "color": "#E5ECF6",
              "width": 0.5
             },
             "pattern": {
              "fillmode": "overlay",
              "size": 10,
              "solidity": 0.2
             }
            },
            "type": "bar"
           }
          ],
          "barpolar": [
           {
            "marker": {
             "line": {
              "color": "#E5ECF6",
              "width": 0.5
             },
             "pattern": {
              "fillmode": "overlay",
              "size": 10,
              "solidity": 0.2
             }
            },
            "type": "barpolar"
           }
          ],
          "carpet": [
           {
            "aaxis": {
             "endlinecolor": "#2a3f5f",
             "gridcolor": "white",
             "linecolor": "white",
             "minorgridcolor": "white",
             "startlinecolor": "#2a3f5f"
            },
            "baxis": {
             "endlinecolor": "#2a3f5f",
             "gridcolor": "white",
             "linecolor": "white",
             "minorgridcolor": "white",
             "startlinecolor": "#2a3f5f"
            },
            "type": "carpet"
           }
          ],
          "choropleth": [
           {
            "colorbar": {
             "outlinewidth": 0,
             "ticks": ""
            },
            "type": "choropleth"
           }
          ],
          "contour": [
           {
            "colorbar": {
             "outlinewidth": 0,
             "ticks": ""
            },
            "colorscale": [
             [
              0,
              "#0d0887"
             ],
             [
              0.1111111111111111,
              "#46039f"
             ],
             [
              0.2222222222222222,
              "#7201a8"
             ],
             [
              0.3333333333333333,
              "#9c179e"
             ],
             [
              0.4444444444444444,
              "#bd3786"
             ],
             [
              0.5555555555555556,
              "#d8576b"
             ],
             [
              0.6666666666666666,
              "#ed7953"
             ],
             [
              0.7777777777777778,
              "#fb9f3a"
             ],
             [
              0.8888888888888888,
              "#fdca26"
             ],
             [
              1,
              "#f0f921"
             ]
            ],
            "type": "contour"
           }
          ],
          "contourcarpet": [
           {
            "colorbar": {
             "outlinewidth": 0,
             "ticks": ""
            },
            "type": "contourcarpet"
           }
          ],
          "heatmap": [
           {
            "colorbar": {
             "outlinewidth": 0,
             "ticks": ""
            },
            "colorscale": [
             [
              0,
              "#0d0887"
             ],
             [
              0.1111111111111111,
              "#46039f"
             ],
             [
              0.2222222222222222,
              "#7201a8"
             ],
             [
              0.3333333333333333,
              "#9c179e"
             ],
             [
              0.4444444444444444,
              "#bd3786"
             ],
             [
              0.5555555555555556,
              "#d8576b"
             ],
             [
              0.6666666666666666,
              "#ed7953"
             ],
             [
              0.7777777777777778,
              "#fb9f3a"
             ],
             [
              0.8888888888888888,
              "#fdca26"
             ],
             [
              1,
              "#f0f921"
             ]
            ],
            "type": "heatmap"
           }
          ],
          "histogram": [
           {
            "marker": {
             "pattern": {
              "fillmode": "overlay",
              "size": 10,
              "solidity": 0.2
             }
            },
            "type": "histogram"
           }
          ],
          "histogram2d": [
           {
            "colorbar": {
             "outlinewidth": 0,
             "ticks": ""
            },
            "colorscale": [
             [
              0,
              "#0d0887"
             ],
             [
              0.1111111111111111,
              "#46039f"
             ],
             [
              0.2222222222222222,
              "#7201a8"
             ],
             [
              0.3333333333333333,
              "#9c179e"
             ],
             [
              0.4444444444444444,
              "#bd3786"
             ],
             [
              0.5555555555555556,
              "#d8576b"
             ],
             [
              0.6666666666666666,
              "#ed7953"
             ],
             [
              0.7777777777777778,
              "#fb9f3a"
             ],
             [
              0.8888888888888888,
              "#fdca26"
             ],
             [
              1,
              "#f0f921"
             ]
            ],
            "type": "histogram2d"
           }
          ],
          "histogram2dcontour": [
           {
            "colorbar": {
             "outlinewidth": 0,
             "ticks": ""
            },
            "colorscale": [
             [
              0,
              "#0d0887"
             ],
             [
              0.1111111111111111,
              "#46039f"
             ],
             [
              0.2222222222222222,
              "#7201a8"
             ],
             [
              0.3333333333333333,
              "#9c179e"
             ],
             [
              0.4444444444444444,
              "#bd3786"
             ],
             [
              0.5555555555555556,
              "#d8576b"
             ],
             [
              0.6666666666666666,
              "#ed7953"
             ],
             [
              0.7777777777777778,
              "#fb9f3a"
             ],
             [
              0.8888888888888888,
              "#fdca26"
             ],
             [
              1,
              "#f0f921"
             ]
            ],
            "type": "histogram2dcontour"
           }
          ],
          "mesh3d": [
           {
            "colorbar": {
             "outlinewidth": 0,
             "ticks": ""
            },
            "type": "mesh3d"
           }
          ],
          "parcoords": [
           {
            "line": {
             "colorbar": {
              "outlinewidth": 0,
              "ticks": ""
             }
            },
            "type": "parcoords"
           }
          ],
          "pie": [
           {
            "automargin": true,
            "type": "pie"
           }
          ],
          "scatter": [
           {
            "fillpattern": {
             "fillmode": "overlay",
             "size": 10,
             "solidity": 0.2
            },
            "type": "scatter"
           }
          ],
          "scatter3d": [
           {
            "line": {
             "colorbar": {
              "outlinewidth": 0,
              "ticks": ""
             }
            },
            "marker": {
             "colorbar": {
              "outlinewidth": 0,
              "ticks": ""
             }
            },
            "type": "scatter3d"
           }
          ],
          "scattercarpet": [
           {
            "marker": {
             "colorbar": {
              "outlinewidth": 0,
              "ticks": ""
             }
            },
            "type": "scattercarpet"
           }
          ],
          "scattergeo": [
           {
            "marker": {
             "colorbar": {
              "outlinewidth": 0,
              "ticks": ""
             }
            },
            "type": "scattergeo"
           }
          ],
          "scattergl": [
           {
            "marker": {
             "colorbar": {
              "outlinewidth": 0,
              "ticks": ""
             }
            },
            "type": "scattergl"
           }
          ],
          "scattermap": [
           {
            "marker": {
             "colorbar": {
              "outlinewidth": 0,
              "ticks": ""
             }
            },
            "type": "scattermap"
           }
          ],
          "scattermapbox": [
           {
            "marker": {
             "colorbar": {
              "outlinewidth": 0,
              "ticks": ""
             }
            },
            "type": "scattermapbox"
           }
          ],
          "scatterpolar": [
           {
            "marker": {
             "colorbar": {
              "outlinewidth": 0,
              "ticks": ""
             }
            },
            "type": "scatterpolar"
           }
          ],
          "scatterpolargl": [
           {
            "marker": {
             "colorbar": {
              "outlinewidth": 0,
              "ticks": ""
             }
            },
            "type": "scatterpolargl"
           }
          ],
          "scatterternary": [
           {
            "marker": {
             "colorbar": {
              "outlinewidth": 0,
              "ticks": ""
             }
            },
            "type": "scatterternary"
           }
          ],
          "surface": [
           {
            "colorbar": {
             "outlinewidth": 0,
             "ticks": ""
            },
            "colorscale": [
             [
              0,
              "#0d0887"
             ],
             [
              0.1111111111111111,
              "#46039f"
             ],
             [
              0.2222222222222222,
              "#7201a8"
             ],
             [
              0.3333333333333333,
              "#9c179e"
             ],
             [
              0.4444444444444444,
              "#bd3786"
             ],
             [
              0.5555555555555556,
              "#d8576b"
             ],
             [
              0.6666666666666666,
              "#ed7953"
             ],
             [
              0.7777777777777778,
              "#fb9f3a"
             ],
             [
              0.8888888888888888,
              "#fdca26"
             ],
             [
              1,
              "#f0f921"
             ]
            ],
            "type": "surface"
           }
          ],
          "table": [
           {
            "cells": {
             "fill": {
              "color": "#EBF0F8"
             },
             "line": {
              "color": "white"
             }
            },
            "header": {
             "fill": {
              "color": "#C8D4E3"
             },
             "line": {
              "color": "white"
             }
            },
            "type": "table"
           }
          ]
         },
         "layout": {
          "annotationdefaults": {
           "arrowcolor": "#2a3f5f",
           "arrowhead": 0,
           "arrowwidth": 1
          },
          "autotypenumbers": "strict",
          "coloraxis": {
           "colorbar": {
            "outlinewidth": 0,
            "ticks": ""
           }
          },
          "colorscale": {
           "diverging": [
            [
             0,
             "#8e0152"
            ],
            [
             0.1,
             "#c51b7d"
            ],
            [
             0.2,
             "#de77ae"
            ],
            [
             0.3,
             "#f1b6da"
            ],
            [
             0.4,
             "#fde0ef"
            ],
            [
             0.5,
             "#f7f7f7"
            ],
            [
             0.6,
             "#e6f5d0"
            ],
            [
             0.7,
             "#b8e186"
            ],
            [
             0.8,
             "#7fbc41"
            ],
            [
             0.9,
             "#4d9221"
            ],
            [
             1,
             "#276419"
            ]
           ],
           "sequential": [
            [
             0,
             "#0d0887"
            ],
            [
             0.1111111111111111,
             "#46039f"
            ],
            [
             0.2222222222222222,
             "#7201a8"
            ],
            [
             0.3333333333333333,
             "#9c179e"
            ],
            [
             0.4444444444444444,
             "#bd3786"
            ],
            [
             0.5555555555555556,
             "#d8576b"
            ],
            [
             0.6666666666666666,
             "#ed7953"
            ],
            [
             0.7777777777777778,
             "#fb9f3a"
            ],
            [
             0.8888888888888888,
             "#fdca26"
            ],
            [
             1,
             "#f0f921"
            ]
           ],
           "sequentialminus": [
            [
             0,
             "#0d0887"
            ],
            [
             0.1111111111111111,
             "#46039f"
            ],
            [
             0.2222222222222222,
             "#7201a8"
            ],
            [
             0.3333333333333333,
             "#9c179e"
            ],
            [
             0.4444444444444444,
             "#bd3786"
            ],
            [
             0.5555555555555556,
             "#d8576b"
            ],
            [
             0.6666666666666666,
             "#ed7953"
            ],
            [
             0.7777777777777778,
             "#fb9f3a"
            ],
            [
             0.8888888888888888,
             "#fdca26"
            ],
            [
             1,
             "#f0f921"
            ]
           ]
          },
          "colorway": [
           "#636efa",
           "#EF553B",
           "#00cc96",
           "#ab63fa",
           "#FFA15A",
           "#19d3f3",
           "#FF6692",
           "#B6E880",
           "#FF97FF",
           "#FECB52"
          ],
          "font": {
           "color": "#2a3f5f"
          },
          "geo": {
           "bgcolor": "white",
           "lakecolor": "white",
           "landcolor": "#E5ECF6",
           "showlakes": true,
           "showland": true,
           "subunitcolor": "white"
          },
          "hoverlabel": {
           "align": "left"
          },
          "hovermode": "closest",
          "mapbox": {
           "style": "light"
          },
          "paper_bgcolor": "white",
          "plot_bgcolor": "#E5ECF6",
          "polar": {
           "angularaxis": {
            "gridcolor": "white",
            "linecolor": "white",
            "ticks": ""
           },
           "bgcolor": "#E5ECF6",
           "radialaxis": {
            "gridcolor": "white",
            "linecolor": "white",
            "ticks": ""
           }
          },
          "scene": {
           "xaxis": {
            "backgroundcolor": "#E5ECF6",
            "gridcolor": "white",
            "gridwidth": 2,
            "linecolor": "white",
            "showbackground": true,
            "ticks": "",
            "zerolinecolor": "white"
           },
           "yaxis": {
            "backgroundcolor": "#E5ECF6",
            "gridcolor": "white",
            "gridwidth": 2,
            "linecolor": "white",
            "showbackground": true,
            "ticks": "",
            "zerolinecolor": "white"
           },
           "zaxis": {
            "backgroundcolor": "#E5ECF6",
            "gridcolor": "white",
            "gridwidth": 2,
            "linecolor": "white",
            "showbackground": true,
            "ticks": "",
            "zerolinecolor": "white"
           }
          },
          "shapedefaults": {
           "line": {
            "color": "#2a3f5f"
           }
          },
          "ternary": {
           "aaxis": {
            "gridcolor": "white",
            "linecolor": "white",
            "ticks": ""
           },
           "baxis": {
            "gridcolor": "white",
            "linecolor": "white",
            "ticks": ""
           },
           "bgcolor": "#E5ECF6",
           "caxis": {
            "gridcolor": "white",
            "linecolor": "white",
            "ticks": ""
           }
          },
          "title": {
           "x": 0.05
          },
          "xaxis": {
           "automargin": true,
           "gridcolor": "white",
           "linecolor": "white",
           "ticks": "",
           "title": {
            "standoff": 15
           },
           "zerolinecolor": "white",
           "zerolinewidth": 2
          },
          "yaxis": {
           "automargin": true,
           "gridcolor": "white",
           "linecolor": "white",
           "ticks": "",
           "title": {
            "standoff": 15
           },
           "zerolinecolor": "white",
           "zerolinewidth": 2
          }
         }
        },
        "xaxis": {
         "anchor": "y",
         "domain": [
          0,
          1
         ],
         "title": {
          "text": "price"
         }
        },
        "yaxis": {
         "anchor": "x",
         "domain": [
          0,
          1
         ],
         "title": {
          "text": "size"
         }
        }
       }
      }
     },
     "metadata": {},
     "output_type": "display_data"
    }
   ],
   "source": [
    "# Group by price and sum the size\n",
    "df_price_sum = df.groupby('price')['size'].count()\n",
    "# Fix the index\n",
    "df_price_sum = df_price_sum.reset_index()\n",
    "\n",
    "# Plot the price vs the sum of the size\n",
    "px.bar(df_price_sum, x='price', y='size')\n"
   ]
  },
  {
   "cell_type": "code",
   "execution_count": 87,
   "id": "b8e7ec40",
   "metadata": {},
   "outputs": [],
   "source": [
    "# Convert time to datetime\n",
    "df['time'] = pd.to_datetime(df['time'])\n",
    "\n",
    "# Sort by time to ensure correct time difference calculation\n",
    "df = df.sort_values('time')\n",
    "\n",
    "# Group by day and price\n",
    "groups = df.groupby(['day', 'price'])\n",
    "\n",
    "# Calculate time differences for each group\n",
    "time_diffs_by_group = {}\n",
    "for (day, price), group in groups:\n",
    "    # Calculate time differences in seconds\n",
    "    time_diffs = group['time'].diff().dt.total_seconds()\n",
    "    # Remove NaN (first entry in each group)\n",
    "    time_diffs = time_diffs.dropna()\n",
    "    if len(time_diffs) > 0:  # Only store if we have time differences\n",
    "        time_diffs_by_group[(day, price)] = time_diffs\n",
    "\n",
    "# Count number of unique days and prices for subplot layout\n",
    "unique_days = df['day'].nunique()\n",
    "unique_prices = df['price'].nunique()\n",
    "\n",
    "# Create subplots - one row per day, one column per unique price\n",
    "# First, get unique days and prices sorted\n",
    "unique_days = sorted(df['day'].unique())\n",
    "unique_prices = sorted(df['price'].unique())\n"
   ]
  },
  {
   "cell_type": "code",
   "execution_count": 88,
   "id": "5ad9a7f2",
   "metadata": {},
   "outputs": [
    {
     "data": {
      "application/vnd.plotly.v1+json": {
       "config": {
        "plotlyServerURL": "https://plot.ly"
       },
       "data": [
        {
         "boxpoints": false,
         "name": "2025-09-24, 1.000200",
         "showlegend": false,
         "showwhiskers": false,
         "type": "box",
         "xaxis": "x2",
         "y": {
          "bdata": "iIGufZH2pEBFDhE3p5LNPy5ZFeEmo8w/XWqEfqZehz9mahK8IY3dP1zGTQ00n5M/qHAEqRQ7zj/TZpyGqMJ/Px9I3jmUodI/RE/KpIY2kD8XLUDbatbQP/ncCfZf55Y/oib6fJQR0z+0xwvp8BCWP5SilXuBWcs/ZcQFoFG6hD9Eh8CRQIPPP9YBEHf1KoI/A7ABEeLKyz9QcLGiBtOAP+ZAD7VtGNM/a+9TVWggZj+gTnl0IyzQP6SnyCHi5nQ/t+7mqQ65zT9qSx3k9WByP5d1/1iIDs8/esVTjzRYBEA6sBwhA3mGP8oyxLEubs0/gEbp0r8khT9RLSKKyRvQP/yLoDGTqHc/BMsRMpBn1j/gumJGeHuAP0kPQ6uTM9A/EhPU8C2sez/m54am7PTRP6lNnNzvUFQ/3LjF/NzQzj+lTkATYcNzP87Cnnb4a8w/gXaHFAMk0T8E5Euo4HDgP2nEzD6PUW4/ZoNMMnIW0T9Xl1MCYhLRPxr8/WK2ZHU/DoKOVrWk1j/cYn5uaMrRP0q4kEdwI9A/GCR9WkV/3j9JFFrW/WPQP4QpyqXxC88/T64pkNlZhD97Ss6JPbTNP4wQHm0csVY/jln2JLA5zT+1xMpo5PPRP7r0L0lliok/qrab4Jumyz8jvajdrwKcPxVSflLt080/3uhjPiDQiT9SmWIOgo7eP0YHJGHfTs4/a+9TVWgglj8eozzzctjQP1Fmg0wy8uo/G7gDdcqjaz/4NCcvMgHQP35yFCAKZpw/g4b+CS5WzD9XCKuxhLWBP7Pr3oosAqFAxXQhVn+EkT/Rd7eyRGfJPyHOwwlMp90/rROX4xWIfj/gvDjx1Y7MPyWuY1xxcXQ/GED4UKIlzz9W9fI7TWaMPzFBDd/Cuss/3NjsSPWdfz9e2JqtvEQcQNWvdD48S4A/zuLFwhA53j/zVIfcDDeQP1kxXB0Acc0/8gwa+ie4eD/ThVj9EQbgP3xETIkkemk/Ukgyq3e4yz+vXG+bqRCfPxWRYRVvZNA/GvonuFhRkz+mSL4SSInLP2FxOPOrObA/lgoqqn6l3T/4/gbt1cfJP0z/klSmmNA//mK2ZFWEez9keVc9YB7dP1uyKsJNRpU/V1wclZvIKkD1nV+UoL9wP9U8R+S7lNE/w2UVNgNcgD940VeQZizKP/dZZaa0/mY/UrmJWppbzz//lZUmpaB7PwQAx549l8k/85GU9DC0mj8OFeP8TSjTP2k4ZW6+Ec0/sd8T61T5bj80LhwIyQLMP5qxaDo7GWw/kwA1tWytzz+85lWd1QLNP4TVWMLaGM0/9fQR+MPPzz8cJa/OMSCLP0rToGgewMw/8YKI1LSLzT9PCB10CYd+PyXoL/SI0ck/K21xjc9kzz/bheY6jbSEPw7Xag97oc4/KEcBomDGZD+YTus2iHegQA==",
          "dtype": "f8"
         },
         "yaxis": "y2"
        },
        {
         "boxpoints": false,
         "name": "2025-09-24, 1.000300",
         "showlegend": false,
         "showwhiskers": false,
         "type": "box",
         "xaxis": "x3",
         "y": {
          "bdata": "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",
          "dtype": "f8"
         },
         "yaxis": "y3"
        },
        {
         "boxpoints": false,
         "name": "2025-09-24, 1.000400",
         "showlegend": false,
         "showwhiskers": false,
         "type": "box",
         "xaxis": "x4",
         "y": {
          "bdata": "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",
          "dtype": "f8"
         },
         "yaxis": "y4"
        },
        {
         "boxpoints": false,
         "name": "2025-09-24, 1.000500",
         "showlegend": false,
         "showwhiskers": false,
         "type": "box",
         "xaxis": "x5",
         "y": {
          "bdata": "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",
          "dtype": "f8"
         },
         "yaxis": "y5"
        },
        {
         "boxpoints": false,
         "name": "2025-09-24, 1.000600",
         "showlegend": false,
         "showwhiskers": false,
         "type": "box",
         "xaxis": "x6",
         "y": {
          "bdata": "k8SScjf3jUDT9NkBTQnYQOKS406tAMZA3gVKCiyaakDkLsIUtQqlQN1FmKLEyaJAWVLuPgfbkUDiAzv+C4pQQDqvsUtU7y5ApfljWpumF0DnVZ3VAgFZQL9/8+JujspAU84Xe69VYUDzABb59XNJQA==",
          "dtype": "f8"
         },
         "yaxis": "y6"
        },
        {
         "boxpoints": false,
         "name": "2025-09-25, 1.000100",
         "showlegend": false,
         "showwhiskers": false,
         "type": "box",
         "xaxis": "x11",
         "y": {
          "bdata": "4zjwahmChkAuxsA6doOhQIy9F18UCoRANBE2PJ3UkUA=",
          "dtype": "f8"
         },
         "yaxis": "y11"
        },
        {
         "boxpoints": false,
         "name": "2025-09-25, 1.000200",
         "showlegend": false,
         "showwhiskers": false,
         "type": "box",
         "xaxis": "x12",
         "y": {
          "bdata": "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",
          "dtype": "f8"
         },
         "yaxis": "y12"
        },
        {
         "boxpoints": false,
         "name": "2025-09-25, 1.000300",
         "showlegend": false,
         "showwhiskers": false,
         "type": "box",
         "xaxis": "x13",
         "y": {
          "bdata": "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",
          "dtype": "f8"
         },
         "yaxis": "y13"
        },
        {
         "boxpoints": false,
         "name": "2025-09-25, 1.000400",
         "showlegend": false,
         "showwhiskers": false,
         "type": "box",
         "xaxis": "x14",
         "y": {
          "bdata": "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",
          "dtype": "f8"
         },
         "yaxis": "y14"
        },
        {
         "boxpoints": false,
         "name": "2025-09-25, 1.000500",
         "showlegend": false,
         "showwhiskers": false,
         "type": "box",
         "xaxis": "x15",
         "y": {
          "bdata": "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",
          "dtype": "f8"
         },
         "yaxis": "y15"
        },
        {
         "boxpoints": false,
         "name": "2025-09-25, 1.000600",
         "showlegend": false,
         "showwhiskers": false,
         "type": "box",
         "xaxis": "x16",
         "y": {
          "bdata": "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",
          "dtype": "f8"
         },
         "yaxis": "y16"
        },
        {
         "boxpoints": false,
         "name": "2025-09-25, 1.000700",
         "showlegend": false,
         "showwhiskers": false,
         "type": "box",
         "xaxis": "x17",
         "y": {
          "bdata": "T5SERPo6mkBiwJKrWMuRQFsmw/F8alRAVdtN8I1cdUCHa7WHvV5CQHrFU480rlhAmggbnt4HZkCqRxrc1haOP2hbzTrj6xdAfxR15h6SF0DxRXu8kORQQKgBg6RPoydA5NcPscFiMkCu8Znsn58oQODW3TzVcRhA/gqZK4NaGEA8MIDwoXQaQFqD91W5wBVAi1JCsKo+GEB64jlbQGw+QHZTymsllBdA+YGrPIEkPkBd/dgkX1yMQA==",
          "dtype": "f8"
         },
         "yaxis": "y17"
        },
        {
         "boxpoints": false,
         "name": "2025-09-26, 1.000500",
         "showlegend": false,
         "showwhiskers": false,
         "type": "box",
         "xaxis": "x25",
         "y": {
          "bdata": "G0mCcAUUzj8AGqVL/11ZQFuyKsJNRnU/tJJWfEO7TEBV+glntxbhP+S7lLpknOE/ERssnKT5yz+VfsLZrWWSP46xE16CU9k/7rJfd7rzwj+0rzxIT5HLP8to5POKp34/qkca3NYW0j81RBX+DG+GPxWqm4u/7c8/0v9yLVqArj+xUdZvJqbNP5uPa0PFOMc/yol2FVJ+zD92qRH6mXp9P2OcvwmFGBRAGsIxy54Ehj883XniOVvMP4vgfyvZsUE/yLH1DOGYzz9DHVa45SPPP5dXrrfNVJg/sI14spsZ0j8Hsp5afXV1P0pE+BdBG1hAndZtUPs6cUATgH9KVRB1QIGwU6waYDNAmG4Sg8DaOUBxxjAnaB1FQEPmyqDal1VADf/pBopzZEA7j4r/+4F4QDwXRnpRPUhAZkmAmlpqPkAllpS7zzFIQLovZ7Yr9VBAi+B/K9mxYT85YFeTp6zQP4+NQLyuX4A/dENTdvohEEC9xFimXyKuP0loy7kUV9o/LSRgdHlziD9RTx+BP/zMPxdlNsgkI8s/LpELzuDvZz/mywuwT8Z1QHV0XI3syjJAvJUlOstZZ0CyvKseUB+BQHmVtU3xuGJAFr1TAfcWWEAQr+sX7AYYQKVpUDQPYM8/9inHZHGWdkCloUYh+eahQCh+jLlr6SBA28GIfQLUQkCDMo0mRx2sQNzY7Eil25pAnbgcrxBznkAXgbG+gRmdQALyJVTwO25A2PLK9T6irkD/lgD8r8e7QOJyvALSPdFAMsozL9UxxUBVFK+yduyNQNBjlGcu+JNAG4S53cspSEDNzTeie8pFQJlho6zfdCZAuwm+afr8MUA9ghspW/QgQA6g3/dvHgdA7X+AtSp+f0ANxohEIapuQDD186biqIBA8rVnlgTSS0C6E+y/zjk4QMhdhCnKtRhAX3089N19FkCA7zZvnMg9QIl46/zbo0JAZ5sb0xOoUECMutbep7ooQL2nctpT9n5ABkt1AS8VUkCuZwjHLLsWQDS9xFimSzJAlRCsqpfPGkDudygK9IkWQGk50ENtyydAQ61p3nEiUkCOkewRaobGP8oa9RDN8nhADMo0mlw3bECQvd798WmIQPJc34fDFXJArKqX32nGRECcbtkhPhZwQGKHMekvW3RAw4AlV7H40j/YCwVsByPMPyfYf52bNpM/LPAV3XpNzz8Ylj/fFix1PwMGSZ9W0c0/1v7O9ugNhz/rVs9J7xvVP4XQQZdw6Nk/vOmWHeIfhj/DKAge397NP8ri/iPToeA/y7kUV5V9dz8LCoMyjSbQPzmc+dUcIKg/LZj4o6gz0D99kjtsIjN3PxrDnKBNDs8/NExtqYO8yj9EpKZdTDPUP5QUWABTBp4/1o13R8Zq4T9WZHRAEvbQP8fa39kevbE/NbVsrS8Syj+XVdgMcEHSPyf5Eb9iDVc/l8gFZ3CfbED2RUJbztUXQPEuF/Gd2CdATioaa39/KUDPZ0C92QhwQDFBDd/Cutk/zy7f+rBOIEB5OleUEiY0QLwEpz6QfEJAK8HicOZzMkCERxtHrI02QCPb+X7qNGdA4NkevUEygUBMpZ9wdmtpP4F6M2q+Ssw/Fm75SEp6SD8hWivaHOfVP05eZAJ+jZQ/98jmqnmOyj+UwOYcPBNqPxmNfF7x1M0/E2QEVDiC0T8kgQabOo/aP5CGU+bmG3E/mG4Sg8CuS0CBr+jWa3qQP3dkrDb/r9E/2jo42JsYgj/3rkFfevvPP7NBJhk5C4s/d78K8N3m3D9G0QMfgxWXP/93RIXq5t8/Ksb5m1CI0D/aOGItPgXOP+BMTBdi9eY/4lgXt9EAfj8E5iFTPgTLP8cuUb01sHU/vtpRnKOO3j947GexFMmHP/NUh9yINtVA071O6svFU0BuowG8hV6NQA==",
          "dtype": "f8"
         },
         "yaxis": "y25"
        },
        {
         "boxpoints": false,
         "name": "2025-09-26, 1.000600",
         "showlegend": false,
         "showwhiskers": false,
         "type": "box",
         "xaxis": "x26",
         "y": {
          "bdata": "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",
          "dtype": "f8"
         },
         "yaxis": "y26"
        },
        {
         "boxpoints": false,
         "name": "2025-09-26, 1.000700",
         "showlegend": false,
         "showwhiskers": false,
         "type": "box",
         "xaxis": "x27",
         "y": {
          "bdata": "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",
          "dtype": "f8"
         },
         "yaxis": "y27"
        },
        {
         "boxpoints": false,
         "name": "2025-09-26, 1.000800",
         "showlegend": false,
         "showwhiskers": false,
         "type": "box",
         "xaxis": "x28",
         "y": {
          "bdata": "ZjBGJBL2tEDtYwW/aSa1QM2v5gDBGmpA0vvG157FM0AY7IZtiy5zQP8j06FTBmlAzuLFwhAJMUDZlZaRemM6QCmzQSYZ7mlAeqaXGMv9WUCbkqzD0bVUQOhM2lTdIWNAE9OFWL1QcEBSt7OvPEjNP944Kcx7DEVA7tEb7iO3lj+c3zDRIMFLQPopjgOv91JA9buwNVt50D9jesISDxAyQEUr9wKzQnE/bagY52+yIkC0c5oF2h1yPxbfUPhs3StAUDi7tUw4RED9L9eiBWh7P2e0VUlkPzZAV3xD4bN1kD8dlDDT9u8SQIrNx7WhYnw/4bTgRV9kWUCQos7cQ/YyQM1XycfuEiFAmlshrMY+MUDVsN8Ta1uSQNIb7iP3B6ZAZvhPN1DgbT9fB84ZUdrNP6A2qtOBrJc/sK2f/ktCy0DZ6Jyf4rgnQFqhSPezjIdAZp/HKM+8TD9lxttKbxdyQHwqpz2tpKdAz/OnjYzzyUAoDMo0mjWPQNJyoIfatuc/IhlybD0DCEA+WTFcHUD7P76iW6/pwfQ/VB1yM9wACED7rDJTWn/6PzPDRlm/WRhAHH3MBwQKEUC30JUIVP8HQBAHCVG+AAhAodl1b0UCCEBFn48y4gIIQE34pX7eQX1AhbTGoBMCCECeRe9UmGKnQOljPiCQJ3dAaogq/BksZkDhmdAksWw3QHmUSnjCu3RAZk6XxYQUekAKuyh6oBd3QCpwsg0cmXpAguSdQxkqKUD+8PPfg8cmQOwS1VsDuxhAxT2WPnTXakDABG7dzat5QAMIH0p0RYNA",
          "dtype": "f8"
         },
         "yaxis": "y28"
        },
        {
         "boxpoints": false,
         "name": "2025-09-26, 1.000900",
         "showlegend": false,
         "showwhiskers": false,
         "type": "box",
         "xaxis": "x29",
         "y": {
          "bdata": "NjrnpzgGg0BGlsyxvKuuPxbe5SK+E80/7DNnfcoxeT9hinJp/MLfP09cjlcgenI/843onnWNzD/oM6DeDCtpQGL2su20NdE/j6m7sgsG/j/752nAIOnRP2nHDb+brgRAm/9XHTnSeT9KRWPt76wLQGjLuRQ3K4pAx/DYz2KKaUCYamYtBcxBQIRHG0esfF9A4BEVqpsBS0BMqUvGMYJMQGxCWmMAEZhAqU2c3O9QZD9Iwr6dRITNP4p3gCctXHY/RxyygXSx0D+XqrTFNT6DP5wWvOgrSNI/w/F8BtSbgT817WKa6Z76P9nr3R/v9QdAK/htiPGAUEDdQexMISFgQNFALJs5oWFAih2NQ/2AQEDDSgUVVYFTQAft1cdDAUhAMbQ6OYOxdkDJAFDFbWmDQHWTGAQWnXVA1bSLaWYZhEBv8fCeA8txP49QM6SKEkBAoP6z5sdfej8knBa86CvOPyBGCI82MptAXoHoSZnUkD/oFORnI9fRP5DY7h6g+4I/IxKFlnX/0D8T86ykFd9wPyNm9nmM8tU/l4xjJHuE0j+CqWbWUkCKP3CwNzEkJ88/uyu7YHDNzT+8dmnDYWnfP9W0i2lOnd5AmIkipO4GZECLFqBtNe8zQHu7JTkg5HNA",
          "dtype": "f8"
         },
         "yaxis": "y29"
        },
        {
         "boxpoints": false,
         "name": "2025-09-26, 1.001000",
         "showlegend": false,
         "showwhiskers": false,
         "type": "box",
         "xaxis": "x30",
         "y": {
          "bdata": "vTRFgNP7+D9oWfePheiAP7PQzmkWaM8/MPXzpiIV0D8mHHqLh/ecP22QSUbOwtA/AoBjz57LdD9SCrq9pDHOPzIcz2dAvdA/mSzuPzJ9AkB9eJYgI6CSP7tjsU0qGss/Tny1ozhHbT9dN6W8VkLNP6Exk6gXfHo/qtOBrKdW0z+uDRXj/E3QPw==",
          "dtype": "f8"
         },
         "yaxis": "y30"
        },
        {
         "boxpoints": false,
         "name": "2025-09-27, 1.000500",
         "showlegend": false,
         "showwhiskers": false,
         "type": "box",
         "xaxis": "x35",
         "y": {
          "bdata": "EAUzpmBgdUBgyyvX8bPJQKHzGrtE9YY/0hvuI7cm9D+QvknToGhuP5QWLquwGcw/gZauYBvxlD8LtaZ5xynMP19FRgckYX8/kZxM3CqI0D8DIsSVs3eWPxoYeVkTC84/oib6fJQRZz8YIqev52vQP+2cZoF2h3Q/qyaIug9A0T8FMjuL3qnQP7LYJhWNtY8/5Q6byKIxyEBUGcbdILoOQFYQA1370ixARBfUt8xJKECiXvBpTgRLQM78ag4QLBdAnGotzEKrKECOkewRetuoQFUvv9PUs5tAGQEVjqCshkAfoPtyZhc2QOhPG9XpeVdA8fEJ2fnqiUAS2nIuxXUaQEdzZOUXGI9Ac9pTck4UKUDql4i37jWBQImV0cgXDJBAkpc1sVDknUCDoQ4rPIGJQC1cVmGzLnFAoPoHkYyKd0B5JF6eLuWCQDRHVn4Z5EZAqI3qdKCDYUBeud42U7E3QB8r+G2I8Xo/mQ8IdCZt3z8W31D4bB1cP+fhBKbTus0/+ptQiIBDmD+vsUtUbw3MP3+8V61M+NI/Jt9sc2N6kj/jNEQV/gzPPxfUt8zpsog/2cwhqYWSzz/EX5M16iF6P50Te2gfK+g/qU9yh01kzj/WjuIcdXTRPxtHrMWnAM4/6Ba6EoHqfz9m+E83UKAGQPA1BMdl3IQ/r5RliGNd2z+9i/fj9svPP/KzkeumlJc/qRYRxeTnWUDqXFFKKAGPQOdSXFX2a0JACr3+JD67PkDtmSUBSuaCQPEPW3pMmqhAgpAsYOL/gkDEsS5uUyOiQA==",
          "dtype": "f8"
         },
         "yaxis": "y35"
        },
        {
         "boxpoints": false,
         "name": "2025-09-27, 1.000600",
         "showlegend": false,
         "showwhiskers": false,
         "type": "box",
         "xaxis": "x36",
         "y": {
          "bdata": "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",
          "dtype": "f8"
         },
         "yaxis": "y36"
        },
        {
         "boxpoints": false,
         "name": "2025-09-27, 1.000700",
         "showlegend": false,
         "showwhiskers": false,
         "type": "box",
         "xaxis": "x37",
         "y": {
          "bdata": "6ZrJN1s1jEDVPbK5aiRrQEG2LF8XOGNAh2wgXYx8hkAUmE7r9gF0QCYceotHTXhArp/+s+YHGEAW2jnNgjdyQB4aFqOuJ0tAwaxQpPv1MEDJ5xVPfW2BQNDyPLg7XzJAkBSRYRXnJ0BD/wQX68RzQPSKpx5pr1lAQs2QKopnFUAWvVMBV1WGQIielEkNfShAJXSXxFmRKEAJpwUv+ooXQC6QoPgxfihAfIDuyxlsf0D+1HjpJgkpQBnHSPbIj4BAjBTKwtclTEBy3v/HCXx9QOBIoMEm9HVA9DXLZaMfaUCVgQNauoLPP/kupS4Zx9A/i8Iuih74OD+yvoHJjSLJPyHp0yr6Q4M/4fCCiNS0zz93nnjOFhCKP0dYVMTp5Ps/rg/rjVphij/k1qTbErnOPxAGnnsPl4w/prVpbC+OYEC8lpAP+o+MQGZJgJpatnY/dXXHYteHvUBSnKOOjqthP5je/lw0ZMw/b4RFRZxOsj9Nol7waU7MPyFaK9ocD2RAg+Dx7d02qUAVcM/zp4U6QPTBMja0VXtAbM1WXnJucEDC3sSQnMwTQIVCBBxClYo/U+i8xi7hGEBNv0S8df6dP+xsyD8zSBpAJc0f09pkF0DM0k7N5aYcQB/axwp+yxNAUDblCu9yYT+cbW5MT8gYQNPcCmE1tihAlGsKZHbeMkAJqdvZV5YnQBmto6oJJjFAnaG4401mKEBe1y/YDTZtQF9+p8nsI5hAI4eIm1NxJUBPXfksz/RcQK2GxD1mBZRANSTusfQVMkBA3xYsuVa1QGHgufdAKJ1AsmfPZeoKZUA2IhgHV3eAQNyhYTHa85pAZCMQr9uQpkDl8bT8EAqWQENyMnHnE7tAa7bykv9TQUBBRGraxXBOQL00RYDTc0dA0F/oESMSZkDWOQZkrzcZQCOhLedSoWFAHXV0XI1qRUCOrPwyGDMYQAbzV8hcXT9Aog4r3PKBZkA09E9wgQCZQCUIV0Bxq5lA2UKQg1IUd0CCN6RRUfqQQD8Z48PsKUJA3Qa13yrTo0Brn47HLMCWQLafjPGhpHNAJJpAEYttc0AXLUDb6iNxQBOAf0qVY2hA8l1KXTKHUUDvjozV5v+FP3O+2HvxRc0/g9+GGK95lT/JdOj0vBvPP7FOle8ZiZA/hJuMKsO4zT8gt18+WUt2QBa+vtalun9AjQqcbFO/kkCMTMCvUZhzQNsxdVf23WlApBzMJsAAGECmJsEb0gAiQByZR/5gAAhAiqvKvisCCEBUNUHUfQAIQErtRbQdAxhAZ7Yr9MGnYECob5nTZUU9QIDuy5ltVG9APGpMiHlxhkAUBI9vHzecQIhjXdw2NJZAo87cQ/p600Cx3qgVphVFQKDctu9RvxZA",
          "dtype": "f8"
         },
         "yaxis": "y37"
        },
        {
         "boxpoints": false,
         "name": "2025-09-27, 1.000800",
         "showlegend": false,
         "showwhiskers": false,
         "type": "box",
         "xaxis": "x38",
         "y": {
          "bdata": "UkMbgA2IUD8k0jb+RLNVQCOkbmcfo3JAgVziyCMsgEAIPgYrTmN/QKqezD/6puY/TBsOSxOomUCcMcwJasmTQFa2D3kLfHdAuYybGjhLpEDQRUPG4xqCQN5y9WOTLBhAylGAKJhpMkCEg72JYfV3QFYL7DGR+idAl1KXjGMkKkCXAWcpWd4VQFpnfF9cqhdA16NwPQq3KEDo9LwbCyoYQP+xEB0C5xhAxVc7inOQO0CaJmw/GaMYQGCwG7YtGhZACB9KtOQBGEAM6lvmdOkXQL9J06BoNjhAfVpFf2iKTkCfVWZK61coQJBlwcQfpRhApYP1fw7DF0AVGR2QhM0YQPfKvFXX0RlA3pBGBf56lkBpAdpWsx53QA==",
          "dtype": "f8"
         },
         "yaxis": "y38"
        },
        {
         "boxpoints": false,
         "name": "2025-09-28, 1.000300",
         "showlegend": false,
         "showwhiskers": false,
         "type": "box",
         "xaxis": "x43",
         "y": {
          "bdata": "A+li00ohcD/3WWWmtP7fP2K7e4Duy5k/a54j8l1KzT9ZhjjWxW2EP5MANbVsrc8/+OEgIcoXhD931m670FzLP8S0b+6vHoc/jqz8Mhgjzj9pVOBkG7jSP4XNABdky9E/QDBHj9/b3z/PaoE9JlKKP91B7Eyh884/1hu1wvQ94T/mWx/WG7XRP7njTX6LTnY/5BBxcyoZzj/y07g3v2HQP2X+0TdpGmQ/YjB/hcyVzz+69C9JZYqZP01LrIxGPs8/m6kQj8TLkz+KVYMwt3vPP/6arFEP0d8/IcoXtJCAcT9rgT0mUprQPyUH7GrylM8/O8eA7PXu0j+gqGxYU1nTPz1FDhE3p3I/WoP3VblQ0D/nw7MEGQFVPy5U/rW8cs8/41MAjGfQcD9+w0SDFDzRPzboS29/Lmo/x549l6lJ3j8aahSSzOpdP6wb746M1dc/ll8GY0SikD+DaoMT0a/PP5kOnZ53Y6E/QpYFE38UzT+nr+drlsvOPwBYHTnSGVg//KVFfZI73j8bR6zFpwB4P3Yb1H5rJ9A/9YJPc/IiEz9FLGLYYUzOP5QXmYBfI9I/YJM16iEafT/3WtB7YwjOP8E4uHTMedA/eNUD5iFT0T+cNuM0RBXQP6Gd0yzQ7s4/A83n3O16mT9aZaa0/pbMP8ufbwuW6pI/D/J6MCk+0j/eOCnMe5zPPxJnRdREn9A/wr6dRIR/gT+37uapDrnRPypVouwt5dA/U1xV9l0R0D9mvK302mzZP2v0aoDSUNA/BW9IowInez/jiLX4FADWPx/11yssuI8/B7MJMCx/2T9A+bt31Ji8P2u6nui68M8/Rbk0fuGV0T+t+IbCZ+vTP5F/ZhAf2IE/Q3QIHAm04T9Cs+veisTOPy0iiskbYNU/G7yvyoXKzT+kAFEwYwrRPzqt26D2W4s/6WSp9X6jzz9MjdDP1OtWPxWL3xRWKtE/cSGP4FrYtUCH/DOD+MDmP2MmUS/4lnpAhzHp76UJaUAT7pV5q09VQPfoDfeRozxAH2Yv284HoUDgaTLjbTt7QKLRHcRGo7hAKlPMQVB7dECFKF/Q0uCsQAvtnGbhuJFAT7FqEObuckDaBBiWP99mP2n8witJnt8/k6gXfJqTVz+l2NE41O/MP7YTJSGRtoE/+RBUjV4Nzj9Z+tAF9S2TP5YGflTDfs0/d50N+WcGkT96xVOPNLjPP7g9QWK7e5A/qtVXVwVqzz8STDWzlgJyPzDxR1Fn7tI/qI/AH37+iz9xcVRuopbOP+kmMQisHIo/PpXTnpJzzj85X+y9+KKNP4drtYe9UM4/0sWmlUIghz8HKXgKuVLNP7XGoBNCB30/tTLhl/p5zT9U5BBxcyoJPz7ONGH7ycw/YtnMIamFYj/nAMEcPX7UPy/f+rDeqKU/KVq5F5gVzD8F24gnu5lxPx2Txf1HptM/EJVGzOzzWD+94qlHGtzOP6fn3VhQGGQ/RRFSt7Ovzj8UtMnhk07RPyI4LuOmBno/OzYC8bp+zT9nJ4Oj5NXPP6kSZW8p580/5bhTOlj/lz8dA7LXuz/QP29HOC140Xc/b5upEI9E4D/CacGLvoLTP6UtrvGZ7G8/Wtk+5C1XzT9+i06WWu/SPzXrjO+LS98/VisTfqmfzz/zOXe7XprQP/M5d7tems4/Z7gBnx9G0D+fkQiNYOPeP3+jHTdcu5JA",
          "dtype": "f8"
         },
         "yaxis": "y43"
        },
        {
         "boxpoints": false,
         "name": "2025-09-28, 1.000400",
         "showlegend": false,
         "showwhiskers": false,
         "type": "box",
         "xaxis": "x44",
         "y": {
          "bdata": "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",
          "dtype": "f8"
         },
         "yaxis": "y44"
        },
        {
         "boxpoints": false,
         "name": "2025-09-28, 1.000500",
         "showlegend": false,
         "showwhiskers": false,
         "type": "box",
         "xaxis": "x45",
         "y": {
          "bdata": "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",
          "dtype": "f8"
         },
         "yaxis": "y45"
        },
        {
         "boxpoints": false,
         "name": "2025-09-28, 1.000600",
         "showlegend": false,
         "showwhiskers": false,
         "type": "box",
         "xaxis": "x46",
         "y": {
          "bdata": "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",
          "dtype": "f8"
         },
         "yaxis": "y46"
        },
        {
         "boxpoints": false,
         "name": "2025-09-28, 1.000700",
         "showlegend": false,
         "showwhiskers": false,
         "type": "box",
         "xaxis": "x47",
         "y": {
          "bdata": "hQmjWUmbm0Ai4uZUMlhTQI4+5gMC90dAYwlrY6zcdkDdtu9Rfx2DQAWLw5nfRolASOLl6TzcnECfdCLBlM50QK65o//lgltAYYxIFGLK4EBl/tE3aRp0P6A4gH7fv8s/IQIOoUrNjj/mQA+1bRjPP+ZciqvKPuA/QRGLGHYYYz+YMnBASxf8P2WnH9RFCpU/ZDvfT42XzD9rRDAOLh2DP//nMF9egM0/GckeoWZIVT9/bJIf8SvQP0NwXMZNF1BAYRdFD3wMdj/Uf9b8+EvPP5m36jpUU6o/ufqxSX7E0D8Nx/MZUG/MP449ey5Tk6A/ONpxw++myz+0kIDR5c3NP/xuumWHVXRA",
          "dtype": "f8"
         },
         "yaxis": "y47"
        },
        {
         "boxpoints": false,
         "name": "2025-09-29, 1.000300",
         "showlegend": false,
         "showwhiskers": false,
         "type": "box",
         "xaxis": "x53",
         "y": {
          "bdata": "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",
          "dtype": "f8"
         },
         "yaxis": "y53"
        },
        {
         "boxpoints": false,
         "name": "2025-09-29, 1.000400",
         "showlegend": false,
         "showwhiskers": false,
         "type": "box",
         "xaxis": "x54",
         "y": {
          "bdata": "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",
          "dtype": "f8"
         },
         "yaxis": "y54"
        },
        {
         "boxpoints": false,
         "name": "2025-09-29, 1.000500",
         "showlegend": false,
         "showwhiskers": false,
         "type": "box",
         "xaxis": "x55",
         "y": {
          "bdata": "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",
          "dtype": "f8"
         },
         "yaxis": "y55"
        },
        {
         "boxpoints": false,
         "name": "2025-09-29, 1.000600",
         "showlegend": false,
         "showwhiskers": false,
         "type": "box",
         "xaxis": "x56",
         "y": {
          "bdata": "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",
          "dtype": "f8"
         },
         "yaxis": "y56"
        },
        {
         "boxpoints": false,
         "name": "2025-09-29, 1.000700",
         "showlegend": false,
         "showwhiskers": false,
         "type": "box",
         "xaxis": "x57",
         "y": {
          "bdata": "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",
          "dtype": "f8"
         },
         "yaxis": "y57"
        },
        {
         "boxpoints": false,
         "name": "2025-09-29, 1.000800",
         "showlegend": false,
         "showwhiskers": false,
         "type": "box",
         "xaxis": "x58",
         "y": {
          "bdata": "KNGSxwuoykCrX+l8eKpaQNdNKa8Vy4lA4NVyZyJQtEA=",
          "dtype": "f8"
         },
         "yaxis": "y58"
        },
        {
         "boxpoints": false,
         "name": "2025-09-30, 1.000100",
         "showlegend": false,
         "showwhiskers": false,
         "type": "box",
         "xaxis": "x61",
         "y": {
          "bdata": "oS5SKAuHTkB+i06WWmRlQFGFP8ObNYg/2QbuQJ05W0AoKbAApgwcPxSSzOodbuI/pvJ2hNOClz8lyXN9Hw7OPyeIug9AamM/H4SAfAkV0D/Cw7Rv7q9uP+JcwwyNJ84/lPYGX5hMzz+3CffKvFWHP7n98smK4dM/zAhvD0JA3j8UXRd+cD6FP1yQLcvXZdI/V7CNeLKbWT9ywoTRrGzPP5t2Mc10r3M/SE+RQ8TN0T8/OJ86VinNP4zbaABvgZQ/cclxp3Swzj/UfmsnSkKSP8WOxqF+F+A/2UElrmNc5z/L94xEaAR7P8WrrG2Kx80/V3iXi/hO0T86zJcXYB+NP6ZDp+fdWNg/ATW1bK0vQj/Al8KDZtfRP4lDNpAuNs0/nmFqSx3khT/+mUF8YMfNP2whyEEJM9I/3q0s0VlmUT/rAIi7ehXPP5p9HqM88+8/bt3NUx1y0z+poKLqVzpvP+hLb39ut3dA14nL8QqsUkAnamluhbDQP/mjqDP3kN4/x0j2CDVDmj/tmSUBamrNP8E6jh8qjXg/S3ZsBOJ1zz/adW9FYoLMP50OZD21+tE/qI/AH37+mz9DdXPxtz3PP+XyH9JvX80//P84YcJozD9EGD+Ne/PRP1H6Qsh5/38/LzatFAK5zD/pRlhUxOnQP8GsUKT7OdA/XcR3YtaLzz9f7L34oj1+P9DsurciseY/Utfa+1QV4T/MmII1zqbPP1VoIJbNHII/3PXSFAFO0D/HuriNBvA2P68iowOSsMs/U5YhjnVxmz8onrMFhNbNPxCVRszs82g/9rNYiuQrzz+KO97kt+jTP7DllettM4U/kx0bgXhdzT/3PeqvV1jOP7RYiuQrgYQ/yhXe5SK+0D9WSs/0EmNpP21y+KQTCco/HjUmxFxSzz++27xxUpjPP9zUQPM5d4s/ZapgVFLZSED0M/W6meyyQCXOiqgJdZZAl6q0xTU+cz8FNufgmdDIP93sD5Tb9tU/ueLiqNxEuT8JTn0geedwPxRZayi1F5E/DOiFOxdGzj//eoUF9wNuP8CUgQNausI/7fKtD+uNuj9mpN5TOe2ZP4uIYvIGmMU/fqmfNxWpuD/pX5LKFHNwPyS5/If028k//pqsUQ/RzD8cX3tmSYBqP6InZVJDG8Y/7WEvFLAdtD8VcM/zp42yP5AwDFhyFdo/RwINNnUeZT9D5V/LK9ejP9iACHHl7Lk/FCLgEKrUwD+bHam+84uCPxl0QuigS8Q/TUnW4egqvT8+k/3zNGCQP/YJoBhZMs0/UfUrnQ/Pcj8WiQlq+BaGP15Ih4cwfsA/Ne1imuleuz+zRdJu9DEvP1IpdjQO9dg/RmCsb2Bytz+XGwx1WOGuP5txGqIKf7o/PDCA8KFEsz8sg2qDE9HNP8V0IVZ/hJE/fGEyVTAqmT8KgPEMGvrQP7IRiNf1C5Y/UMO3sG68uz9NhA1Pr5TDP48ZqIx/n8M/zas6qwX2aD8snKT5Y1p7P/8G7dXHQ8s/YHglyXN9bz98Zd6q61DNPwX7r3PTZow/uhCrP8IwzD8h6j4AqU1sPzMa+bziqcM/xapBmNu9vD/ZP08DBklvP/Jh9rLttNI/9aCgFK3cyz9+xK9Yw0XMP7SULCeh9Lk/0m2JXPAvaUBbQ6m9iKJ2QDQO9bswWo5A7WKa6f5sikA=",
          "dtype": "f8"
         },
         "yaxis": "y61"
        },
        {
         "boxpoints": false,
         "name": "2025-09-30, 1.000200",
         "showlegend": false,
         "showwhiskers": false,
         "type": "box",
         "xaxis": "x62",
         "y": {
          "bdata": "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",
          "dtype": "f8"
         },
         "yaxis": "y62"
        },
        {
         "boxpoints": false,
         "name": "2025-09-30, 1.000300",
         "showlegend": false,
         "showwhiskers": false,
         "type": "box",
         "xaxis": "x63",
         "y": {
          "bdata": "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",
          "dtype": "f8"
         },
         "yaxis": "y63"
        },
        {
         "boxpoints": false,
         "name": "2025-09-30, 1.000400",
         "showlegend": false,
         "showwhiskers": false,
         "type": "box",
         "xaxis": "x64",
         "y": {
          "bdata": "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",
          "dtype": "f8"
         },
         "yaxis": "y64"
        },
        {
         "boxpoints": false,
         "name": "2025-09-30, 1.000500",
         "showlegend": false,
         "showwhiskers": false,
         "type": "box",
         "xaxis": "x65",
         "y": {
          "bdata": "Y30DkxtlG0DFHW/yW/TuP7k3v2GiMRRApFGBk21g7j/M0eP3Ni0cQNDWwcHexOg/uamB5nOuHECPAG4WLxbxP0IJM23/mhNA9dbAVgmW8D/vx+2XT9YHQAOWXMXid/A/9G4sKAwKGEDs+ZrlstHuP3R9Hw4SAghAySJNvAM88D/DDmPS3wsMQP5IERlWcQZAgJpattYHFECvXG+bqVD/P1oqb0c47fE/0ova/SoA/z9E+u3rwDnwPy7L12X4zxNANlfNc0T+8T93hT5YxrYTQJPEknL3ue4/m8b2WtAbAECjQJ/Ik6TvPwthNZawxhVAKLnDJjLz/D/2Q2ywcBIIQBBAahMn9+8//8u1aAEqFEBvLv62J8jtPyoaa39nGwBA20yFeCTe7z8ZOKClK8gUQBKfO8H+a+4/KXrgY7BiF0DAlezYCMTvPz6uDRXjHABAN1DgnXy68D/LZaNzfjoQQBmrzf+rvhNAu9Bcp5HmE0DsM2d9yjHpPxb3H5kOdSBAKIBiZMkc7j+IhO/9DQoZQPjfSnZstBNAjKGcaFfRGUCjycUYWMfvP8amlUIg9wRA16NwPQrX6j97aYoAp7f/P6q2m+Cbpuk/WJHRAUkY9D9KuJBHcLMXQHwm++dpwOo/uyU5YFczDEC+2lGco24XQHdqLjcY6u4/z4HlCBkIAEBw0jQomofuP278icqG1QBAG76FdeNd7T/PLt/6sO4TQFN40Oy6N/A/7ginBS8aFED+mNamsT3vP2q8dJMYxPU/mzqPiv876j8iwr8IGuMfQNoc5zbhXvA/Zryt9Nr8F0C7trdbkgPwP2tFm+PcFhBAPlsHB3tzCEAi4uZUMkD/PxtivOZV3QBA84++SdNAD0AX78ftl68AQNb9YyE65CVAmx4UlKK1F0CVgJiEC7nwP+bOTDCc6xdATu0MU1tq7z9bP/1nza8AQLVOXI5XoO0/a2CrBIsjAEArS3SWWQQQQCbjGMkeARRAJ/im6bOD8D9TIoleRvH+P/JEEOfhPCxAchWL3xRW8D+Mn8a9+Q3wP/d2S3LAru4/dha9UwF38D/Z6Qd1kQLwPyzVBbzM8AdAKPOPvknzD0DMCkW6n7MAQIdsIF1segdAODKP/MHgE0CNf59x4QDwP2zM64hD5hdAwk8cQL8v8j9J9gg1Q6oTQPryAuyj0+8/q5ffaTIDFEC4BUt1AS/vP/3AVZ5AWABANJ9zt+uFD0BWDcLc7hUYQB4aFqOute8/Mc7fhEIkCEB/MsaH2UvvPwH20akrDxhANsr6zcR08D8llSnmIKj/P6Hyr+WVa+8/0Lnb9dJEFEASaLCp8yjuP+LoKt1dZ/8/7DGR0mx+CEDhs3VwsPcHQBcRxeQNABhAr13acFga8j+Y+KOoM3cTQPsEUIwsme8/zA2GOqzw/z/h1AeSd47vPzeLFwtDJABA0QK0rWbtF0Bk6xnCMQvwP8OdCyO9KABAGArYDkasFEB+bmjKTj/wPynrNxPT1RVAQPflzHYF6j9q3JvfMBEAQAYTfxR1JvA/IHu9++O9B0AXZMvydRnxP2H/dW7aDP8/wi/186ai8D94RfC/lewHQNlD+1jBb+8/u+1Cc50GAEBETIkkehnvP+TZ5Vsf5htA0vwxrU2DAECQZcHEH8XuPwGIu3oV+RdAuw1qv7UT6j8Iq7GEtQEkQA9iZwqdFxRAKJtyhXe56D+c3Vomw2EmQHlZEwt8hfA/zhsnhXlPGEABo8ubwzXtPwRVo1fjaoBA6fAQxuV9xkAgmnlyTQFCQNV3flGCAEpA4QfnU8cCQ0ApP6n2QSiuQPrsgOuKX1RAmkARixh2aD8rvqHw2XIrQAH76NSVz5I/xxNBnIcTE0BFn48y4gJwP6Os30xM1wVAXtcv2A3bZj//6QYKvNMMQDKrd7gd+gJATn6LTpZazz8o1qnyPSNxP2wKZHYWvdE/U+dR8X9HhD9NTYI3pBElQNyb3zDRdERAahZod0jBOUDhKeRKPQuSP1N2+kFdZA5AARQjS+ZYfj88TWa8rSwyQDmZuFUQA40/he/9DdqbFUBeoKTAApiCPwjHLHsSvVFAg6J5AIv8xj89mBQfn05mQFXf+UUJOvE/Ukgyq3e4XT89fJkoQkY5QLYxdsJLBktArP4Iw4Aldz/6K2SubNCBQNfBwd7EkJw/qfbpeMxA0D8ykGeXb314P2fTEcDNCkxAvJF55A8Gbj8F/BpJApBtQDpbQGi9Gm1ADoKOVrXLgUCPOc/Yl2yMPwMjL2tigdQ/QQx07QvozT+i725lic4kQHr83qY/+4E/k+NO6WD9zz/Uug1qv7VzPwIQd/UqMtA/0F/oEaPnVj/3ItqOqbvQP6q7sgsG13w/5Lop5bUaTkAfn5Cdt7F5P5sdqb7zi9A/fv/mxYmvzj+LprOTwVGCP/ktOllqvdY/2c2MfjScgj/W4lMAjGfUP7dfPlkxXP0+G9oAbECEyj/KayV0l8SpPx7iH7b0aNA/JZUp5iDooD8pl8YvvJLMPztxOV6B6OA/74y2KonszT/aOjjYmxhiP2TqruyCwdE/NZpcjIF1zD/heanYmNdhP14Ou+8YHs8//wOsVbsmzj/E7juGx35mP6Lw2To4LEJA9wMeGED4gD8s8YCyKVfOPxFy3v/HCXM/ldQJaCLMJkBZi08BMJ6RP7QEGQEVjs4/HAbzV8hcWT8Ixyx7EpdwQFwExvoGJoc/n8vUJHhD0j/AXfbrTnd+Pybkg57Nqs8/KjbmdcQhmz+XPJ6WHyhHQLOZQ1ILJWM/iIGufQG9zD8LQnkfR3OUP3VXdsHg7GtAe9gLBWwHkz+8zLBRVqZ4QAe139qJkmA/UmFsIchtMEC8B+i+nNmeP7Iqwk1Glc8/MLsnD2vDjEDEQNe+gF6IP4LGTKJe8M0/LUMc6+I2Wj+wHvet1onQP2x4eqUsQ3w/h99Nt+wQ0D+mZDkJJVtlQOgWuhKB6k8/5L9AECBDzz8Zyol2FVKOPzm0yHa+n84/ADYgQlw5iz+fjscMVMbUP8dMol5QYopAU1ipoKLCIUBkA+liU2GKQN/hdmho2pFAJcreUs4Xiz9JFFrW/WPPP8pQFVPpJ5w/qp1hauu0gkAmqyLcZFR5P5DbL5+sGNA/8wUtJGB0tT+mK9hGPNnNP7Xf2omSkJg/0qbqHtlc0D9hbCHIQQmDP2ed8X1xqdA/36eq0EAsez/HZdzUQPPSP1SOyeL+I4M/6X5OQX420D8PuK6YEd5OP22oGOdvQs0/SvHxCdl5az8/O+C6YkbOP25MT1jiAZU/Mlncf2Q64D8+eO3ShsOSP2lSCrq9pM0/8GyP3nAfiT9e1y/YDYsYQMPX17rUCI0/d2nDYWngyz8b8WQ3M/qRP4nsgywLJtQ/6rMDritmlD9O0ZFc/kPQPwft1cdD340/hC12+6wyzT8c7iO3Jt2GP7OZQ1ILJdI/0T3rGi0Hoj+L/zuiQnXLP84ckloomYw/Nez3xDpV0D8FoidlUkMrP5gwmpXtQ9A/IJxPHauUjj+DwMqhRbbQP9OE7SdjfGg/7NrebkkO0D/2fw7z5QWIPzVeukkMAtA/nYNnQpPEcj+kiXeAJy3MP6PogY/BinM/xlG5iVqaSEB+GCE82jiSP0q05PG0/Mo/gxlTsMbZhD9HO2743XTPP9F6+DJRhHQ/FEAxsmSOzT/EX5M16iF6P/zjvWplws0/ZOYCl8eaYT+p+Sr52F3UPxgnvtpRnJM/PboRFhXx7j+mJsEb0ijgPxaGyOnr+Xo/bagY529C3j/NBMO5hhl6P7yReeQPBtA/wvaTMT7Mfj+jWkQUkzfUP8iXUMHhBYE/o+VAD7VtzD8RUUzeAB9FQHkiiPNwAoM/vwtbs5WXzD8YeO49XHJ8P/0VMlcG1cw/HQJHAg02hT++2ebG9ITPP35Rgv5Cj3g/WrxYGCIn4D8vUFJgAUxpPzi7tUyG49A/a2YtBaT93z/DDmPS30vPP+ljPiDQmco/38K68e7I0D9WD5iHTPlQP2nlXmBWKMw/+Db92Y8UYT93TrNAu8MCQIcZGk8EcW4/xxLWxthJFkCjlBCsqpd/P39OQX42cs0/ayqLwi6Kfj/ZmULnNclcQEpfCDlfmZZAsrj/yHR4OkAUs14M5f5gQC+GcqJdCThA3pIcsCv6cUBweEFEKnx0QG5Q+62dTEdADFhyFcssckCiCKnb2caIQOCfUiVKrH5AysStghjoej+ISbiQR3DNP3/7OnDOiII/cHuCxHb3zD8zT64pkNmJPxx79lymJtM/gV64c2Gkdz+OXDelvFbQP8dJYd7jTGM/LXjRV5Bm0D+g4jjwarnQP1a2D3nL1c0/o5I6AU2E4D/RsBh1rT3wPxmveVVntZA/HAsKgzKN0j+BCHHl7J2RP8DpXbwft9I/dhcoKbAAlj+7fOvDeqPQP6eTbHU5JZA/7KS+LO3Uzj/8qfHSTWIwP4s1XOSeCjZAd2hYjLrWjj/bwvNSsTHQP3vbTIV4JH4/Z5lFKLaCzj/Z6Jyf4jiAP+7RG+4jt9M/StHKvcCscD/kLVc/NsnNP4czv5oDBIM/t/EnKhuUUkB6w33k1qR7P0GfyJOkFzNAawvPS8V1VkDM1CR4Qxq9Px7DYz+Lpc4/gGJkyRzLiz+srdhfdhNJQFHAdjBin5A/igPo9/0DNkBihVs+kpJuP+I8nMB0Ws0/2SeAYmTJjD+TAgtgysDPPzM0ngjiPHw/bAcj9gmgzD+jPzTz5JrMPwnGwaVjzoM/Yr1RK0zf0D8RGOsbmNyYP7FNKhprf9I/6s9+pIgM0D8UWWsotRfRP7jqOlRTkoU/VtXL7zSZ3j8SFaqbi11KQD1gHjLlQ9A/bjDUYYVb0T+OVyB6UiaFP7aCpiVWRss/fSHkvP+PUz/sFoGxvoHPP6YpApzexZs/NCxGXWvvzT9N27+y0qRUP+o/a378pc8/qBjnb0Ih0D8OoyB4fHveP8b9R6ZDp9A/IZBLHHkg0T8BTu/i/bjdPy5Yqgt4mZE/HThnRGlv0D8HCydp/piGP69gG/FkN8s/rcCQ1a3e/D84h2u1h73QP/yLoDGTqDc/QbgCCvX00j/zOAzmrz5CQLzmVZ3VAos/7xr0pbc/zT8Cm3PwTGiCP/A1BMdl3M4/mZzaGaa24j9xAWiULv2bP3rhzoWRXsw/8FAU6BN5cj8eNLvurUjUPxYzwtuDEHA/seB+wAMD0T/VkSOdgZF3P2IQWDm0yN0/uXL2zmircj8lXMgjuJHOPxIykGeXb40/oIobt5ifzz+jdOlfksqEPzzYYrfPKtA/ca32sBcKiD8whJz3/3HKP+ay0Tk/xYE/fAxWnGotzj9Pr5RliGN9P2hbzTrj+84/nDHMCdrkkD+k4v+OqFDPP79DUaBP5Jk/mKQyxRwE0D/tnGaBdodkP76jxoSYS9A/ySJNvAM8zz+z74rgfyt5P//pBgq8wzhA0VynkZbKez/kSj0LQjlCQN0HILWJQxRAje21oPfG0D449YHknUPQP21Zvi7DrzVAk8X9R6aBSUClFHR7SQFCQGy1h71QmEJAC3+GN2tqREArMGR1q1MxQID0TZoGDTJA9MRztoAoc0DxRuaRPxigP1pHVRNE3ck/Xr2KjA5Isj8YCW05l5RUQIauRKD6B5E/hzWVRWEXyz+tFthjIqWJP0esxacAGM0/V+pZEMr7iD9tO22NCJoxQF66SQwCK5c/9tTqq6sCzz8T8GskCcI1P0uuYvGbwuA/CqGDLuHQez8gRZ25h4TNP1fRH5p5ctQ/44i1+BQA0j/cnEoGgCrYP1mJeVbSyvU/B3x+GCE8ij/n4m97gsTTP030+SgjLpA/vW2mQjwSyT9DHsGNlC1yPxx+N92yQ84/zm3CvTJvhT80Spf+JU1VQBJOC170FZQ/vmn67IDrzj+mgR/VsN+DP7lSz4JQ3s0/bMzriEM2cD9I+x9grdrgPxi0kIDR5cs/AoBjz57Lzj8ktrsH6L6MP76ECg4viM4/Oj/FceDVkj9j00ohkEvRP8Mpc/ONaOE/DMnJxK2COD9A3xYs1QXfP8kCJnDrbn4/vTWwVYLFzz/b3m5JDljhPywQPSmTGt4/esa+ZOPBZj/3H5kOnZ7NP64QVmMJa5M/ucK7XMR3zD8xeJj2zf3PP6pDboYbMPo/hJ7Nqs/Vhj+8Wu7MBMPQP82TawpkxkFAgCctXFZhkz9s7uh/uctSQGaDTDJyFoY/qWxYU1nwM0BpGhTNA1jOP6xyofKv5YU/Ag6hSs0rc0DOT3EceLV8P3dLcsCuJtA/KNap8j0jgT+Zfol46/zNP/6ABwYQPs4/n3djQWFQ0T8PKQZINAHgP2hZ94+F6EA/jgJEwYwpyj/cKR2s/3PQP1Fmg0wyckY/yEJ0CBwJ1D/sMCb9vRROP5W4jnHFxck/A7Fs5pDU0D+WBn5Uw37/P3YYk/5eKhBAwoanV8oylD+wc9NmnIbKP2EyVTAqqaM/8+Zwrfb8MEBQNuUK73JhPy9SKAtfX9A/mE7rNqj90D8012mkpfKGP9JtiVxwBs8/ic4yi1BsrT+MFMrC1y1AQBtjJ7wEp44/HlIMkGgCN0CWPnRBfct8P/0xrU1j6xVAJqsi3GRUWT+SQe4iTFHQP8zPDU3Z6Zc/02hyMQbW0T8E54wo7Q3OP9kh/mFLj84/bhRZayi1Zz+coiO5/IfRPz6zJEBNLdA/h/iHLT2azD8YIxKFlnXQP7XC9L2G4NA/ZcOayqKw0T+o4PCCiNTSPy0FpP0PsMo/iV5GsdzSoj/B/1ayY/MYQKNWmL7XEFw/ByP2CaAY0D+bkUHuIkzNPyf20D5W8Hs/hEcbR6zF0D/cR25Nui2BP1T9SufDs9A/xhaCHJQwgz+EvB5Mio/PP5lGk4sxsN0/g02dR8X/fT/D1mzlJf/NPzHSi9r9Kuc/6Qq2EU920D+gwDv59NjQPwn9TL1uEdA/e6NWmL7XcD/batYZ3xfPP5qUgm4vaZw/Cwithy8T0z+MhLacS/H0P+LJbmb0o7E/3SbcK/NWyz87Un3nF70lQFLWbyamC4E/JeoFn+bkyT+O5sjKL4OBP35Rgv5Cj84/h22LMhtk0T+38ScqG9awP3sVGR2QhM8/I9dNKa+VcD9A+5EiMqzOP6dAZmfROyU/flUuVP61zD/PLXQlAtXPP1M9mX/0TdA/rwj+t5IdzT+nCHB6F+/bP+wxkdJsHtE/f74tWKoLmD/X+iKhLefQP4LK+PcZF9I/vsCsUKT7iT+YT1YMVwfSPxP0F3rE6Ik/Im+5+rFJyj8hdxGmKJeWP8PX17rUCNE/gJpattYXsT+6pGq7CWo3QBU6r7FLVJ8/f9qoTgey0D9LWvENhc92P7r2BfTCnc8/aW/whclU0D8+IqZEEr3dP4uk3ehjPpA/o+ar5GN3yz+gqGxYU1lkP+kKthFPdtM/8MFrlzYczD9DHsGNlC1iP6lKW1zjM88/by9pjNZRlT/kEkceiCzbP2vXhLTGoIM/OCwN/KiGyz/V7ewrD9KTPxlVhnE3iMw/pABRMGMK0D/oFU890uDOPzm4dMx5xp4/+69z02acyj9R24ZREDyOP0MdVrjlI9I/VHJO7KF95z+U2otoO6bQP5EotKz7x5I/yZI5lnfVyz9r1a4JaY3SP+t0IOup1Xc/mUnUCz7NyT80MPKyJhaYP4y7QbRWtMs/YcQ+ARQjzz+j6IGPwYpzP+fEHtrHCs4/PWAeMuVDgD+2K/TBMjbOPxAgQ8cOKs0/8wGBzqRNhT9nutdJfRJZQAtFup9ToBJAAfvo1JXP0D9tH/KWqx/PP4ElV7H4TdA/Zi0FpP0P0T+aQBGLGHZYP5Q0f0xr084/YXDNHf0v0j8mOWBXk6fRP6pkAKjixrE/0m2JXHAGzz9jCWtj7IRnP4FfI0kQrsw/ERlW8Ubm0z/Bx2DFqdbKP5C+SdOgaP4+5/7qcd9q1D/1K50PzxLOP4eL3NPVHZs/vvbMkgA13z+PqFDdXPzQP3rGvmTjwYY/bf30nzU/3T+gNxWpMLZwPwVsByP2CdI/s5quJ7oujD8nol9bP/3LP71xUpj3OIM/MgQAx549zz8rTrUWZqF9P1PsaBzqd98/pkOn591Y0D/sZ7EUyZf6PzQw8rImFog/nOCbps8OzD9QqRJlbynQP23n+6nx0tE/GT230JUIhD+GrdnKS/7bP32SO2wiMzc//wQXK2owzz+9/iQ+d4LPP/jfSnZsBNA/DLCPTl353T8DllzF4jfJP9zXgXNGlM4/qP3WTpSE0T/FjzF3LSFvP7WM1Hsqp80/bcX+snvy1z+8W1mis8zMP1TkEHFzKuk+iGaeXFMg0T9ywK4mT8EmQBb3H5kOnY4/lX7C2a1lzj8HJ6JfWz+NPxv1EI3uINE/4PWZsz7leD9Lk1LQ7SXNP7d8JCU9DKU/VRfwMsNGzT9rYoGv6MYSQPIMGvonuHg/NlZinpW00D/jUwCMZ9CAP1kxXB0A0RBAJhqk4Cnkzj+e6pCb4QacP/TcQlciUNI/0XZM3ZVdkD/5FWu4yD3PP09bI4JxcKk/YRqGj4gp0z/0pExqaAOQP28p54u9F90/3zZTIR6JZz/Xhopx/ibRP2h23VuRmNA/4ZUkz/V93T/3ViQmqOF7P2GkF7X7VdA/tMwiFFtBcz+HUnsRbcfSP7WoT3KHTcw/KlPMQdDRzj+DiT+KOnPPP9jTDn9N1sw/cvvlkxXDdT97o1aYvtfgP6rTgaynVn8/kSxgArfuzj9bCkj7H2CdP9r/AGvVrs0/gNQmTu53zj80LEZda+9zP/m+uFSlLdA/wck2cAckSUCGyypsBriQP7rb9dIUAc4/0sJlFTYDnD89ghspWyTLP0z+J3/3jno/4gURqWkXzz8heHx716CvP3uGcMyyWUVA63Qg66nVhz/f+xu0Vx/LP+C6YkZ4e4A/yTzyBwPPyz8yHTo978aSP2BzDp4JTdE/9BYP7zmw3T/MKQExCReSP1or2hznNs8/RDUlWYcDA0BUNxd/2xOUP1TgZBu4A88/GsOcoE0Orz/LEMe6uI3MP+JzJ9h/nYs/UmFsIchB0T/tYwW/DTF+PzuKc9TRcc0/+DJRhNTtnD8tliL5SiDNP8WM8PYgBNM/R68GKA0FKkANN+DzwwjSP9Bf6BGj54Y/BI4EGmzqzj+Gdk6zQLuTP8/zp43qNDFAm8sNhjqsgD/htrbwvFTRP0yln3B2a3k/h/vIrUk34D9eY5eo3hp4P3rgY7Di1PQ/VmXfFcH/dj9wKHy2Dg7QP1QaMbPPY9M/AOSECaNZ0D9GQ8ajVMLBP/oI/OHnv8c/UAEwnkFDjz82scBXdOveP5upEI/Ey4M/xOkkW11O0T+gjVw3pbzRPxH92vrpP5s/5qxPOSaL0j8v/UtSmWLRP4DSUKOQZNI/VOQQcXMqyT6ifEELCRjRP96q61BNSdM/S+mZXmIszT9Sms3jMJifP8XIkjmWd9A/H4SAfAkVTD/GFKxxNh3RP+eNk8K8x3k/q0GY273c0z8p0CfyJOnSP6oLeJlho90/hey8jc2O0D+nkZbK2xHIPxnIs8u3Ppw/KnCyDdyB0D+3mQrxSDzjPxwG81fIXDk/AkcCDTZ1zj9Eherm4m+LP5G1hlJ7EdI/o8ow7gbRmj8ZVvFG5pHPPz3UtmEUBNA/jndHxmrz0j/LoNrgRPTQP4zbaABvgaQ/gVt381SHyj+T4Xg+A+rPP5XVdD3RzSZAUOJzJ9h/bT9f7/54r1rNP7ou/OB86pg/RP0ubM2ePkD+1k6UhER6P6HYCpqWWM8/nnjOFhBanz+LbVLRWI8+QH6pnzcVJTJALZYi+UogrT+ELXb7rDLRP/gYrDjVWmg/5V/LK9fbzj/HuOLiqNyUP2aFIt3Pafc/6ZrJN9vciD91V3bB4JrPP62lgLT/AXY/TQ8KStHK0T/h0Fs8vOfSP24T7pV5q98/GQKAY8+ezz+1/wHWql1zP2VUGcbdIOM/8bvplh3i0D8gYRiw5Cp2Pxmp91ROe8w/Yr68APvodD/92vrpP2vQPz2YFB+fACVAVwkWhzO/ej9selBQilbeP6Ghf4KLFZU/XMr5Yu/FzT97o1aYvteAP4tx/iYUouA/Utfa+1QV0j9NvW4RGOtbP+S6KeW1Es4/c2n8witJfj8KuVLPglDKP6lsWFNZFNA/Tu53KAr0mT9eSl0yjhHgPywP0lPkEM0/uOaO/pdrkT/PgeUIGcjfPyZV203wTQJAOIdrtYe9gD+GOqxwy0fMP4m1+BQA43k/dEAS9u1EPkAdHsL4adxrP+dxGMxfRmJAI9i4/l2f0j+BfAkVHDRIQEWcTrLV5XQ/lnmrrkM1zT+Am8WLhSGCP0q4kEdwI80/X0TbMXVXzj/GxObj2lCBPxbD1QEQyGlA6Qq2EU920D9nnlxTILOzP2HhJM0funNAYp6VtOIboj8QkZp2Mc3MP38uGjIepaI/Fr6+1qVGxj8GDmjpCraBP4WwGktYG8s/Fvn1Q2ywkD9IpG38icrMP/NYMzLIXZQ/pmJjXkcczj+o5Qeu8gTRP2pQNA9gkd4/WfllMEYk0D9Z/KawUkHNP90J9l/nps8/mX6JeOv8ez90Yg/tYwXeP9OHLqhvmYM/4nfTLTvE0T8Ixyx7EticP8bf9gSJhmNAxVT6CWe3lj+ygAncupvcP3gI46dxb6Y/WTFcHQBxzz/ECUyndRt0P7g81owMcss/ui9ntiv0kT+paKz9nSFEQGWlSSno9nI/HhhA+FDi8T9NMQdBR6t6P1wC8E+pEtA/GLFPAMXIqj9KuJBHcCPPP0eRtYZSe9A/lrIMcayLez/e40wTtp/RP2WPUDOkit4/qHNFKSFYdT/bpnhcVIvQPyRDjq1nX1JA+Db92Y8UcT8DCvX0EfjPP6qCUUmdgK4/x9YzhGOW9T94RfC/lezIP3E8nwH1Jg5AnSrfMxKhQT8plltaDYnQPznSGRh5WdQ/8Il1qnzPmD8jSnuDL0zOP9x++WTFcJU/4E237BD/0D/FA8qmXOHQPyI0go3r35U/8X9HVKhuzD+7l/vkKEBUP6c8uhEWVfA/VKnZA63AcD/mdcQhG0jSP1eyYyMQr80/DrvvGB77eT9LWBtjJ7zOP0N1c/G3PdI/x/KuesA8zD+GkPP+P07MP6XXZmMl5nk/HAjJAiZwzz+Mutbep6pwP+un/6z5ce4/m+JxUS0i0D851O/C1mzNPzikUYGTN0FAPKOtSiL7yj8XEcXkDTCTP9mTwOac/mFA6+QMxR1vgj+q04Gsp5YPQIP6ljldFnM/5US7Cik/0D/qQNZTq6+eP+S/QBAgQ8c/p7G9FvTeaD8rildZ2xTRPyh8tg4O9pY/GF5J8lzfyz+wx0RKs3mMP+uLhLacS9A/Bwsnaf6Yzj/PaRZod0iBP3l1jgHZ680/hNiZQuc14D+9/E6TGe/1P3ZQiesYV3w/7nw/NV66zT9AogkUsYiRPzVDqiheZc8/MlUwKqkTgD8wSWWKOZgkQJSgv9AjRq8/Fm2Oc5tw0D9W8UbmkT84P6a21EFe/yRAsOWV620zZT+7mGa610nQP7EYda29T3U/j+OHSiMWO0BOJm4VxECHP22oGOdvQs0/Cks8oGzKZT+ZKhiV1IkvQIvgfyvZEQVAcNI0KJoHgD91q+ek9w0AQOpYpfRML4E/B5s6j4r/zz+6ha5EoPqXP3i5iO/ErM0/sMdESrN5bD9r71NVaCDOP1w8vOfAHmNAyNEcWflloD/yd++oMSHOP4dtizIbZII/mFEst7Sa4D8qjgOvljuTP7hzYaQXtcs/vR3htOBFfz89nStKCbJcQOj2ksZoHZU/BU1LrIxG0D+0OjlDccdrPz2dK0oJwc4/EeM1r+os4D94CrlSz4KAP1J/vcKC+80/exUZHZCEjT/jNhrAW7JDQHu/0Y4bfoc/aCCWzRySzD+TrMPRVbrNP+OL9nghHdQ/BJKwbycRxT+Fz9bBwd7QP+LIA5FFmog/EJaxoZv9yT9Xlugss+gBQJwWvOgrSIM/ySB3EabtXEDOT3EceLV8P0/qy9JOzcs/oyO5/If0iz/19XzNcu9LQM+fNqpzxohADmlU4GQbmD/izRq8r0rkPxx79lymJs0/Ha1qSUc5eD924JwRpb3hPz7L8+DurI0/gJnv4CcOyj/SAN4CCYrQP9+j/nqFBYc/E0TdByC1zz9j1SDM7V7SP/N1Gf7TDSQ/C32wjA3d3j9tN8E3TZ9dP40KnGwDd9Q/K0zfawiOzz9OuFfmrbreP26nrRHBOIg/Q6z+CMOAzT9MN4lBYOXRPx8PfXcrS4Q/",
          "dtype": "f8"
         },
         "yaxis": "y65"
        },
        {
         "boxpoints": false,
         "name": "2025-09-30, 1.000600",
         "showlegend": false,
         "showwhiskers": false,
         "type": "box",
         "xaxis": "x66",
         "y": {
          "bdata": "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",
          "dtype": "f8"
         },
         "yaxis": "y66"
        },
        {
         "boxpoints": false,
         "name": "2025-09-30, 1.000700",
         "showlegend": false,
         "showwhiskers": false,
         "type": "box",
         "xaxis": "x67",
         "y": {
          "bdata": "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",
          "dtype": "f8"
         },
         "yaxis": "y67"
        },
        {
         "boxpoints": false,
         "name": "2025-09-30, 1.000800",
         "showlegend": false,
         "showwhiskers": false,
         "type": "box",
         "xaxis": "x68",
         "y": {
          "bdata": "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",
          "dtype": "f8"
         },
         "yaxis": "y68"
        },
        {
         "boxpoints": false,
         "name": "2025-09-30, 1.000900",
         "showlegend": false,
         "showwhiskers": false,
         "type": "box",
         "xaxis": "x69",
         "y": {
          "bdata": "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",
          "dtype": "f8"
         },
         "yaxis": "y69"
        },
        {
         "boxpoints": false,
         "name": "2025-09-30, 1.001000",
         "showlegend": false,
         "showwhiskers": false,
         "type": "box",
         "xaxis": "x70",
         "y": {
          "bdata": "DvlnBvGBXT/I0RxZ+WXMP3IZNzXQfM4/",
          "dtype": "f8"
         },
         "yaxis": "y70"
        },
        {
         "boxpoints": false,
         "name": "2025-10-01, 1.000200",
         "showlegend": false,
         "showwhiskers": false,
         "type": "box",
         "xaxis": "x72",
         "y": {
          "bdata": "1zOEY3ZNjkDkafmBGxyhQHgOZagKIWlAoP8evDZEk0CdLLXe74aLQN/gC5PJQZJA4jycwCCtsUA=",
          "dtype": "f8"
         },
         "yaxis": "y72"
        },
        {
         "boxpoints": false,
         "name": "2025-10-01, 1.000300",
         "showlegend": false,
         "showwhiskers": false,
         "type": "box",
         "xaxis": "x73",
         "y": {
          "bdata": "xqLp7GRwvD/yCdl5G5vJP93NUx1yM4w/H2XEBaBRzD+YMJqV7UOOPxdJu9Hnx4NAY/Aw7RuubkD3zf3V476FP71yvW3GqaFAlbVN8bioVj8EHhhA+FDUP8l2vp8aL8k/alA0D2CRzz+MKy6Oyk2EPwDHnj2XqdI/gAwdO6jEzT8GRl7WxAJ/P1w9J71vfNc/Eticg2dCgz9u3jgpzHuwP85SspyE0oc/wap6+Z0mzz+Y4NQHknfMPyhFK/cCM+A/FcYWghyUyj/Hnj2XqUmAPyDvVSsTftw/djdPdcjNgD9FoWXdPxbMP8aGbvYHXEpAJQLVP4hkmD9dh2pKsg7HP6gck8X9R84/TYI3pFGBcz8RjINLx3QtQFpG6j2V024/4nfTLbskakAz38FPnCaXQHY25J8ZxMs/hbNby2Q4bj8JpppZSwHNPzFdiNUfYXg/H2easP1k0D9ZiuQrgZSIP/X256Ih48s/u5wSEPPvhECZuiu7ANiFQAK5xJEHIiJA8FAU6JP0bUCvljszgZWbQML8FTJXBnU/3H75ZMVwyz882c2MfjR8P/0RhgHLU2RASyGQSxx5kD80u+6tSEzTP+hPG9Vpk3hApu7KLhhcgz8f2scKfhvOP2xCWmPQCZE/i6VIvpLGgkDJq3MMSMNpQGqiz0cZDFJAYcH9gLcdnkA+y/PgbqiIQFDG+DBLQp5AzcggdxEjfUCGAUuuYvFrP9P1RNeFH84/TkF+NnLdhD/PL0rQHzl8QPIk6ZrJN4s/xanWwiy0yT/2e2KdKt+DP4nuWdfIdo5AUwYOaCl9g0CpL0s7NZc7P3vbTIV4z2hAMzUJ3pBGrT+nsijsomjiP4+JlGbzOMA/l3K+2Hvx0T+q9BPObi3PP3r7c9GQ8c4/HmtGBrmL1T+eB3dn7bbRPzylg/V/DpM/qpog6j4A0D/uW60Tl+MlP3bfMTz2SyBAmbfqOlRTcj+frYODvQnwP7n+XZ8565M/qvQTzm4t0D/PL0rQX+hhP2e5bHTOz+8/nFCIgEOocj/kgjP4uyx6QF3iyAORRXo/uB0aFqOuzT9Buti0UgisPyeJJeXuc8w/IlLTLqaZzj9yiLg5lQzOP2h1cobijs0/XtvbLckBiz8Eq+rld5rOPwiqRq8GKM0/NQcI5ujxiz/VWS2wx0TOP/EpAMYzaNI/SNxj6UMXyD8vFRvzOuJgP662Yn/ZPd8/4zjwarkzUz/8VuvE5XjLP2d79Ib7yMs/393KEp1lzj8AN4sXC0POP0Qy5Nh6hs4/eekmMQisjD+5NlSM8zfeP+pae5+qQs0/7uwrD9JT0D++h0uOe7+DQE8+PbYFTI9AC5qWWHkchECf6SXGMv1SP2TOM/YlG80/bVUS2QdZdj8kfO9v0F7QPzbNO07RkYw/pKXydoTT3T9yh01k5gJ3PxJnRdREn8s/S1ewjXiyez+neccpOjIbQDf92Y8UkZE/h/4JLlbUzD//snvysFDQP62JBb6iW88/MEeP39v00D+y1Hq/0Y7PPz2elh+4ymM/PnWsUnqmzT/YnlkSoKaGP094CU59oOY/NPYlGw+2iD9fXKrSFtfMP04qGmt/Z88/7lwY6UWwpEA5nWSrq9OIQNOE7SdjfHg/Ek4LXvQV0D+G5c+3BUuVP/CGNCpwMoRApwNZT62+ij81QdR9KFyoQGIs0y+pdKVA",
          "dtype": "f8"
         },
         "yaxis": "y73"
        },
        {
         "boxpoints": false,
         "name": "2025-10-01, 1.000400",
         "showlegend": false,
         "showwhiskers": false,
         "type": "box",
         "xaxis": "x74",
         "y": {
          "bdata": "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",
          "dtype": "f8"
         },
         "yaxis": "y74"
        },
        {
         "boxpoints": false,
         "name": "2025-10-01, 1.000500",
         "showlegend": false,
         "showwhiskers": false,
         "type": "box",
         "xaxis": "x75",
         "y": {
          "bdata": "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",
          "dtype": "f8"
         },
         "yaxis": "y75"
        },
        {
         "boxpoints": false,
         "name": "2025-10-01, 1.000600",
         "showlegend": false,
         "showwhiskers": false,
         "type": "box",
         "xaxis": "x76",
         "y": {
          "bdata": "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",
          "dtype": "f8"
         },
         "yaxis": "y76"
        },
        {
         "boxpoints": false,
         "name": "2025-10-01, 1.000700",
         "showlegend": false,
         "showwhiskers": false,
         "type": "box",
         "xaxis": "x77",
         "y": {
          "bdata": "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",
          "dtype": "f8"
         },
         "yaxis": "y77"
        },
        {
         "boxpoints": false,
         "name": "2025-10-01, 1.000800",
         "showlegend": false,
         "showwhiskers": false,
         "type": "box",
         "xaxis": "x78",
         "y": {
          "bdata": "RpbMsbyrPj/aVUj5SbXPP+0Q/7ClR9A/fTz03a0szz8fEr73N2jPPzS77q1ITHA/vaseMA8Z+D+YGTbK+k3yP7lwICQLGOw/cZLmj2mvQ0BgV5OnrHBcQKMG0zA8HHRAJV0z+WZ3V0AsSZ7r+3CAP+FDiZa8jmxAv4I0Y9F0hj8MkdPX8zXNPzpY/+cwX34/xy3m54am0z+S5/o+HCSsP2vwvioXSgFARZxOstXllD9DVOHP8GbSPzboS29/Llo/2AxwQbYs0j+f5uRFJuB3P4UoX9BCAs4/FRxeEJGa0D849YHknUNpP00UIXU7+84/0etP4nMnmD/4VE57WoiZQD6uDRXj/AFAveKpR9ouiUCcNXhfFbNgQLPuHwvRAQRALhoyHjVVk0Bj8ZvCSptHQO0ozlHHaHBAs14M5QQcfkAz3lZ6nS6jQINQ3scRpnpAEywOZ/56c0BSLLe0Gn1xQOVFJuDXVkJAFCLgEKo2W0AOTkS/tmxBQHzvb9Bez11AdOs1PUg0gkA=",
          "dtype": "f8"
         },
         "yaxis": "y78"
        },
        {
         "boxpoints": false,
         "name": "2025-10-02, 1.000500",
         "showlegend": false,
         "showwhiskers": false,
         "type": "box",
         "xaxis": "x85",
         "y": {
          "bdata": "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",
          "dtype": "f8"
         },
         "yaxis": "y85"
        },
        {
         "boxpoints": false,
         "name": "2025-10-02, 1.000600",
         "showlegend": false,
         "showwhiskers": false,
         "type": "box",
         "xaxis": "x86",
         "y": {
          "bdata": "yw9c5QmEjT+vzcZKzLPQPzP+fcaFA70/mZ8bmrJzLUBoWfePhehgPykjLgCN0s8/OBPThVj9QT+oGVJF8SrVP4nTSba6nEI/FEIHXcKhyT9BKVq5F5hlPy2xMhr5vN4/eJrMeFvpzz+PUDOkiuLgP0ok0csolns/DFacai3Myj+bOSS1UDLUP65lMhzPZ5A/v2TjwRa7zT9IUPwYc9eCP/sjDAOWXM0/2su209aIzD/Yfcfw2M+qP1FPH4E//M4/OSf20D52BUCbcK/MW3V9P3y3eeOkMM8/JxQi4BCqdD/WV1cFajHOP+iFOxdGeoE/4/xNKESYK0Buhhvw+WGkP6LxRBDnYeQ/HLPsSWBzzj8Gf7+YLVlVPxA9KZMa2tA/XRWoxeBhij/4VE57Ss7PP7KFIAclzIQ/8PlhhPDIMEBYG2MnvGReQG0csRaf/WtAX0NwXEbEcEBf1O5XAYJXQKCp1y2yepFAP5C8cyh0WEB8KNGSx9OCP3TQJRx6i80/BK3AkNWtfj9aRX9o5sneP/InKhvWVIY/L4UHza57zz+Tqu0m+KbPP9+oFabvNdA/DfrS25+Lyj8GvTeGAOB4PxlYx/FDpdE/kQw5tp4h1D/xaOOItfhEP5ktWRXhJs0/j95wH7k1zz9Yb9QK0/dqPy7kEdxI2dA/Ewt8Rbde0j86P8Vx4NXOP9tsrMQ8K80/zjeie9Y1ij8pdck4RrhdQL/yID1FDlE/YADhQ4mWyj+I9rGC34Z4P4T1fw7z5d8/q1rSUQ5mQz/7ko0HW+zKPw/wpIXLKqQ/gNb8+EuLyj/qPgCpTZx8P3ugFRiyus0/NL+aAwRzhD8W3XpND1oQQB+i0R3EzmQ/wTv59NiW0D8cKVsk7UZ/P8Oedvhrssg/TUhrDDohhD987gT7r3PrP8a+ZOPBFt4/SfPHtDYtBUC/tn76z5pfP1/U7lcBvs0/uRluwOeHzz/Fy9O5ohTxP+bo8Xub/so/2gOtwJDVzT9dUUoIVtXNPzHuBtFa0d4/mzi536Ho+z93MGKfAIpxP7UbfcyHnXJAlnuBWSGRgkCZ1qaxvVYAQNDukGKARHM/V68iowOSzj/niedsAaHPP7g+rDdqhc8/gA7z5QXYzT8NUYU/w5uVPz6Skh6GVj1AH2gFhqw5ZkA5fqg0YmZvP//qcd9qndA/SP5g4Ln3kD941JgQc0nhPx8r+G2I8Xo/EW+df7vs0j/lf/J376iRPxEdAkcCDdQ/7WEvFLAdpD+GkV7U7lfLP5KzsKcd/sA/FFlrKLUXzT8jL2tigfVKQE9d+SzPg4s/wmuXNhyW0j/mV3OAYI5+P86luKrsu9A/ZJKRs7CnbT9Va2EW2kE2QOZ4BaInZXI/5wEs8uuHzj8j100pr5VwP/lLi/okd9M/g/jAjv8Czz9HkbWGUnthP0cdHVcju8w/2a873XlqW0AsZoS3B2tMQPTDCOHRxlE/IAw89x4uzT8eM1AZ/z7QP8oV3uUivmM/aauSyD7IzD+wxW6fVWbAP8juAiUFFsw/d6G5TiMtZT9znxwFiILPP30jumddkVZAXWqEfqZehz+HxD2WPnTNP8vY0M3+QLE/FaxxNh0Bxj+86gHzkCl/P5yIfm399N4/JqYLsfojzj/bT8b4MHvNP0Qy5Nh6hoA/LQq7KHrgyz+b54h8l1KHP3JSmPe4pohAZw3eV1VqkED9M4P4wF4ZQJAwDFhyles/78nDQq2p/z+5GtmVltHwP41HqYQnhBxACB10CYfe7T+4Pqw3agUAQGA5QgbyDAlA1qnyPSOR6z8Hl445z9j/PypSYWwhSOw/NXugFRgy8z939wDdlwMYQHiazHhbORRAyhXe5SI+7z+Ig4QoX5DxPzlkA+liU+4/kWPrGcKRB0DV52or9hfwP8RfkzXqAQBAS6shcY8l7z+lMsUcBE0UQK0vEtpyLu8/hh3GpL8XAEBUHXIz3ADxP41F09nJIApAC7d8JCU97D/Cvp1EhA8YQFjLnZlgePE/dF/ObFfo/z9n0qbqHtntP26hKxGoFiBAahg+IqaEAUCU93E0R9b9P9XpQNZTq+c/7ib4pumTJkBDcjJxqxAgQD/h7NYyKRhAAFZHjnT2F0BQVDasqWzwP7RWtDnObRRA5pE/GHhu6z+ci7/tCZL/P5p8s82NUSxAETgSaLB5E0C+27xxUtjxP+p29pUHSQhASKgZUkXx7T8PR1fp7goYQD1EozuI3QBAtwpioGtf7z9SfHxCdr4IQE0ychb29AdAEEHV6NUAD0A6B8+EJmkYQKQAUTBjShBAaY1BJ4QO8T/i578Hr70VQDkLe9rhr+4/9iSwOQcPAEBAMEeP39vwP2DmO/iJA/4/WcFvQ4wX8T8bSu1FtB0YQHFV2XdFUABAD0dX6e667D/3kzE+zN4HQLH4TWGlogBAuRrZlZYR7j+ynITSF3IVQIzWUdUE0es/scBXdOt1AkA+BitOtVbzP4wwRbk0/gJA3CqIga59B0CUwrzHmWbwP/DfvDjx1RNA5iK+E7Ne7T+9HHbfMYwUQC9OfLWjOO8/M2/VdajGGEDVl6WdmgvxP7Fs5pDUQv0/3bbvUX+98D8ei21S0Vj/P9cyGY7n8/E/XcDLDBul/j/+f5wwYXTwP3aNlgM9JBhAXwzlRLuK8D/ttgvNdaIgQOnxe5v+7OI/v4HJjSKTIEB63/jaM0vtPyZvgJnv4Oo/9WiqJ/MP9j9iSbn7HG8TQL+5v3rcN/I//B2KAn2i7D82W3nJ/8QCQF4u4jsx6+o/AFgdOdJ5CEBRhNTt7CvvP4CCixU1KBxAYabtX1kp8D+ae0j43t8XQP8Iw4Al1+8/mgXaHVJMAEDPMLWlDjLwP84bJ4V5j/8/enB31m478D9oI9dNKW8IQK9fsBu2re8/uti0UghEFEBb64uEtpztP9dqD3uhAAhADw2LUdca8D+JsreU8zUVQAHdlzPble0/p8mMt5WeCECk5NU5BuTvPyydD88SlBhA7l7uk6OA6j8P8KSFy6rwPyUk0jb+BPE/oYFYNnPYG0AHJcy0/SvwPzav6qwWmP4/DM11GmlpFUAjL2tigS/rP1jLnZlg+BNANZcbDHWY8D+wOQfPhEYAQMjT8gNXeeg/2gHXFTPSEEDIsmDij6LvP1tB0xIro/A/rwYoDTWaGEAcXaW76+ztP5CeIoeIWwBA/5YA/FP6IUDMJsCw/LnxP7wFEhQ/hv4/pKZdTDMdEEAy6e+l8CDwPwe139qJEvA/TZ6ymq7HF0BFuwopPynwP/mGwmfrQABAT5Za7zda7z+5xJEHIsvwPw02dR4VP/8/YHZPHhYq8D/DKXPzjej/P7eXNEbrqPA/a2YtBaTtE0CvXkVGByTwPyxjQzf7gwBAU1ipoKJq6T882GK3z0oiQDUIc7uXOxhAQBaiQ+DI7j/7XG3F/nIHQF9FRgckQSBAxOi5ha7E8j/84lKVtpgCQAg7xapBeBtAsyWrItwk8D95P26/fBIAQHctIR/07A9AoS3nUlxVCEAMOiF00GX/P1vQe2MIwPA/vokhOZk4AEDAP6VKlL3/P58+An/4OfA/cw6eCU2S7j+GrkSg+pcUQGNi83FtqO0/8WPMXUvIB0D3rkFfegsUQP4sliL5Su8/H4Kq0asREEDEr1jDRc4PQDfHuU24l/E/g79fzJY8LkAPDYtR17oVQO8eoPtyZuw/TiUDQBU3GUA74SU49QHuP+wUqwZhFiBAYi6p2m6C6T/Dnnb4azILQOV620yFOBlAPKQYINEE8D8VU+knnP0XQEqbqntks/A/ih74GKx4/z9QiesYV1zwPyF00CUMMZBAIO1/gLVqdz/0TgXc8/zLP20csRafArA/Jv29FB40zT8YWp2cobjNPxPwayQJwlU/36XUJeOY8T/3kVuTbgFJQN/+XDRkvWdAQgkzbb9ZfkAoSGx3D+tjQExQw7ewLvM/3LsGfek9FUAgJXZtbzftPwnBqnr5nRxAVMVU+gk3GEBButi0UgjtP6yt2F92LxRABr6iW6+p8D+Br+jWa7oIQLNfd7rzhPY/iqw1lNo7EUBWZHRAEnbwPzCfrBiuDhRAdQZGXtbE7z9LzLOSVvwVQJqYLsTqD/E/lWOyuP+I/j9z1xLyQd8TQOC593DJsRRAmZzaGaY2AEC5cCAkC7gJQC6Oyk3UkvE/KH/3jhqTD0Bm9+Rhodb+PxYvFobIqfA/QEtXsI0oGEBdjIF1HL/vP+aV620ztQpAgsR29wD9H0A/pyA/G7nnP3kGDf0T/AtAxHx5AfZRB0DF5XgFoqfvPyDSb18HvhBAaR7AIr8eD0BINIEiFrEgQBwKn62DA+0/7tEb7iP3B0A4hCo1e6DyP7DFbp9VZuo/oDaq04FsE0CZYaOs38z8P3ZUNUHU/ew/ZVbvcDs0/z8aNV8lH/sXQHhCrz+JJyJA+RG/Yg2X7z98YMd/gaDuP22P3nAf6RdA7S3lfLFXCECeJjPeVnoAQNz2PeqvNwBAQWfSpuqe7j/jNhrAW6DvP+PGLebnxv8/9b2G4LjM8j+2gNB6+LLrP4Yb8PlhFBBAgZcZNsqaAEBL6C6Js2L/P1RSJ6CJEBRAjQjGwaVDD0AUzQNY5NfvP6t14nK8Qg9AUOEIUil28j9ok8MnnWgTQPvrFRbcT/A/7iJMUS4dHUCnlNdK6A4HQHYcP1QaARlAlN3M6EfD5j/zdRn+0w3UP/wXCAJkqPA/6KViY15H8D+iYTHqWjsHQD51rFJ61hNA7+apDrlZ8T9PrFPle5YXQF71gHnIlPA/2QbuQJ1yAEDMY83IIPfuP0Da/wBrFQBAcOoDyTuH7j+AK9mxEcgYQE0uxsA6fhNAxQQ1fAsLAEBQNA9gkT8IQK1LjdDP1PI/AAAAAAD4JUA6P8Vx4GUbQJ268lmeh+g//RGGAUscR0DEQUKUL+gTQEAv3LkwkvA/f7+YLVk1GUBpjNZR1YTqP+rL0k7NJQBA9Z81P/7S8z95JF6ezhXqP3O8AtGTshdAqkVEMXlDFEA2Wg70UBvxP4ZzDTM03hdAoiWPp+WH8D/MJVXbTbANQD57LlOTIPU/5ggZyLOLF0DG3LWEfFDwP4hM+RBUfShAPKHXn8Tn7T/KUBVT6WcYQN2ZCYZzje4/NPPkmgLZH0ArwHebNy4AQD5eSIeHsO4/v/OLEvS3FkBvSKMCJ9vkP/xSP28qkglAH73hPnIrFED0h2aeXFMcQKSpnsw/yhFAj6flB64CUEDB49u7BsU+QFBu2/dgUaNAQNtq1hnfdz/o9LwbCwrPPyQofow5YHZA443MI38wgD907+GS407eP2WLpN3oY84/u/HuyFhtzj/PEfkupS6ZPyhlUkMbh1ZAr15FRueikEAQXOUJhBJqQPpjWpuG14ZAsktUbw1s0D/xnC0gtB6yP1iSPNf3qHxAAOZatIC9Z0A18Q7wpFlaQL6h8Nk6wF1A9iSwOccleUCV2LW93ZIcP72OOGTD/4FAGTp2UInrWD9oWfePhejQPxfZzvdT488/k45yMJsAHkC6opQQbH1/QFHdXPxtxoFAyjMvh40Qk0DFWRE1MYKHQJz51RwgmNE/OurouBrZZT/5TWGlgorQP7LV5ZSAmNA/AFgdOdIZiD8xDFhyFcvyP8Xm49pQMdE/kh/xK9ZwgT+lwAKYMlJGQAPuef60UX0/5EhnYOTjQEAjvajdrwLVP0gzFk1nJ+w/UpliDoKOdj80hjlBmxzOP4AnLVxWYdE/s5quJ7oupD9tIF1sWinOP9ulDYelga8/cFzGTQ00yz/puvCD8yngP7d9j/rrFVY/iITv/Q3a1T8fEynN5nHRPxmO5zOg3tI/+P2bFye+0D/Du1zEd2J2P6Pp7GRwlNA/tMnhk04keD8vwD46deXNP/31CgvuB9E/4IEBhA8l6T8p6zcT04V4PwcJUb6ghdI/8UqS5/o+jD8ukQvO4O/PPzRIwVPIETVA8UqS5/o+XD85nWSry+kUQME7+fTYlpE/Hsakv5dC7D90XmOXqN5qP4Jvmj474Oc/4rA08KMahj9yGMxfIXPdP1tgj4mUZpM/AKyOHOkM4D8cX3tmSYBqP+iGpuz0g9I/3Vz8bU+QeD/PMSB7vXviP3r83qY/+4E//BnerMH73z/udygK9ImMP28qUmHseHpAaOvgYG8iIEAT8GskCcJFPwRZT62+utE/LGUZ4lgXuz+rJLIPsizYP4qryr4rgo8/MX4a9+a34D/yttJrs7HgP5YFE38Udc4/cy7FVWXfZT94CU59IPngP2UcI9kjVOI/Lh1znrEv4D9xHk5gOq17Py5Yqgt4meA/2jhiLT6F4T+Q2Vn0TgXKP9aPTfIjfrk/TKYKRiV16D+Y32ky423hP0KUL2ghAeA/xAlMp3UbzD+dmzbjNER1P7zP8dHiDOE/t5ifG5qy7T9fB84ZUdo7P7d9j/rrFcw/5nXEIRtIVz/0piIVxhbhP1TkEHFzqv8/3j6rzJTWfz/yBpj5Dj7wP4PBNXf0v3w/+BxYjpAB4T/dXz3uW61jPzdvnBTmPeA/ms+52/XS4j/2C3bDtkXQP6OP+YBAZ3I/td/aiZKQ4j+3DDhLyXLRP2Pt72yP3tA/FYxK6gQ0UT+x/WSMD7PdP8OedvhrspY/JCcTtwpi3z9OC170FaRZPxAiGXJsPc8/ujE9YYkHdD88hVypZ8HjP+EJvf4kvuM/RZxOstXllD8gls0cklrOP0+y1eWUgGg/mFEst7Qa5T+taklHOZjsP4F2hxQDJGo/98d71cqE/T8k7xzKUBWTPxFXzt4Zbe4/Jc6KqIk+bz+S66aU1wryP4Jvmj474Io/syjsouiB3j+Lpx5pcFt7P3bEIRtIF9A/UfhsHRzspT8aTS7GwDrdP7iumBHenuE/hq5EoPoHYT/kv0AQIEPgP+5D3nL1Y3M/2lNyTuwh4T8656c4DryaP3LChNGs7OM/SYCaWrbWZz/6Jk2DonneP3UeFf93RN0/wjBgyVUsjj/IeJRKeMIDQF0Y6UXtfhU/SKeufJbn6j+cilQYWwiCP2JM+nspNENAuD8XDRmPcj/fpdQl4xjfP+AUViqoiWpAKXrgY7DidD+H/Z5Yp0BCQK5/12fO+uU/K91dZ0NuEkAB9tGpKw8jQCsWvyms7FJAbTfBN02ffT9XXvI/+RsHQNy5MNKL2o0/L00R4PQu5T8VAySaQHEFQF/U7lcBvns/Szs1lxsM4T8RV87eGW2FPyqNmNnnMeU/Jy8yAb9mJ0D7dDxmIMVgQElMUMO3hWFA7bjhd9NNFEDgZYaNsv7tP7x5qkNuRgBAthSQ9j9A7z/rxyb5ES8YQM9J7xtf2x9A++qqQC1G8D9s7uh/uZb/P2LAkqtYPPE/3A2itaLN/j/C3sSQnIzwP1kZjXxecQBAbZBJRs5C7j/FWRE10RcQQN+Mmq+Sj/I/OdGuQspPBkB/+s+aH7/xP3DqA8k7lxNAnQ/PEmQE8D/SVbq7ziYAQHapEfqZ2g9AVFc+y/Mg8D9QjgJEwdwXQML8FTJXhvA/0ZZzKa4KFEAIjsu4qYHwP4F2hxQDtBNAuiwmNh+X8D+5jJsaaP4nQNV2E3zT9O4/5geu8gSiAECzeLEwRP4XQFDEIoYdRu8/4Cu69Zqe7j8VViqoqLrwPziHa7WHve8/ZQCo4sat8D9fC3pvDIHuP2GlgoqqPxRA8b2/QXv17D9EUaBP5AnwPxbB/1ay4+8/RkCFI0hl8D+4PNaMDHLwPyGunL0z+iFAXmQCfo3kE0AIc7uX+2TwP7HbZ5WZUu8/r0M1JVn3E0AJGF3eHA4AQOHOhZFeVPA/TaCIRQwrFEBREhJpG3/vP9grLLgfNDFAmzkktVAtXECsb2ByY55/QBk8TPt2AZVAeCY0SSwplz8dc56xL9nIP38xW7IqwtI/3gAz38FP/D57ouvCD87NP73GLlG9NYA/wXKEDOTZyz/JHTaRmQt8P4fddwyP/c4/nIu/7QkSez+5Nem2RC7OP448EFmkiYc/HOp3YWu2zD8iwVQzaymQPwqjWdk+NBtA7nw/NV660D874LpiRnjQP58dcF0xI9A/uB6F61G4bj/8VuvE5XjNP698lufB3Yk/5lq0AG2ryz9K0F/oEaOXPwL0+/7Ni8s/MXxETIkkij+8r8qFyr/OPzIcz2dAvXk/PzbJj/gVzT/BVZ5A2Cl2P9FY+zvbo9E/3eukviztdD8TtwpioGvPP0n3cwrys2E/OxixTwDFzj9NZyeDo+R1P/ci2o5JYYNARmEXRW+nmUBWYp6VdN90QLdDw2L0CYBALbEyGvkJXEAZ/z7jwoGQP8TpJFtdTt8/gzKNJhdjkD/USEvl7QjQP+Rp+YGrPM0/YVJ8fEJ2jj9vSnmthO7MP6QbYVERp2M/0el5NxYU0T+JB5RNud9aQEWcTrLV5XQ/J9pVSPlXcUBzvth78dU6QMIyNnRzZHlAq+tQTYnkcECPiZRmc0RuQHZUNUHUe1lAkGXBxP/lj0Btqu6RzVWDP3lafuDKu41Aj1AzpIqeMkDPZtXnavF4QHl5OlcUbGZAQBTMmAKIcEBCQ/8E18WbQBjNyvYhb5k/Jc6KqIk+zT9agoyACkdgP3EA/b5/wUtA8parH5vkrz8NiuYBLPLNP3YyOEo+9YNATx4Was1rZ0D5npEIDe1qQDXuzW+YaGA/tcU1PpP9zT9vLv62J0isP8k7hzJUxds/x0lh3uNMYz9lqIqp9BPjP2KjrN9MTJc/cSAkC5jAzT8TfNP02QGHP/Md/MQB9M8/2SeAYmTJfD+FtMagE0LQP9EF9S1zuuo/MewwJv29VD/1E85uLZPPP0t2bATidY0/rprniHyX0j9JD0OrkzOEP/D9Ddqrj9A/eVxUi4higj9oeLMG76vOP7bykv/J39A/bt44Kcx7jD/OiqiJPh/fP98YAoBjz24/12mkpfJ20T8o8E4+PbbPP8OgTKPJxVg/AgzLn28L0D8L1GLwMO1rP7A9syRATc8/krJF0m70oT8BFCNL5ljSP1kxXB0Acc0/dt8xPPaz0D9kIM8u3/qAP9Y5BmSvd88/aksd5PVgcj9V3SObq+bSP+LqAIi7emU/AFKbOLnf3j8eVOI6xhVnP66cvTPaqs4/MnVXdsHgij9sW5TZIJPQP96SHLCryc8/REyJJHoZzz/T+IVXkjyXP8jvbfqzH80/YmngRzXszz90t+ulKQLSPwXEJFzII+A/AHDs2XOZaj/oa5bLRufOP087/DVZo24/mRBzSdV20D9l4etrXWreP18NUBpqFNI/VkrP9BJjzz95XFSLiGLQP/Zf56bNONA/x3+BIECG0D9jJlEv+DTQP+vkDMUdb9I/Xg677xge0j90z7pGy4FeP+P8TShEwNA/4bTgRV9B0D9D5V/LK1cAQCSdgZGXNaE/IQTkS6jgzj/6nLtdL01RP7DJGvUQjdA/vRjKiXYVcj/8GkmCcAXRP9ZTq6+uCqQ/mgtcHmtG1D9NgjekUYGTP9Qq+kMzT9A/YRdFD3wM0T/qlbIMcazRP9nPYimSr5Q/zeUGQx1WzD+YTus2qP12Py2UTE7tDNA/0NVW7C+7zz9S19r7VBV6PxiV1AloouA/Upj3ONOE3T/9hLNby2TfP3hF8L+V7Ig/yH4WS5F8zT/dtBmnIaqgP7ACfLd549A/b2JITiZuNT+uDKoNTkTPP2Q6dHrejdM/DaZh+IiYYj82j8Ng/grSPyXJc30fDkI/PnWsUnqm0z/oa5bLRufMP/mHLT2a6s8/5UUm4NdIgj+ZK4NqgxPPPxk5C3va4dE/BfpEniRd0z83VffI5qrQP/uuCP63ko0/hsq/lleu0z/Qtpp1xvfRP6zkY3eBktM/16IFaFvN0T8iUWhZ94/QP94BnrRwWZU/nrZGBOPgzD9iodY07zjkP8yWrIpwk3E/eA5lqIqpzj/T+IVXkjx3P9hJfVnaqdM/FR3J5T+kfz+y9KEL6lvQP4BHVKhuLtE/HF4QkZp2gT/9ag4QzNHQP5CDEmba/oU/SkT4F0Fjzj+rdeJyvALRP6ZEEr2MYs8/6brwg/Op0D+ztb5IaMvPPxniWBe30dw/ttjts8pMzT9b6bXZWInSP43SpX9JKpM/nUoGgCpuzD/UZMbbSq/PP7HAV3TrNc8/h4ibU8kA0T9TIR6Jl6eDP9S6DWq/tdE/G9ZUFoVdVD9t4uR+h6LOP4WzW8tkOG4/hdIXQs77zz+NnIU97fCHP5sAw/Ln284/iEm4kEdwzT/BU8iVehbQP9sTJLa7B9I/+KbpswMu6T8kCcIVUKjPP0hQ/Bhz13I/2LeTiPAvzj9UHXIz3IDPPyegibDh6YU/mKdzRSkh0D/AywwbZf3QP773N2ivPn4/tAOuK2aEzz+RfCWQErvQP2lWtg95y94/FHZR9MDHkD8yVTAqqRPMPwJlU67wLlc/9rLttDUi0D/deHdkrDbSP/q5oSk7/dA/+kffpGlQ0T+AKJgxBWtsP2pLHeT1YNA/UG1wIvq1zz8/VYUGYtnQP5uOAG4WL3Y/exAC8iVU0D/ilLn5RnTQP6kvSzs1l2s/m6+Sj90F0j+XAPxTqkTQPxLb3QN0X9A/ZLDiVGthdj+5iO/ErBfjP8XJ/Q5Fgc4/YcYUrHE20D/UYYVbPpKSP8GopE5AE80/7kPecvVjgz8MA5ZcxeLNP0aWzLG8qx4/VwqBXOLI0D+14EVfQZqBP6iOVUrP9Mw/poEf1bDfzz+KkSVzLO+aPxhDOdGuQsw/5Xyx9+KLzj/1gk9z8iJzP0+sU+V7Rs4/uyu7YHDNXT/Ox7WhYpzPP/2Es1vLZNA/CmZMwRpncz86kWCqmbXOP6d4XFSLiNA/VtRgGoaP0T+0VUlkH2TRP+hqK/aX3c8/6svSTs3lzj/lYaHWNO/OP6gBg6RPq9c/0a3X9KCgdD/SViWRfZDQPx0hA3l2+cw/ZD4g0Jm0mT8PRBZp4h3MP6YPXVDfMuA/pS2u8Znsbz/9wcBz7+HQP6lLxjGSPdU/lQwAVdy4xz95ru/DQUJ0P5qy0w/qItE/1O/C1mzl0T8WvVMB9zzQP6yRXWkZqdM/gGPPnsvU3D8cKVsk7UafP+SfGcQHds4/qvHSTWKQ4D9crROX4xXSP4AMHTuoxIU/c9pTck7syz8aFw6EZAFzP9ycSgaAKs4/lkIglzjyzj8H8BZIUPx4P1oO9FDbhs8/iV+xhovccz8o8bkT7D/oP6PNcW4T7mU/Z0gVxauszT99kjtsIjM3P1hZ2xSPi84/r+sX7IZt0D+bjgBuFi9WP6HXn8TnTtI/Y2LzcW2o0D+Cjevf9ZnQP/p9/+bFiac/N6rTgayn0D94liAjoMJhP8VW0LTEys4/CYm0jT9R0D9Dc51GWirQP0Z+/RAbLM4/WRMLfEW30T/v4ZLjTumQP7vVc9L7xt8/XATG+gYm0z+kUuxoHOrPP2Q/i6VIvnI/GcVyS6sh0D/5vOKpRxp8P8k9Xd2x2M4/o+iBj8GKcz+tvroqUIvPP4WxhSAHZf0/6gd1kUJZ1T/u0RvuI3MzQD+rzJTW3xI/XvbrTneezj8CRwINNnV+P9+I7lnXqPs/iGUzh6QW0j9mbOhmf6CMP+F6FK5HuStAUb8LW7OVZz+95H/yd+/MP1Q57Sk5J5Y/EHS0qiVVJUASM/s8RnmWPzKQZ5dvfcw/JJ2BkZc1gT9lwi/18zYWQB08E5oklpQ/JCh+jLlr/D96UFCKVu6VP01mvK30rjJAT5MZbyu9hj9KtU/HYwbRP7H6IwwDlow/QxuADYiMMEBkBFQ4glSaP8KKU62FWc4/+u/Ba5c2XD/OiNLe4OMsQLUy4Zf6eXM/i4wOSMK+zz+Zfol46/yLPx2u1R72Qs8/0LNZ9bma9D9ODTSfc7fRP15MM93rpKY/LBA9KZPa9j9OmgZF8wBmP2kZqfdUTto/E2HD0ytleT/z5QXYRwcbQLg/Fw0Zj6I/eSPzyB8MzD+UwOYcPBNqPzeq04Gsp8w/zuFa7WEvZD8IIos08Y70P5s4ud+hKIA/7l2DvvT2zT+pF3yakxdpP/PoRlhU3DFAlNv2Peqvhz9V9l0R/G/SP//qcd9qdSFAN/+vOnKkgz/k+KHSiJnLP3pwd9Zuu3A/YOY7+IkD0D/FkJxM3LobQIKsp1ZfXSU/VdtN8M3nYUDc1avI6EgiQKYol8YvvAtAaAWGrG71rD9lprT+lgDSP+EJvf4kPqc/uarsuyL4yz8fTfVk/tGHP+9yEd+JWc8/rDyBsFOsij/YfjLGh9nQP74tWKoLeGk/SiTRyyiW4j8FNBE2PL2SPzRo6J/gYtE/PDHrxVBOlD9/MPDce7jKPxDmdi/3yXE/hsjp6/mazT+nsijsouiRP9rLttPWiMw/1jVaDvRQ0D/JkGPrGcK1P5jg1AfSrH1A7ImuCz84jz8GnRA66BLfPwOzQpHu52Q/tvRoqifz0T/V7ewrD9JzP877/zhhws4/R7Bx/bs+gz+RYKqZtYwjQJWCbi9pjIY/2qhOB7Kezj9aLbDHRLo1QE6aBkXzAFY/igRTzaytQ0CH26FhkRGCQIGVQ4ts+GRA9yFvufrtPkAnFCLgEKqEP+QvLeqT+DBAKJ6zBYRW4T8gJAuYwK3TP/NXyFwZVNE/4c6FkV7U0T90l8RZETWRPz7t8Ndkjc4/fGXequtQnT/zyB8MPPfOP4j2sYLfhog/1EfgDz//T0Ac746M1XYgQMECmDJwQPM//YaJBukTcEB/F7Zmq215QEc4LXhRc2JAJHzvb9A+BUBTBDi9i/cTQKa4quy7Iuw/6ui4Gtn1GEC3mQrxSFwIQFw4EJIF3BNAD7kZbsDn7z8mVdtN8A0QQBPXMa64OO4/OSUgJuESGEAOTdnpBzXwP+YjKelh+BdAZ7RVSWQf8T8yk6gXfOoTQJwWvOgrCPA/tvKS/8nf6z9Lk1LQ7XUcQPkupS4Z9xdAmyDqPgBp8D9wlScQdkoQQEOpvYi24+4/4gLQKF16D0Ab17/rM+f/P2yvBb03BvA/sTIa+bwCFECIY13cRoPvP48YPbdQ5mNADW/W4H25MEDzxklh3hs9QCEeiZenExRAlWHcDaLFE0DdmnRbIvcXQNaNd0fGKvI/tCJqos/XE0C4rwPnjKjzP0dX6e46qytAVMcqpWc6FUBXl1MCYhLvP0w49BYPr/A/WOVC5V9L8D9cqz3shbITQN3NUx1yM/A/XWqEfqae8D/QDOIDOz7wP2QD6WJTsoJAFFlrKKVFoUAFpz6QvEMVQAwBwLFnz+4/gIKLFTXJW0AE5bZ9j/rqP/qzHylydZdAebDFbh/1aUB8mL1su4JlQFLwFHIl5m9A/yPTodNHdEA57//jhN9OQJmaBG9I8mdAIR/0bFZ9zj+KITmZuFWgP5KzsKcdfvQ/D3uhgO1gzj9j8DDtm/vPP9rhr8ka9YA/0EcZcQFozD8mqOFbWDeOP202VmKeldA/1O5XAb7bzj9Cz2bV52rRP3Y0DvW7sM0/GjbK+s3ElD/DgCVXsfjPPzy858ByhNA/A5Xx7zMuPD+hZkgVxavMPwSNmUS94NA/jGmme53Udz/s+ZrlshH3P8U6Vb5nJM4/DOiFOxdGmj+VnBN76GlkQBObj2tDxYg//FHUmXtI0j8FUfcBSJ1BQJMa2gBsQKQ/3SbcK/P2CkADs0KR7udUPypUNxd/280/MWDJVSx+EUARct7/xwljP6Kb/YHypWFAns4VpYRgdT8TfT7KiAvQPzyDhv4JLrI/K97IPPKMYkCpSltc4zOJP1pJK76hOCRATIqPT8jOez+iYMYUrHHOPyr/Wl653oY/yw9c5QmEFkDTn/1IERmWPyuE1VjCfjRAV68iowOSzj8KgPEMGvrLP21vtyQHbOI/weEFEalp0T9qFf2hmSd3P1vSUQ5mE84/1ZRkHY6ucj9C0qdV9AcCQFtfJLTlXJo/rFJ6ppcYzT+U9gZfmExVP+v822W/DgJAGLSQgNHl0D95XFSLiGKCP8pPqn06Hs8/PgRVo1cDdD/z/6ojRyogQGHdeHdkrMw/FCAKZkzBej+62LRSCGwoQA/QfTmzXZE/14UfnE8dzz8TZW8p54vYP1wbKsb5m3A/z4O7s3bbzz+azk4GR8mbP7MJMCx/vuM/LbKd76fGzz+M8zehEAHPP0z75v7qcX8/OIJUih2N0j9znxwFiIJpP84avK/KhdI/YcH9gAcGcD8LnGwDd6DTPw1S8BRypX4/I2sNpfYizj9O7QxTW+rQP05gOq3boIY/UPutnSgJ1z/rcd9qnbhcP/t3feas7wxA2ZlC5zV2mT+ez4B6M2rRP4HtYMQ+AXQ/jQqcbAMHFUDGMZI9Qs3OPwTidf2C3dE/kL5J06Bo0D8FoidlUqMGQMIzoUliSaE/eVioNc07zD/XpUboZ+qFP2h3SDFAotY/hsYTQZyHMz+OBvAWSFDRPzKrd7gdGmY/0ETY8PRK0T/PEfkupS5ZP1SOyeL+iydAv7Z++s+abz/Karqe6LrOP7de04OCUoQ//KpcqPxryz9ivrwA++h0P6TGhJhLyhhA4gZ8fhghjD82BTI7i97LPz1lNV1PdLE/trkxPWG5JUDDK0me6/uoP9BiKZKvBMw/V5i+1xAcZz/pR8Mpc/PNP3ptNlZinnU/x2Xc1MCOZEB4KuCe5097P9emsb0W9NA/aD7nbtdLcz+aP6a1aWzRP88SZARUOJI/3C3JAbua/T+A07t4P27QP2QFvw0xXoM/o3iVtU1pQkBljA+zl23LP++SOCuiJoo/S1mGONbFzz/kuinltRLQP8HFihpMw4A/WW3+XzV3cECzsn3IW+RQQJs4ud+hKIA/Pj4hO29jzT+POGQD6WKDP8JtbeF51HdAngjiPJywH0A2PSgoxaNkQJupEI/EyxRA9Pv+zYsT7z8VAOMZNEQZQIdQpWYP9AdA6YGPwYpBVEAe4bTgRV/vP2tJRzl4UYNATiuFQC4ZIUCTxmgdVc3uP7g+rDdqRQBAB1+YTBUM8D/RIXAk0IA/QDz59NiWkRlACXB6F+/XE0DkMm5qoDnwP40LB0KyMBRATySYamYt7z/4pX7eVIQIQPeOGhNifhxACvZf56bN8D9T7Ggc6nfvP+vgYG9iSPA/SU27mGa67j/3jhoTYq7uP1bWNsXjoghAjC0EOShRFEA5J/bQPtboP9Of/UgReSBAmIi3zr8dAEDBOSNKewMAQIi6D0BqxVtAz2VqErzhIUAy5UNQNbrxP79EvHX+jQBAynA8nwHVFEDDLooe+BjvP/eOGhNizgBAsK2f/rPm7z+RQ8TNqeTsPxwG81fI7BRAtfrqqkAtrj/fbHNjesKCPw+5GW7A588/guSdQxmqkj9CQ/8EFyvRP0eRtYZSe3E/pHGo34Wt3T+et7HZkertPwjnU8cqpb8/aR1VTRB1Xz8sRl1r71PQP+hLb38uGoI/PRBZpIn35D/6Qsh5/5/wPwn+t5IdG70/HeOKi6NyYz+oVl9dFajRP0Skpl1MM30/uiwmNh/X+T8pz7wcdt+xP7fxJyob1rQ/hnR4COOnxz8ZkpOJWwWBP/nbniCx3eY/elORCmPL9D+YpghwehfmP0vLSL2ncpo/blD7rZ0o1T/fpGlQNA+QP+jAcoQMZPw/RQ2mYfiImD+S6dDpedcAQKEUrdwLzKI/wr6dRIR/yz99emzLgLPSP20dHOxNDPY/IVor2hznlj/MXradtkbOP62+uipQi5E/PL8oQX/jQEA7iQj/IogUQBgl6C/0SPA/RpbMsbyr7T8r9wKzQkReQE4MycnEnRhAkQ2ki00r8D/EzhQ632WUQA/tYwW/je0/i8Iuih74SD/xY8xdS8jNPyv7rgj+t2I/xRouck+XB0DmlICYtICYQMWScvc5Pno/u7a3W5IDzj9/wtmtZTJcP1Z+GYyxDYxAFy1A22qW8z+Y+nlTkWoYQFqg3SHFAO8/jV94JckDFEB5eM+B5XgUQAd40sJllew/9RH4w88/8D9mwFlKlnMTQKsJou4DkPE/LESHwJHgF0BRM6SK4lXrP28Sg8DKSSRA0nKgh9oGEEDQ8jy4OysUQEHUfQBSOwBAm3CvzFvVCECscqHyr+XtP5j4o6gzRxRAFEAxsmSO7z+31awzvj8aQEOQgxJm2u0/3uS36GRpCEArbtxifu7vP/BPqRJlLwdA+8qD9BQJEEDfqYB7nl8IQOzCD86nzvA/rW71nPQ+GEA3VIzzN6HuP93sD5TbRhlAelbSim84FEAG81fIXJnvP90nRwGiIABA/fZ14JwR7z9vDWyVYLEJQIofY+5achdA42vPLAlQAEBuUtFY+3vwP5bP8jy4yxhA9dVVgVpsAECXHk31ZJ4AQOtXOh+eZRhAqmOV0jM9D0AnLzIBv9YVQDpBmxw+KfA/0ZLH0/IzGEAKStHKvYDyP8DPuHAgpP4/N/3ZjxSR6z/E7juGx54LQM3OoncqECBANpAuNq2UHECI1oo2xznuP7+AXrhzIQBAA1yQLcs3H0AkJT0MrS4JQNJyoIfaLFdAcXSV7q5TCECMEB5tHDHtP55haksdRApAgAuyZfm6GUDzHmeasH3sP+wYV1wcFQBAcAuW6gIe8D/AIVSp2UP/P31dhv90w/A/Q1n4+loHHEDjcOZXc0DxPxPVWwNbz09A08CPathv6z9KXp1jQMYSQLnhd9MtYyhAibK3lPPF7T+z0Tk/xfEXQENXIlD9owBA/BpJgnAF7j9Ujsni/mMYQG4VxEDXvu4/9YHknUO5E0BJ88e0Ng0JQPcBSG3iskJAmwMEc/R46j80+PvFbInxP5FDxM2p5O8/ixcLQ+Q0AEA5Drxa7kzvPwAapUv/EhRADCO9qN2v7z/XGHRC6EAAQCGQSxx5YPA/Bd1e0hjt8T/7zi9K0F8XQGr2QCswpPA/FCaMZmVbFUBlpUkp6HbvP/kwe9l2aiFAsmfPZWoS7z9RaFn3j5k/QHSXxFkRNc8/Fvw2xHidGEDPglDex9F8P3XJOEayR9E/EhPU8C2sez8kRWRYxRvTP4em7PSDOv4/5ZttbkxPmD+/8EqS5/rMPw8nMJ3WbZA/BtZx/FBp0j8gYRiw5CpWP2ADIsSVs9A/LuV8sfeOYkBOtoE7UKeMP6d6Mv/om8w/ijkIOlrVYj+y8zY2O9I5QBh7L75ofxJAO22NCMbB7T9xrmGGRut/QE7QJodP+hRAF9aNd0fG+j9N2lTdI1siQHk+A+rNKPQ/zHnGvmQzFECHa7WHvdDoP7neNlMhbhlALXjRV5CvWED68CxBRpA/QOCe50+be3NA66hqgqj7kD/zyB8MPLfwP8MQOX09X4M/ZOWXwRiRzD+SPNf34SCpP6kwthDkoN0/26fjMQO9M0BYc4Bgjh6PP1TDfk+sU9E/SBrc1haeZz87xhUXRwk7QAu0O6QY12JAv9alRuhnzj9uhbAaS1jQPw70UNuG1lZADWyVYHE40T+30JUIVP/OP6OVe4FZoZg/nStKCcGq3z+FJ/T6k/h8PwAd5ssLsNA/dvusMlNajz/Cps6j4v/QP6t5jsh3KYU/aw2l9iLazj+3skRnmUXWPwoPml33Vs4/Nh/XhooBFUA43EduTbq1Pw/vObAc1TNAWK63zVQ6QED3j4XoEDgiP0dX6e46G8w/IqtbPSe9sz/dJtwr81bRP/w3L0589fA/orJhTWVRiD8Z5gRtcvjOP/yp8dJNYuA/+nspPGh2fT8KavgW1o3SP7PROT/FJUJALSY2H9eG0D+536Eo0CeCP/naM0sC1Mw/pSxDHOvihj9+VS5U/j9JQNV2E3zT9Hk/9kIB28GIzz9zg6EOK5RIQLqCbcST3Zw/OsrBbAIM0z+CkZc1scDRP/Rvl/26020/BP9byY6NQECYTBWMSmruP4YfnE8dK+0/04VY/RFmGUD/eRowSHrxP7QDritmIDZACM2ueysS7T/zWgndJeEXQDZbecn/pPA/95LGaB1V8D+O5zOg3szwP7yTT49tGe4/VRaFXRQ97j80oUliSSkYQPbU6qurgvE/HvtZLEVy7j8exqS/l4JEQIj2sYLf1hVAHClbJO1G6z+p2JjXEZccQM0FLo81I+4/ETenkgGgFEDgvDjx1U7wP3S1FfvLLhxAUUtzK4SV8D+CPLt866MAQL2NzY5U3+8/zuLFwhBJGEAmcsEZ/H3mP8L6P4f5UhVAlZuopbkVA0BoQSjv42juP1Ou8C4XMRxAETroEg697j/bw14oYFsoQFslWBzOpCRA0XXhB+eT8D/4GKw41YJIQHS366Up4hhAu0VgrG9g7z9tG0ZB8IgUQGouNxjqcPA/bhRZayhlGEBsW5TZIBPtPxniWBe3kQhAXFfMCG/P8j9KDW0ANuD/Pyno9pLGKPE/+mAZG7rZ6T8HB3sTQzLxP4L917lpM/A/OGbZk8CmCEAtP3CVJ4giQAso1NNHoBtAlGk0uRiD7j+MoDGTqIcVQK1rtBzooQhASMDo8uZw7z9eZW1TPM4XQNNrs7ESc/E/gnLbvketF0DkolpEFBPvPybFxydkpwBAdVd2weCa7z/HoBNCB/0XQGmOrPwyWPE/vyfWqfJ9GkCpMoy7QTTlP6w7FtukwhBA7Z3RViWhEECc3zDRIAXrP0Fn0qbqfgBAwtoYO+Gl7z93nnjOFuxUQETcnEoGQPs/jdR7Kqc7RkBFEyhiEYtVQFLUmXtIeABALT4FwHgG4T9eLAyR01f2Pwyx+iMMIxRAvFmD91W55j8Zyol2FdL0P/fq46HvLgBAzuFa7WEv7T+YGMv0S5QWQFw9J71vfOw/NIEiFjHcHEAiADj27LnwP+PjE7LzNu8/fJ3Ul6WdG0BJLCl3n5MiQNqM0xBVID5AcnDpmLNkgUDDYz+LpahTQJxR81XykRtAqrncYKgD8D+SA3Y1eUrrP51mgXaHJBtA+l+uRQuwA0AAqU2c3K/0P2FT51Hxfy5AT6xT5XvG8D+a6zTSUpkKQJxQiIBDKO0/P1JEhlXcB0C2aAHaVpFGQNj1C3bDvi1AVpqUgm5PCUALtDukGKAIQDrMlxdgX0JAZDvfT82UeEDBbti2KGJXQMOBkCxgflpArwrUYnAYckBahGIraJoYQPgcWI6Qge0/nUgw1czqFEC4PNaMDDLxPyXoL/SIUe0/G0ZB8HgGckChMCjTyJSUQH7FGi5yLYVAUOCdfHpGU0DLviuC/60bQNDTgEHSJ+0/br98smJYHUDvHqD7cmbrP/D6zFmfEiJANQnekEYFGUCrz9VW7G/wP7U2je21oAdAMsueBDbXE0ANVTGVfuIQQGvvU1VowB9AQgqeQq5U7T95Wn7gKk8AQAVtcvik0/A/BBvXv+uFSkA1f0xr01jtPwH76NSVhUVAZvfkYaFW7T92iH/Y0g82QGsPe6HABXhAr0M1JUlgmEBjCWtj7ISHP0+y1eWUgMQ/g6EOK9zykT/NHmgFhqzOP5DcmnRbIkc/L8N/uoEC0j9fJR+7C5Q0Pz2CGylbJNE/v9TPm4pUWD9gdk8eFmrPP5uOAG4WL3Y/liGOdXEb1D+Iu3oVGR1gPzOny2Ji89I/xm8KKxVUlD8GLLmKxW/MP8KIfQIoRmY/oP1IERlWzz9SX5Z2ai6HP485z9iXbMw/AiuHFtnOhz8Er5Y7M8HfP5aX/E/+7n0/oMa9+Q0T0z9upGyRtBuNP6UQyCWOPNQ/IAvRIXAkkD8P0765v3rbP08g7BSrBtA/dmuZDMfzeT8R4V8EjZnTP8U8K2nFN3Q/Dp90IsFU1D8jMUEN38KKPx40u+6tSNE/t32P+usVNj9do+VAD7XNP9eGinH+JkQ/akyIuaRq0D+HbYsyG2RiP+ik942vPdI/7j7HR4szzj9TzEHQ0arMP5uRQe4iTJE/l6lJ8IY04D/gRzXs98TRP2xDxTh/E5o/7IfYYOEk0T/dXz3uW61TPx+fkJ23sdE/h2wgXWxa0D+QaAJFLGLTPzYdAdwsXtA/IuAQqtTs1T+DE9GvrZ+OP20gXWxaKdE/jZqvko/duT9SgZNt4A7gP8B4Bg39E4w/nkXvVMA90j9sPxnjw+zNP8F0WrdB7Yc/LZYi+Uog0z8mUprN4zB4P1/tKM5RR9g/HAqfrYODzz9Ui4hi8gZ4P5McsKvJ0+A/hLndy31yJD8Z48PsZdvQP69A9KRMatA/wELmyqDa0T8Ur7K2KR53P75nJEIj2M4//TIYIxKFZj8Mkj6toj/TP/lmmxvTE+E/1gEQd/Uqzj8jvD0IAfmSP82QKopX2eI/JqjhW1g3jj/Gbp9VZkrTP3IUIApmTNE/VS+/02TGez8tJctJKH3eP5eMYyR7hGo/zhYQWg9f1j+8CFOUS+NHP9Ydi21S0eQ/lZ9U+3Q83D9r8pTVdD2BP7xa7swEw9U/k40HW+z20z/oZn+g3LbbP4YfnE8dq2Q/8FAU6BN50D8aaam8HeGEP71xUpj3ONE/+fVDbLBwYj+536Eo0CfOP82v5gDBHI0/X9Gt1/SgzD996e3PRUPQP/BPqRJlb9U/u4CXGTbKzD84EJIFTOCWP3Nmu0IfLM8/sMvwn26g4D/5odKImX2OP+SiWkQUk98/uFfmrbqO7T96bTZWYp7NPzhm2ZPA5jw/yhZJu9HH0T8Le9rhr8lqP6X2ItqOqdE/C3+GN2vw4j9BZ9Km6h6ZP8FY38DkRtA/aZCCp5ArhT9I3c6+8iDlP49QM6SK4tE/7E53nnjOhj+HTs+7saDlP7gBnx9GCNg/Fk7S/DGtyT9Robq5+NuOP7YUkPY/wNA/mfViKCfadT+V1t8SgH/iP8wnK4arA+M/csKE0axsXz9SRIZVvJHHP3i5iO/ErHc//z147dIG4D+vfJbnwd2ZP0lnYORlTek/uK0tPC8VWz+yZfm6DP/cP807TtGRXI4/85L/yd+9zz+05zI1Cd5gP5EMObaeIdM/PfGcLSC0fj8z38FPHEDhPxTrVPmekaA/dm1vtyQHzj+d1m1Q+62lP/8DrFW7Jsw/nMJKBRVV0T/zOXe7XpqSPxQF+kSeJMs/ZTbIJCNn0T/g1t081SHQP8Ue2scKft4/0H6kiAyrzD+By2PNyCDQP91CVyJQ/ZM/y/j3GRcO0j+Uap+Oxwx0P5dyvth78dU/Jc6KqIk+bz8vhnKiXYXSP1q6gm3Ek30/jqz8Mhgj0j+pF3yakxdpPz57LlOT4NA/QUgWMIFbhz/mP6Tfvg7QP1DkSdI1k9s/E0NyMnGrzj/9vRQeNLvnP58dcF0xI4w/teIbCp8t4j+7l/vkKEBUP+SCM/j7xdE/xZJy9zk+ej+dvp6vWS7QP40ngjgPJ84/mKQyxRwEpT/JrN7hdmjMP7jmjv6Xa3E/v9GOG3438D8NpmH4iJhiP8qMt5Vem9A/LKBQTx+Bjz8Oh6WBH9XePxiT/l4KD2o/Rnh7EALyzz+/RSdLrfdbPwu0O6QYIM8/1T2yuWqekz8qi8Iuih7QP12JQPUPIrE/Rz6veOqR0D90C12JQPWvP+3WMhmOZ+A//Pz34LVLSz+COXr83qbiP+zdH+9VK0M/mBWKdD+nzD87i96pgHtuP4c0KnCyDdI/nrex2ZHqyz/3zf3V476FPwtFup9TEOs/ogip29lXfj/dYKjDCrfVP+4ljdE6qno/eM+B5QgZzj/93NCUnX6APzf/rzpyJOQ/CMpt+x710T98DixHyEB+P+cdp+hILvE/i+B/K9mxoT/kvP+PEybKP4ld29styZE/stZQai+izz+FXKlnQSjSP314liAjoJI//HJmu0If0T9B8Pj2rkHPP7YRT3Yzo38/Y0M3+wPl0z+X5lYIq7HEP15LyAc9m9E/4qyImujzyz86kst/SL+NPwh0Jm2q7tE/9kGWBRN/ZD/bF9ALdy7TP9ap8j0jEYo/pp2ayw2Gyj93aFiMutZ+P6CJsOHpldA/FCAKZkzBWj/qzhPP2QLOPx2SWiiZHOA/78nDQq1p0T9QAMXIkjl2P0XylUBK7OI/iQeUTbnC3z818Q7wpIXPP1T83xEVqms/9zqpL0s74j8eigJ9Ik9yP/evrDQpheA/2q7QB8vYgD9xOV6B6EnPP3XLDvEPW6o/3QvMCkU64D/l0Y2wqIjPP1ngK7r1ml4/aeGyCpsB1T+azHhb6bWJP4xNK4VALss/gUI9fQT+gD8llL4Qct7SP5C+SdOgaM4/hc5r7BLVez9U/Urnw7PSPxSVDWsqC+E/rqBpiZXR3D8hPrDjv0AwP6lpF9NM97o/1SKimLwB1T+DNGPRdHaSPw02dR4V/9E/s5quJ7ouzD8SMpBnl2+NP0z/klSmmM0/XJIDdjV58D9N27+y0qREP2BXk6esps8/GArYDkbsYz825J8ZxAfKP8/4vrhUpdI/4Sh5dY4Bzz9z1TxH5LvVP+aQ1ELJ5HQ/81XysbvA4T9VibK3lPOtPzIDlfHvM+A/fy+FB82u0z/191J40OzTP++SOCuiJpo/hEvHnGfsyz+2SrA4nPmFP/UPIhlybM8/1m670FynkT+ciH5t/fTPP6d38X7cfuE/0lPkEHFz0D9TlEvjF17QP1a7JqQ1Bn0/HcpQFVPpzz9JnBVRE33OP1w7URISad4/gEkqU8xBcD9GCmXh62vPPw8qcR3jitA/GQCquHGLzz+WzLG8qx6AP0hwI2WLpNE/aK8+Hvru1j81fuGVJM/QPzV/TGvT2H4/5h4Svvc30T+vtfepKjRgP8nk1M4wtc0/OdBDbRtGkT+kNnFyv0PSP3BE96xrtNI/Y7Mj1Xd+cT9nutdJfVnQPxCWsaGb/aE/x2MGKuPf0D/BHahTHt3iPxb7y+7Jw5I/hH8RNGYS1z88+fTYlgHZP1pmEYqtIOQ/9aCgFK3c0z8DXmbYKOuHP3XpX5LKFM0/RImWPJ6WLz+US+MXXknSPz5CzZAqinc/em8MAcCxzz/T9UTXhR98P+zdH+9Vq+M/v7hUpS2ugT+TUtDtJY3QP420VN6OcM4/jX3JxoMtzj/hRPRr66enP/SLEvQXet8/wVd06zU9mD+29dN/1vzMP6QzMPKyJpY/AMYzaOif0z+vJ7ou/OCMP6GEmbZ/ZeM/6EzaVN0jaz+3Q8Ni1LXMP5xsA3egTtA/A7ABEeLKeT8HeqhtwyjOP33MBwQ6E+A/PUhPkUPEzz/LDvEPW3qEPyqnPSXnxM4/yVpDqb2I0j8N+tLbnwviP6io+pXOh8s/rwj+t5IdWz/wbI/ecB/QP3Pxtz1BYtE/CeHRxhFr0j+oixTKwtfQP9Z0PdF14dA/zTrj++JS0T+IuDmVDAB1P2b1DrdDw9A/DaZh+IiYUj8LnGwDd6DOPxBaD18mimA/IJbNHJJa0T+FzmvsEtV7P/+WAPxTqs4/Zhah2Aqadj9KtyVywRnSP+zCD86njoU/iULLun8syj+1cFmFzQB3P4Ln3sMlx88/0R4vpMNDaD8S9u0kQviKQGQHlbhm8bhAcAhVahbgqEDx9bUuNQL1P9cS8kHPZoU/SmHe40wTzj9/FkuRfCWQP/yPTIdOz80/nzws1JrmbT8ebLHbZ5XPP4elgR/VsI8/9Ib7yK3J4D+9pgcFpWjRP8dJYd7jTNA/kgiNYOP60j9tVn2utmLUP47onnWNlts/rW71nPS+0z8qrb8lAP+EP7kYA+s4fs4/WFhwP+CBwT9AijpzDwnPP5PDJ51IMHU/cRx4tdyZ4T/CwHPv4ZLNP1yufmySH+A/lPdxNEdWnj/Vz5uKVBjNP3kgskgT79I/OdIZGHlZYz/urx73rdbNP64q+64I/t4/n48y4gLQzj9xOzQsRl2bP93OvvIgPdI/nDI334jueT9dpFAWvr7ePwiRDDm2npE/ol2FlJ9Uzz81lrA2xk7RP5Vm8zgM5uk/xyqlZ3qJ3j/9LmzNVl6SPw677xge+80/GXEBaJQuzz+/ub963Ld6P5/MP/omTdE/Zi5weawZOT+Y3v5cNGTOP5peYizTL9E/JZASu7a3iz+J0XMLXYnOP0FmZ9E7Vfc/ySB3EaZo+j9Y42w6AriZP2Mpkq8E0vE/z4O7s3bb0T/Jyi+DMSJxP3Y25J8ZpCZAQX+hR4yeez9KCFbVy+/QPxCTcCGP4KY/3dCUnX5Q0D+DaoMT0a+dPz27fOvDGjhAvRk1XyUfoz8xt3u5T7o+QFCMLJljeXc/syRATS1bzT9AogkUsYjQPx0ewvhp3Gs/gh3/BYIA0T+jI7n8h/SLP2He40wTts0/CCC1iZObEkDY1eQpq+mKP9CbilQYW9I/vyhBf6FHpD8Rj8TL07nOPw05tp4hHIM/9KW3PxftGEDY8zXLZaOTP3f0v1yL5hFAXoJTH0jeiT/woxr2e2LiP1p/SwD+KXU/6SgHswkw0j+l9bcE4J+CP14PJsXHJ9E/a4DSUKOQ0D8hzsMJTKfSP+rNqPkq+d8/tyQH7GryZD/Bq+XOTDDRPwZGXtbEAs0/u2BwzR39zz+8Azxp4bKaP+mcn+I48NQ/5uWw+47hgT+0OGOYE7TPP3b9gt2wbXE/RpbMsbxbEUCun/6z5sePP4hjXdxGA9A/2uGvyRr1cD875dGNsKjQP3XJOEaypwdAaJHtfD81sj/hmdAksfQTQDvgumJGGARA/kemQ6fnzz8TYcPTK2XPP9PddTbknzk/4GjHDb/LMUCy1Hq/0Y57P3wOLEfIQDJAw2UVNgNckD8FUmLX9nbPP0Z9kjtsIoM/26LMBplk0T+7K7tgcM1tPyNJEK6AQtI/SwLU1LK1jj9TrvAuF/HPP8GO/wJBODFA4gURqWkXkz/RlnMprirNP6YpApzexYs/pWq7Cb5p1D8abVUS2QeZP1q9w+3QsNA/91s7URLqLUASZ0XURN//P7gehetRuH4/NV1PdF34zz8Zyol2FVKeP/z9YrZkVc4/QIf58gLs0T8tJjYf14bOP/m/IypUN3c/zVoKSPsf0z9D/plBfGC3P4v/O6JCdcU/dcdim1Q00T/on+BiRQ3YP7WjOEcdHck/rYVZaOc01j9aRuo9ldN+PxGrP8IwYNE/B3qobcMo0T+QoWMHlbjQPxniWBe30ZA/4978hokG4z9Tr1sExvrQP+V9HM2RldI/9b7xtWeW0z9oBYasbvXeP0Uvo1huadQ/Ft7lIr4Txz9ntiv0wTKmP1LX2vtUFc4/36Y/+5Ei0j8BomDGFKyBP1iNJayNMQJAwJMWLquwaT+CHf8FggDQP0iLM4Y5QXs/Ps+fNqrTzz/RQZdw6C1eP+xsyD8ziNU/T3eeeM4WYD/FH0WduYfWPzYiGAeXjtE/KnReY5eofj/FBDV8C2vsP3O9baZCPII/mWIOgo52DkCRKopXWdt0PxvWVBaFXdA/fXcrS3SWiT9H6Gfqdcv8P6LuA5DaxKE/hdGsbB/y0z8KvJNPj20ZP5m7lpAPes4/L9y5MNKLej+scMtHUlLwP1uwVBfwMs0/8ghupGyRhD8E4+DSMefPP3ehuU4jLZU/8nnFU4801T8rwHebN07QP6xT5XtGIts/2qm53GCozz/S/DGtTWPTPzbK+s3EdOA/i1OthVlo1D9S7j7HR4uDPwJnKVlOQtE/aQJFLGLYzz/pKAezCTCwP/eRW5NuS9c/hxqFJLN6zT96whIPKJuCPzYf14aKERlA0uC2tvC8lD+LbOf7qfHRP/88DRgkfYo/CyqqfqXzzz9trS8S2oIUQFis4SL3dKU/TFKZYg5CDkDZImk3+pjQP0LQ0aqWdGQ/gT6RJ0nX4D9ehZSfVPuUP1TGv8+4cNE/M4l6wadZGEAPDvYmhrQYQAmNYOP69+w/TvBN02cHjD9cGyrG+ZvOPyvZsRGI19I/NC+H3XcMzz9wlScQdop1P5Z2ai43GNQ/3Xu45LhT0D8/x0eLM4aZP2tFm+PcJtE/ui2RC87gzz9iSbn7HB/PP2StodReRNE//ffgtUsbrj+rIAa69gXOP9qrj4e+u4U/l1KXjGMk0D+VgQNauiRNQB8sY0M3CxVAmNpSB3k9iD/Wx0Pf3crRPzyDhv4JLoY/jWMke4Sa0T+asP1kjA+DP65jXHFxxBJAEXLe/8cJcz8BTu/i/TjhP6Kb/YFy254/cXZrmQx3GEDJ5T+k314fQCOGHcakv2c/gxWnWguTFUA0gLdAguKXP5RPj20ZcM4/gGCOHr+3sT9T6pJxjIQJQIdPOpFgqok/sTIa+bzi0T9ZGY18XvHQP9tMhXgkXrY/iQtAo3Tpzz9DxTh/EwpxPw4RN6eSAdM/Z5sb0xOWoD+RK/UsCOXdP9nRONTvws4/BthHp658dj/lZOJWQYzgP5eqtMU1PtE/hIJStHIv0T96xr5k48FWPznRrkLKD/8/cclxp3Sw0D/+DG/W4H11PxSwHYzYJ9I/UG9GzVfJ0T8i36XUJeNoPwSuK2aEt9E/J7wEpz5UT0BmLnB5rBlJP0HTEiujkcs/Cf1MvW4R1D+eRIR/ETTRP//PYb68ANA/aXBbW3he2z96VtKKbyjmP7FppRDIJZ4/FcRA176A0D/y0eKMYU5wP7cJ98q8Vf0/jIF1HD9Uaj9XPsvz4O7TP3ptNlZinnU/m+eIfJdS0D9xHHi13JmZPwoS290DRBBAFXDP86eNmj8O3ewPlFsfQB6pvvOLErA/58WJr3ZUBEAtWoC21ayDPxzPZ0C9iRJAt/EnKhvWdD8j+UogJVYAQDj27LlMTdA/pMLYQpCDcj9Kfy+FB70QQD1kyodEDLlApWlQNGc4pUB3K0t0lgZxQIcZGk+E92BA8YKI1JSLiUDZJhWNtc2GQFkV4Sa7nKJASvCGNGoeeEBpjqz8sktuQCFYVS9fh5ZA",
          "dtype": "f8"
         },
         "yaxis": "y86"
        },
        {
         "boxpoints": false,
         "name": "2025-10-02, 1.000700",
         "showlegend": false,
         "showwhiskers": false,
         "type": "box",
         "xaxis": "x87",
         "y": {
          "bdata": "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",
          "dtype": "f8"
         },
         "yaxis": "y87"
        },
        {
         "boxpoints": false,
         "name": "2025-10-02, 1.000800",
         "showlegend": false,
         "showwhiskers": false,
         "type": "box",
         "xaxis": "x88",
         "y": {
          "bdata": "a2PshK8+pUBRMGMK1gA1QHR63o0FEXhAmgewyG8bkUAi+rX1E9h4QAQfgxVnpopADvYmhuRkoj/LETKQZ5fQP7tIoSx8fZ0/Mxr5vOKp0D9ruwm+afrfP+8CJQUWwHQ/HomXp3NFzz9vZYnOMouQP6RwPQrXo98/fc9IhEawgT81JO6x9KHQP8kh4uZUMpA/4bN1cLA3zz+EEmba/pVlP6JdhZSfVNQ/DogQV87e0T/FO8CTFi7NP633G+244dA/L/fJUYAoaD/7lc6HZwnQP2Mpkq8EUpI/DkktlExO0D/turciMUHPP6zHfat14oI/yHpq9dVVzz+4WicuxyuAP37H8NjPYtA/Hch6avXV0j+p2m6Cb5rYP4Y8ghspW9U/0NbBwd7EgD9BYyZRL/jMP3MwmwDD8tA/iq92FOeozT8kfzDw3HvSP8GMKVjjbNE/qySyD7IsiD8OSS2UTE7PP5RNucK7XNI/TrSrkPKT0D9m3NRA8znSPy9rYoGv6M4//9DMk2sK0D9sPUM4ZtnPP0LNkCqKV4k/oz808+Sa0z/woxr2e2JtP8jvbfqzH+A/x2Rx/5Hp3z84hCo1e6B1P4y5awn5oNY/T+j1J/G5Uz/ysFBrmnfQP1vNOuP74nI/tklFY+3v0T+y2CYVjbXUPy/5n/zdO8w/yhZJu9HH0T9znrEv2fjpP3wKgPEMGs4/jgJEwYwpeD/4qL9eYcHNP0pCIm3jT9A/hCo1e6AVeD9Czvv/OGHOP2bYKOs3E9A/w/F8BtSbcT+fWn11VaDQP9dP/1nz48s/Ul+Wdmou4T9ag/dVuVCJP7AgzVg0ndE/eA360tufmz/U824sKAzOP+wUqwZhbtA/rYpwk1FlWD+DwMqhRbbTP2/yW3Sy1NA/m+eIfJdSzz/KGB9mL9vRP1ZHjnSGZXxAaJQu/UtS0T/d7uU+OQrOPxzQ0hVsI34/oI1cN6W8zj+Zfol46/zRP57RViWRfXA/SyAldm1v0T8OTdnpB3VhPyE9RQ4RN+A/BaipZWt9zz9No8nFGFiXP79/8+LE1+c/RYR/ETRm1j/iHeBJC5d1P+xP4nMn2Ms/O4+K/zui0T8jvD0IAflyP8h+FkuRfM0/fQOTG0XWWj9oJEIj2LjRP+BMTBdi9dQ/IXNlUG3w4T9jl6jeGtiiP4Hrihnh7dY/AkcCDTZ1bj/d7uU+OUoTQI8X0uEhjG8/3uS36GSpzT8dIJijx+/RP6DgYkUNpqk/fVnaqbnczD+i7Zi6K7vRP9ulDYelgX8/v0NRoE/k3D8ct5ifG5qiP1UuVP61vMw/XP+uz5z1oT+J1LSLaabNP2fUfJV87NE/XaRQFr6+zD/5E5UNayrTP76lnC/2Xow/4BCq1OwB6D9beF4qNuaFPw/VlGQdjsw/gEdUqG4ujj9/TGvT2F7NP9bgfVUuVNA/DogQV87+F0AhO29jsyN1PwfTMHxETNE/Vdy4xfzccD+o5Qeu8gTQPwDJdOj0vGs/vAfovpxZ4D/186YiFcaGP1M+BFWjV9Y/tHHEWnwKzD83UOCdfHqkP0M7p1mg3c0/mnecoiO5zj+bHam+84vSP7A6cqQzMII/V0J3SZwV0D9Om3EaogqPPzz1SIPb2s4/6QyMvKyJ0z8FwHgGDf1DP0lJD0OrFFVAMNRhhVs+Yj/7OnDOiBIAQISDvYkhOWk/GAgCZOjY2D9Q/1nz4y/PP1w7URISadE/uHTMeca+0D/Jrx9ig4VzP+hOsP86N80/WMudmWA4dz9tN8E3TZ/SP83NN6J71oU/r8xbdR2q4D84LA38qIbNP7vVc9L7xs8/WYtPATCekT+QwB9+/nvSPw9iZwqd19A//wQXK2owzT9/+PnvwWt3P+wzZ33KMdA/Ieo+AKlNbD9hNCvbh7zSPxPThVj9keA/rBkZ5C7CZD8uVz82yY/cPxnkLsIU5XI/Iy2VtyOc0D+dKt8zEqFhP3FXryKjA+E/aK7TSEvlxz/dYKjDCrfQP2LX9nZLcs4/+zpwzojSjj+HbvYHym3bP6IIqdvZVz4/nrKarie6pj8uOIO/X8xmP5UO1v85zM0/VyHlJ9U+fT+3DaMgeHzQP1siF5zB388/YwrWOJuOkD90tKolHcUEQDhpGhTNA3g/8YPzqWOV0T+gihu3mJ/SP4nTSba6nHI/ehhanZyh0D9VE0TdByDQPwCpTZzc74A/uB0aFqOu0z/8471qZcLPP0pCIm3jT84/zlFHx9VI4D9FK/cCs0KRP0KVmj3QCsw/VUyln3B2qz+xa3u7JTnRPxprf2d79NM/8fCeA8sRzj9KJxJMNbPSP8Yy/RLxVuI/fnTqymd5bj+ILqhvmdPPP5QWLquwGdI/EolCy7p/3D+EgefewyXbP7fT1ohgHNQ/ZMxdS8gHtT9JSQ9DqxPhPwsqqn6l880/mbfqOlRTkj+fzD/6Jk3PP9f7jXbc8Js/0jWTb7a5zT//6QYKvJPhP2moUUgyq88/499nXDgQkj/WxtgJL0HgPxKifEELCVg/pKt0d50Nzz8T8GskCcIVP+NPVDasqdE/6UXtfhXgzT+Mu0G0VrTNP3YcP1QaMdI/OnZQiesYdz9H5SZqaW7QP029bhEY62s/DcNHxJRI0T9SnQ5kPbXRP4quCz84n+A/ijve5Ldo4D9HkbWGUnvPP7NAu0OKAWI/GOyGbYsy0z+yhSAHJczOPy/6CtKMRdA/GqN1VDVBdD/w3lFjQszNP8sr19tmKpQ/R8fVyK60zj9oW8064/uiPwzMCkW6n94/bf/KSpNScD/Z7bPKTGnSP2zsEtVbA88/RYMUPIVc0D/tnGaBdofQP2eY2lIHedE/iQtAo3Tpjz+tvyUA/5TQP0PKT6p9Oo4/d/UqMjogzz8cCTTY1Hl0Pyv3ArNCEeo/yThGskeoeT/rc7UV+8vKPwRUOIJUitA/sYaL3NPV0z9wXpz4akeBP41donprYNA/pu81BMdljD8buAN1yqPPPyMUW0HTEtA/7IhDNpAuhj/MlqyKcJPPP4ih1ckZios/3zXoS29/0j+l2qfjMQOFP1/svfiiPc4/p5VCIJc4gj/r5AzFHW/QP1Thz/BmDd8/ke18PzVeij/Vr3Q+PEvQP2O2ZFWEm+I/JlKazeMwiD+bAwRz9PjPP+bOTDCca3g/HxMpzeZx0j/uzATDuYZ5P35Uw35PrNE/9kIB28GI0T9vKlJhbCHSPzVFgNO7eM8/bY0IxsGl0D9IMxZNZyfNP5SkaybfbIM/M1LvqZz20T+fc7frpSnYP0oLl1XYDIA/i8Iuih74zj+x4emVsgyBP1iP+1brxNA/PuqvV1hw0D+wrDQpBd1+P5vj3CbcK88/14o2x7lN0j+QgxJm2v5lPzlgV5OnrN4/MGR1q+ekrz8OZaiKqfTPP5S9pZwv9t4/m3Eaogp/zD/To6mezD/QPxAk7xzKUIU/sI9OXfkszT/GMZI9Qs2QP3mVtU3xOAFAWaKzzCIUez8wDcNHxMQoQKIKf4Y3a4A/E7U0t0JYzT9oXaPlQA+FP3E7NCxGvSFAD7iumBHebj+XN4drtSccQDIfEOhM2nQ/qKym64mu/j//klSmmMsrQHmUSnhCr48/VRhbCHKALEC6LvzgfOqIP4Cdmzbj339AuJVemw3yg0CbVgqBvHyNQPn3GRee/ZJAiXssfWjyckBsmKHxxAtqQAQBMnTsoFI/G55eKcvIXUAqc/ON6F70Px/WG7XCtBNAOKRRgZMNJkCRQ8TNqSTwP8YX7fFCOu4/S1gbYyd89D9wsDcxJCfuP+Qs7GmHv+4/46lHGtwyaEDrqdVXVwXOPxNFSN3OvpI/5uYb0T18YECTVKaYg/1sQLNF0m70MW8/bTzYYrfPzD9MNEjBU8h1P6OVe4FZy0ZA1Em2upwSgD/jwoGQLGDSP9QrZRniWGc/2XbaGhH8EUBlbynni71nP+lJmdTQhvA/rDyBsFOsSj+vsOB+kOqYQByxFp+Cx21AuOf504ZReUBW9fI7TSYBQO7O2m1XC3pAOkAwR4/zWkCi7Zi6KzReQDum7souWP0/VpxqLcwSNEDtndFWZZeCQKH18GWiCAFAyR6hZkhHbEDHKqVn+kZ/QGhCk8RSvYpAiGnf3F89nj8QdLSqJR3iP52huOPNf2FAhjyCGylZY0CV7q6zIWszQDbqIRrdkRBAx735DRNdGUBs0QK0rWbLP1zHuOLiSABARu1+FeC7yT/mIOhoVUv8P5vJN9vcmLI/kYDR5c15IEDWGd8Xl1IkQMO2RZkNMsc/uoeE7/09EEAG2EenHsalQB3jioujcnM/8PyiBP2Fzj/ekhywq8lzPx3KUBVT6c0/bApkdha9cz9mTMEaZ9PNPzYhrTHohIA/EVK3s688zj81mfG20muDPyu9NhsrMc8/H4SAfAkVfD84glSKHY3gP1d5AmGn2Og/aJPDJ51IkD+eCOI8nMDOP9tSB3k9mMw/zAcEOpM2dT9ckC3L1yUAQK5nCMcse3I/MSO8PQhBCUDsvmN47GeBPy0GD9O++f8/ZY16iEZ3cD81Q6ooXsUDQKciFcYWgkw/FM0DWOQXDUDHnj2XqUmAP7vx7shYzSJAuRluwOeHYT+Hi9zT1f0IQE4pr5XQXZI/nwQ25+CZ3j+1wYno19afP2RYxRuZ9y1A3GPpQxfUhz+VEKyql9/PPyOERxtHrK0/esiUD0HVyj8DJ9vAHahzP+NrzywJUNA/soF0sWmlYD9RbAVNSyz1P2O3zyozpdA/xyqlZ3qJ0D9IFcWrrG2qP7RWtDnObco/mZzaGaa2zj+WI2Qgzy7QP2CTNeohGn0/1q2ek9738z+tTs5Q3PGWPwUx0LUvIOE/ECIZcmw9zz+YLy/APjqtP8YwJ2iTw8c/zZTW3xKA1z9Yqgt4mWHNPyCcTx2rlG4//1w0ZDxK0j+hnj4Cf3j1P9ECtK1mnYE/tFiK5CuBzj9LAtTUsnX0PyxGXWvvU5U/uOUjKelhzD/IBtLFppXOP71zKENVjPQ/G0gXm1YK0D/qWKX0TC+BP+rPfqSIDM8/lialoNuL9T93vMlv0cmqP5uNlZhnJck/bM7BM6GJ9D84v2GiQQrgPzi9i/fjdvQ/f9qoTgeyfj8x6lp7n6rfP4xppnudVPM/RZvj3Cbczz9bRBSTNyAXQHDNHf0vRyxAYASNmURdAEDFxVG5iVp6P0QV/gxv+jhA44v2eCEdbj8C2IAI8Yt8QAq8k0+PbWk/JAuYwK27zz/i6CrdXWfPP1de8j/5u5c/3h6EgHwJzz8i/fZ14JxxP2AGY0Si0N8/0zJS76mclj/f4XZoWIzfP5LsEWqGVHE/BcO5hhkazz+hvI+jObLQP4nTSba6nEI/7fMY5ZmX0D9MqODwgojQPxkBFY4gldI/Q5CDEmba0D9NvW4RGOsrP3Vat0Htt9A/pdk8DoP5zz+pF3yakxd5PyAkC5jArc8/cjYdAdws3j/qA8k7hzJ0P77bvHFSmNE/LT4FwHgGzz8ShCugUE9vP1Ist7QaEtE/Y1+y8WCLfT+5ADRKl/7RP0xxVdl3RdI/1ZXP8jy4zT8/HY8ZqIzLP9HoDmJn/lpAjZyFPa1qfEAXuhKB6ppRQOoI4GbBW7hARaFl3X+Fi0CB6bRuY/eMQOVC5V/LuohA",
          "dtype": "f8"
         },
         "yaxis": "y88"
        },
        {
         "boxpoints": false,
         "name": "2025-10-02, 1.000900",
         "showlegend": false,
         "showwhiskers": false,
         "type": "box",
         "xaxis": "x89",
         "y": {
          "bdata": "4NVyZ/5mpkBITiZulb+JQDpAMEeP81pAvcRYpuNatUDtYprpXieFPyO6Z12j5dA/v5gtWRURREABpgwc0NJ1P73faMcNv88/3LsGfemNAEAQecvVj02SP5Z4QNmUK84/BDxp4bIKiz/8j0yHTs/PPxQktrsHiAVAouvCD86nsj9c5QmEnWLLP1D9g0iGHIs/GjVfJR874D/RArStZp2BPwzLn28LFus/aeId4EkLZz+lgoqqX+nEP98xPPazWNE/V87eGW1VUj9TI/Qz9brNPyxGXWvvU5U/uOUjKelhzD875Ga4AR/vP/GEXn8Sn+E/G0gXm1YK0D/qWKX0TC+BP4vCLooe+Oo/WyOCcXDpiD8RGsHG9e/MP8UCX9Gt184/sp3vp8ZLhz/B4Jo7+l/QP3e8yW/Ryao/8Z2Y9WKo8z+5iO/ErBfQP47nM6DejGo/nzvB/usc8D/t72yP3nDQP4RFRZxOstA/vOoB85ApTz+dZoF2hxTQP3/aqE4Hsn4/f05Bfjby7j8+PbZlwFnQPyS2uwfovt4/8GskCcIVcD/w+PauQd/nPyhHAaJgxnQ/vcPt0LAY0D8FpWjlXmCGPw==",
          "dtype": "f8"
         },
         "yaxis": "y89"
        },
        {
         "boxpoints": false,
         "name": "2025-10-03, 1.000600",
         "showlegend": false,
         "showwhiskers": false,
         "type": "box",
         "xaxis": "x96",
         "y": {
          "bdata": "pYKKql9FdUCQa0PFOH+DP0M6PITx09A/0/nwLEFGoD8Gg2vu6N9FQFMHeT2YFJ8/yy4YXHNH0D8UQDGyZI6lP/t2EhH+RQtA9diWAWcp0z8HeT2YFB9/Pzo8hPHTuM8/FQK5xJEHtj9Dyk+qfbr+P0c5mE2AYbE/IM8u3/oQAkAP8Q9bejTUP/yqXKj8a4k/ym37HvXX0D9qiZXRyOeFP5BoAkUsIgFABg39E1ysmD8zNQnekEbSP1RweEFEygFAldV0PdF1kT+D+MCO/yICQAivXdpwWCo/oWr0aoDS0j8bgXhdv2CXP0W5NH7hFf8/sMqFyr+W1D9GJAot6/6BP09auKzCZtA/GVjH8UOlYT9AFw0ZjxIAQFCpEmVvKac/uYjvxKwX0D/28GWiCFknQJhPVgxXB6g/Fr8prFRQ0z9154nnbHE7QLn/yHTo9Jw/pBmLprOTzz9BmrFoOjt5P1W9/E6TuQBArDyBsFOsaj+Q+BVruMjTP93R/3ItWgRAwylz843ofj86BfnZyHXRPwgGED6UKP0/9IdmnlxTkD+BCkeQSpESQBWRYRVvZH4/V7JjIxCv0T/M7zSZ8bZyPw==",
          "dtype": "f8"
         },
         "yaxis": "y96"
        },
        {
         "boxpoints": false,
         "name": "2025-10-03, 1.000700",
         "showlegend": false,
         "showwhiskers": false,
         "type": "box",
         "xaxis": "x97",
         "y": {
          "bdata": "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",
          "dtype": "f8"
         },
         "yaxis": "y97"
        },
        {
         "boxpoints": false,
         "name": "2025-10-03, 1.000800",
         "showlegend": false,
         "showwhiskers": false,
         "type": "box",
         "xaxis": "x98",
         "y": {
          "bdata": "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",
          "dtype": "f8"
         },
         "yaxis": "y98"
        },
        {
         "boxpoints": false,
         "name": "2025-10-03, 1.000900",
         "showlegend": false,
         "showwhiskers": false,
         "type": "box",
         "xaxis": "x99",
         "y": {
          "bdata": "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",
          "dtype": "f8"
         },
         "yaxis": "y99"
        },
        {
         "boxpoints": false,
         "name": "2025-10-03, 1.001000",
         "showlegend": false,
         "showwhiskers": false,
         "type": "box",
         "xaxis": "x100",
         "y": {
          "bdata": "UFCKVu7lF0CvzcZKzNMZQChlUkMbcBZAMewwJv29dD8ysI7jh+ImQAw7jEl/LxdA1qnyPSMRaj/QRq6bUl7LP5jbvdwnBwpAr9LddTZEAEDDSZo/prXDP++rcqHyHxdAwTqOHyqNeD+4OgDirp4ZQJT2Bl+YTHU/Y2NeRxyiGECO6nQg66l1P7u2t1uSA5Y/d554zhYQ4D+UTiSYaoYWQJhuEoPAChhAJJpAERkSy0A6sYf2sYLePzGzz2OUdyJA2XvxRXt8B0B4liAjaH7FQKjknNhD+3g/k4sxsI7j0D8kDAOWXMWSPx40u+6tSNc/tyQH7GryZD/4bB0c7E3QP7GnHf6arHE/Ep87wf6rIkAzw0ZZv5loP5MBoIobt9A/4GQbuAN1mj/xhF5/Ep/TPyWTUzvD1GY/pu7KLhhczT/pt68D54zRP4MvTKYKRq0/rabria4L0T+kq3R3nQ2JPzojSnuDL9A/beNPVDYqRUC+oIUEjC7+P/d0dcdim9A/N1FLcyuE0T/IlA9B1eiFP6/uWGyTis4/7GrylNV00D83UOCdfHrUP/t5U5EKY9E/hQmjWdk+3T8XEjC6vDnSP1vNOuP74so/y6Da4ET00T+SA3Y1eZIoQHkFoidlUpM/w7gbRGtFzT8b9ntinSp/PylZTkLpC9A/8ZvCSgUVlT8/xty1hHzOP/z89+C1S1s/Ia8Hk+Lj4j9cBTHQtS/KP0W3XtODgtQ/juVd9YB50D+6gQLv5NPPP2d9yjFZ3M8/4BEVqpuLyz8Bo8ubw7XUPxPThVj9EdA/nUmbqntkgz89u3zrw3rNP0RPyqSGNtQ/eJlho6zf0j8LfhtivOaFP74XX7THC9A/LhoyHqUSzj9CJ4QOuoTPPyzvqgfMQ9M/vvbMkgA1zT9EiCtn74y2PzV+4ZUkz88/4c6FkZYvu0CkVS3pDJO9QDEHQUerLm5AjrETXoL3QEAbKsb5m8ltQHH/kenQ6Yk/ABqlS/+Szj/3PeqvV1iAP6YpApzexd8/v7fpz36kzj8OoyB4fHuHP1CKVu4FZtc/l299WG/U2z9QGJRpNLmIP/93RIWqu4tA1h9hGLCUNkCesS/ZWB2AQBXl0viFV6o/fIDuy5njTkASbFz/rs98PwVvSKMCJ9A/1XYTfNP0mT9Yqgt4CR29QBh5WRMLfLk/WeAruvV6AUBH6Gfq0TvJQA==",
          "dtype": "f8"
         },
         "yaxis": "y100"
        },
        {
         "boxpoints": false,
         "name": "2025-10-04, 1.000800",
         "showlegend": false,
         "showwhiskers": false,
         "type": "box",
         "xaxis": "x108",
         "y": {
          "bdata": "xr5k48EWVUA=",
          "dtype": "f8"
         },
         "yaxis": "y108"
        }
       ],
       "layout": {
        "height": 2200,
        "showlegend": false,
        "template": {
         "data": {
          "bar": [
           {
            "error_x": {
             "color": "#2a3f5f"
            },
            "error_y": {
             "color": "#2a3f5f"
            },
            "marker": {
             "line": {
              "color": "#E5ECF6",
              "width": 0.5
             },
             "pattern": {
              "fillmode": "overlay",
              "size": 10,
              "solidity": 0.2
             }
            },
            "type": "bar"
           }
          ],
          "barpolar": [
           {
            "marker": {
             "line": {
              "color": "#E5ECF6",
              "width": 0.5
             },
             "pattern": {
              "fillmode": "overlay",
              "size": 10,
              "solidity": 0.2
             }
            },
            "type": "barpolar"
           }
          ],
          "carpet": [
           {
            "aaxis": {
             "endlinecolor": "#2a3f5f",
             "gridcolor": "white",
             "linecolor": "white",
             "minorgridcolor": "white",
             "startlinecolor": "#2a3f5f"
            },
            "baxis": {
             "endlinecolor": "#2a3f5f",
             "gridcolor": "white",
             "linecolor": "white",
             "minorgridcolor": "white",
             "startlinecolor": "#2a3f5f"
            },
            "type": "carpet"
           }
          ],
          "choropleth": [
           {
            "colorbar": {
             "outlinewidth": 0,
             "ticks": ""
            },
            "type": "choropleth"
           }
          ],
          "contour": [
           {
            "colorbar": {
             "outlinewidth": 0,
             "ticks": ""
            },
            "colorscale": [
             [
              0,
              "#0d0887"
             ],
             [
              0.1111111111111111,
              "#46039f"
             ],
             [
              0.2222222222222222,
              "#7201a8"
             ],
             [
              0.3333333333333333,
              "#9c179e"
             ],
             [
              0.4444444444444444,
              "#bd3786"
             ],
             [
              0.5555555555555556,
              "#d8576b"
             ],
             [
              0.6666666666666666,
              "#ed7953"
             ],
             [
              0.7777777777777778,
              "#fb9f3a"
             ],
             [
              0.8888888888888888,
              "#fdca26"
             ],
             [
              1,
              "#f0f921"
             ]
            ],
            "type": "contour"
           }
          ],
          "contourcarpet": [
           {
            "colorbar": {
             "outlinewidth": 0,
             "ticks": ""
            },
            "type": "contourcarpet"
           }
          ],
          "heatmap": [
           {
            "colorbar": {
             "outlinewidth": 0,
             "ticks": ""
            },
            "colorscale": [
             [
              0,
              "#0d0887"
             ],
             [
              0.1111111111111111,
              "#46039f"
             ],
             [
              0.2222222222222222,
              "#7201a8"
             ],
             [
              0.3333333333333333,
              "#9c179e"
             ],
             [
              0.4444444444444444,
              "#bd3786"
             ],
             [
              0.5555555555555556,
              "#d8576b"
             ],
             [
              0.6666666666666666,
              "#ed7953"
             ],
             [
              0.7777777777777778,
              "#fb9f3a"
             ],
             [
              0.8888888888888888,
              "#fdca26"
             ],
             [
              1,
              "#f0f921"
             ]
            ],
            "type": "heatmap"
           }
          ],
          "histogram": [
           {
            "marker": {
             "pattern": {
              "fillmode": "overlay",
              "size": 10,
              "solidity": 0.2
             }
            },
            "type": "histogram"
           }
          ],
          "histogram2d": [
           {
            "colorbar": {
             "outlinewidth": 0,
             "ticks": ""
            },
            "colorscale": [
             [
              0,
              "#0d0887"
             ],
             [
              0.1111111111111111,
              "#46039f"
             ],
             [
              0.2222222222222222,
              "#7201a8"
             ],
             [
              0.3333333333333333,
              "#9c179e"
             ],
             [
              0.4444444444444444,
              "#bd3786"
             ],
             [
              0.5555555555555556,
              "#d8576b"
             ],
             [
              0.6666666666666666,
              "#ed7953"
             ],
             [
              0.7777777777777778,
              "#fb9f3a"
             ],
             [
              0.8888888888888888,
              "#fdca26"
             ],
             [
              1,
              "#f0f921"
             ]
            ],
            "type": "histogram2d"
           }
          ],
          "histogram2dcontour": [
           {
            "colorbar": {
             "outlinewidth": 0,
             "ticks": ""
            },
            "colorscale": [
             [
              0,
              "#0d0887"
             ],
             [
              0.1111111111111111,
              "#46039f"
             ],
             [
              0.2222222222222222,
              "#7201a8"
             ],
             [
              0.3333333333333333,
              "#9c179e"
             ],
             [
              0.4444444444444444,
              "#bd3786"
             ],
             [
              0.5555555555555556,
              "#d8576b"
             ],
             [
              0.6666666666666666,
              "#ed7953"
             ],
             [
              0.7777777777777778,
              "#fb9f3a"
             ],
             [
              0.8888888888888888,
              "#fdca26"
             ],
             [
              1,
              "#f0f921"
             ]
            ],
            "type": "histogram2dcontour"
           }
          ],
          "mesh3d": [
           {
            "colorbar": {
             "outlinewidth": 0,
             "ticks": ""
            },
            "type": "mesh3d"
           }
          ],
          "parcoords": [
           {
            "line": {
             "colorbar": {
              "outlinewidth": 0,
              "ticks": ""
             }
            },
            "type": "parcoords"
           }
          ],
          "pie": [
           {
            "automargin": true,
            "type": "pie"
           }
          ],
          "scatter": [
           {
            "fillpattern": {
             "fillmode": "overlay",
             "size": 10,
             "solidity": 0.2
            },
            "type": "scatter"
           }
          ],
          "scatter3d": [
           {
            "line": {
             "colorbar": {
              "outlinewidth": 0,
              "ticks": ""
             }
            },
            "marker": {
             "colorbar": {
              "outlinewidth": 0,
              "ticks": ""
             }
            },
            "type": "scatter3d"
           }
          ],
          "scattercarpet": [
           {
            "marker": {
             "colorbar": {
              "outlinewidth": 0,
              "ticks": ""
             }
            },
            "type": "scattercarpet"
           }
          ],
          "scattergeo": [
           {
            "marker": {
             "colorbar": {
              "outlinewidth": 0,
              "ticks": ""
             }
            },
            "type": "scattergeo"
           }
          ],
          "scattergl": [
           {
            "marker": {
             "colorbar": {
              "outlinewidth": 0,
              "ticks": ""
             }
            },
            "type": "scattergl"
           }
          ],
          "scattermap": [
           {
            "marker": {
             "colorbar": {
              "outlinewidth": 0,
              "ticks": ""
             }
            },
            "type": "scattermap"
           }
          ],
          "scattermapbox": [
           {
            "marker": {
             "colorbar": {
              "outlinewidth": 0,
              "ticks": ""
             }
            },
            "type": "scattermapbox"
           }
          ],
          "scatterpolar": [
           {
            "marker": {
             "colorbar": {
              "outlinewidth": 0,
              "ticks": ""
             }
            },
            "type": "scatterpolar"
           }
          ],
          "scatterpolargl": [
           {
            "marker": {
             "colorbar": {
              "outlinewidth": 0,
              "ticks": ""
             }
            },
            "type": "scatterpolargl"
           }
          ],
          "scatterternary": [
           {
            "marker": {
             "colorbar": {
              "outlinewidth": 0,
              "ticks": ""
             }
            },
            "type": "scatterternary"
           }
          ],
          "surface": [
           {
            "colorbar": {
             "outlinewidth": 0,
             "ticks": ""
            },
            "colorscale": [
             [
              0,
              "#0d0887"
             ],
             [
              0.1111111111111111,
              "#46039f"
             ],
             [
              0.2222222222222222,
              "#7201a8"
             ],
             [
              0.3333333333333333,
              "#9c179e"
             ],
             [
              0.4444444444444444,
              "#bd3786"
             ],
             [
              0.5555555555555556,
              "#d8576b"
             ],
             [
              0.6666666666666666,
              "#ed7953"
             ],
             [
              0.7777777777777778,
              "#fb9f3a"
             ],
             [
              0.8888888888888888,
              "#fdca26"
             ],
             [
              1,
              "#f0f921"
             ]
            ],
            "type": "surface"
           }
          ],
          "table": [
           {
            "cells": {
             "fill": {
              "color": "#EBF0F8"
             },
             "line": {
              "color": "white"
             }
            },
            "header": {
             "fill": {
              "color": "#C8D4E3"
             },
             "line": {
              "color": "white"
             }
            },
            "type": "table"
           }
          ]
         },
         "layout": {
          "annotationdefaults": {
           "arrowcolor": "#2a3f5f",
           "arrowhead": 0,
           "arrowwidth": 1
          },
          "autotypenumbers": "strict",
          "coloraxis": {
           "colorbar": {
            "outlinewidth": 0,
            "ticks": ""
           }
          },
          "colorscale": {
           "diverging": [
            [
             0,
             "#8e0152"
            ],
            [
             0.1,
             "#c51b7d"
            ],
            [
             0.2,
             "#de77ae"
            ],
            [
             0.3,
             "#f1b6da"
            ],
            [
             0.4,
             "#fde0ef"
            ],
            [
             0.5,
             "#f7f7f7"
            ],
            [
             0.6,
             "#e6f5d0"
            ],
            [
             0.7,
             "#b8e186"
            ],
            [
             0.8,
             "#7fbc41"
            ],
            [
             0.9,
             "#4d9221"
            ],
            [
             1,
             "#276419"
            ]
           ],
           "sequential": [
            [
             0,
             "#0d0887"
            ],
            [
             0.1111111111111111,
             "#46039f"
            ],
            [
             0.2222222222222222,
             "#7201a8"
            ],
            [
             0.3333333333333333,
             "#9c179e"
            ],
            [
             0.4444444444444444,
             "#bd3786"
            ],
            [
             0.5555555555555556,
             "#d8576b"
            ],
            [
             0.6666666666666666,
             "#ed7953"
            ],
            [
             0.7777777777777778,
             "#fb9f3a"
            ],
            [
             0.8888888888888888,
             "#fdca26"
            ],
            [
             1,
             "#f0f921"
            ]
           ],
           "sequentialminus": [
            [
             0,
             "#0d0887"
            ],
            [
             0.1111111111111111,
             "#46039f"
            ],
            [
             0.2222222222222222,
             "#7201a8"
            ],
            [
             0.3333333333333333,
             "#9c179e"
            ],
            [
             0.4444444444444444,
             "#bd3786"
            ],
            [
             0.5555555555555556,
             "#d8576b"
            ],
            [
             0.6666666666666666,
             "#ed7953"
            ],
            [
             0.7777777777777778,
             "#fb9f3a"
            ],
            [
             0.8888888888888888,
             "#fdca26"
            ],
            [
             1,
             "#f0f921"
            ]
           ]
          },
          "colorway": [
           "#636efa",
           "#EF553B",
           "#00cc96",
           "#ab63fa",
           "#FFA15A",
           "#19d3f3",
           "#FF6692",
           "#B6E880",
           "#FF97FF",
           "#FECB52"
          ],
          "font": {
           "color": "#2a3f5f"
          },
          "geo": {
           "bgcolor": "white",
           "lakecolor": "white",
           "landcolor": "#E5ECF6",
           "showlakes": true,
           "showland": true,
           "subunitcolor": "white"
          },
          "hoverlabel": {
           "align": "left"
          },
          "hovermode": "closest",
          "mapbox": {
           "style": "light"
          },
          "paper_bgcolor": "white",
          "plot_bgcolor": "#E5ECF6",
          "polar": {
           "angularaxis": {
            "gridcolor": "white",
            "linecolor": "white",
            "ticks": ""
           },
           "bgcolor": "#E5ECF6",
           "radialaxis": {
            "gridcolor": "white",
            "linecolor": "white",
            "ticks": ""
           }
          },
          "scene": {
           "xaxis": {
            "backgroundcolor": "#E5ECF6",
            "gridcolor": "white",
            "gridwidth": 2,
            "linecolor": "white",
            "showbackground": true,
            "ticks": "",
            "zerolinecolor": "white"
           },
           "yaxis": {
            "backgroundcolor": "#E5ECF6",
            "gridcolor": "white",
            "gridwidth": 2,
            "linecolor": "white",
            "showbackground": true,
            "ticks": "",
            "zerolinecolor": "white"
           },
           "zaxis": {
            "backgroundcolor": "#E5ECF6",
            "gridcolor": "white",
            "gridwidth": 2,
            "linecolor": "white",
            "showbackground": true,
            "ticks": "",
            "zerolinecolor": "white"
           }
          },
          "shapedefaults": {
           "line": {
            "color": "#2a3f5f"
           }
          },
          "ternary": {
           "aaxis": {
            "gridcolor": "white",
            "linecolor": "white",
            "ticks": ""
           },
           "baxis": {
            "gridcolor": "white",
            "linecolor": "white",
            "ticks": ""
           },
           "bgcolor": "#E5ECF6",
           "caxis": {
            "gridcolor": "white",
            "linecolor": "white",
            "ticks": ""
           }
          },
          "title": {
           "x": 0.05
          },
          "xaxis": {
           "automargin": true,
           "gridcolor": "white",
           "linecolor": "white",
           "ticks": "",
           "title": {
            "standoff": 15
           },
           "zerolinecolor": "white",
           "zerolinewidth": 2
          },
          "yaxis": {
           "automargin": true,
           "gridcolor": "white",
           "linecolor": "white",
           "ticks": "",
           "title": {
            "standoff": 15
           },
           "zerolinecolor": "white",
           "zerolinewidth": 2
          }
         }
        },
        "title": {
         "text": "Time Between Trades (seconds)"
        },
        "width": 2000,
        "xaxis": {
         "anchor": "y",
         "domain": [
          0,
          0.082
         ]
        },
        "xaxis10": {
         "anchor": "y10",
         "domain": [
          0.9179999999999999,
          0.9999999999999999
         ]
        },
        "xaxis100": {
         "anchor": "y100",
         "domain": [
          0.9179999999999999,
          0.9999999999999999
         ]
        },
        "xaxis101": {
         "anchor": "y101",
         "domain": [
          0,
          0.082
         ]
        },
        "xaxis102": {
         "anchor": "y102",
         "domain": [
          0.10200000000000001,
          0.184
         ]
        },
        "xaxis103": {
         "anchor": "y103",
         "domain": [
          0.20400000000000001,
          0.28600000000000003
         ]
        },
        "xaxis104": {
         "anchor": "y104",
         "domain": [
          0.306,
          0.388
         ]
        },
        "xaxis105": {
         "anchor": "y105",
         "domain": [
          0.40800000000000003,
          0.49000000000000005
         ]
        },
        "xaxis106": {
         "anchor": "y106",
         "domain": [
          0.51,
          0.592
         ]
        },
        "xaxis107": {
         "anchor": "y107",
         "domain": [
          0.6120000000000001,
          0.6940000000000001
         ]
        },
        "xaxis108": {
         "anchor": "y108",
         "domain": [
          0.7140000000000001,
          0.796
         ]
        },
        "xaxis109": {
         "anchor": "y109",
         "domain": [
          0.8160000000000001,
          0.898
         ]
        },
        "xaxis11": {
         "anchor": "y11",
         "domain": [
          0,
          0.082
         ]
        },
        "xaxis110": {
         "anchor": "y110",
         "domain": [
          0.9179999999999999,
          0.9999999999999999
         ]
        },
        "xaxis12": {
         "anchor": "y12",
         "domain": [
          0.10200000000000001,
          0.184
         ]
        },
        "xaxis13": {
         "anchor": "y13",
         "domain": [
          0.20400000000000001,
          0.28600000000000003
         ]
        },
        "xaxis14": {
         "anchor": "y14",
         "domain": [
          0.306,
          0.388
         ]
        },
        "xaxis15": {
         "anchor": "y15",
         "domain": [
          0.40800000000000003,
          0.49000000000000005
         ]
        },
        "xaxis16": {
         "anchor": "y16",
         "domain": [
          0.51,
          0.592
         ]
        },
        "xaxis17": {
         "anchor": "y17",
         "domain": [
          0.6120000000000001,
          0.6940000000000001
         ]
        },
        "xaxis18": {
         "anchor": "y18",
         "domain": [
          0.7140000000000001,
          0.796
         ]
        },
        "xaxis19": {
         "anchor": "y19",
         "domain": [
          0.8160000000000001,
          0.898
         ]
        },
        "xaxis2": {
         "anchor": "y2",
         "domain": [
          0.10200000000000001,
          0.184
         ]
        },
        "xaxis20": {
         "anchor": "y20",
         "domain": [
          0.9179999999999999,
          0.9999999999999999
         ]
        },
        "xaxis21": {
         "anchor": "y21",
         "domain": [
          0,
          0.082
         ]
        },
        "xaxis22": {
         "anchor": "y22",
         "domain": [
          0.10200000000000001,
          0.184
         ]
        },
        "xaxis23": {
         "anchor": "y23",
         "domain": [
          0.20400000000000001,
          0.28600000000000003
         ]
        },
        "xaxis24": {
         "anchor": "y24",
         "domain": [
          0.306,
          0.388
         ]
        },
        "xaxis25": {
         "anchor": "y25",
         "domain": [
          0.40800000000000003,
          0.49000000000000005
         ]
        },
        "xaxis26": {
         "anchor": "y26",
         "domain": [
          0.51,
          0.592
         ]
        },
        "xaxis27": {
         "anchor": "y27",
         "domain": [
          0.6120000000000001,
          0.6940000000000001
         ]
        },
        "xaxis28": {
         "anchor": "y28",
         "domain": [
          0.7140000000000001,
          0.796
         ]
        },
        "xaxis29": {
         "anchor": "y29",
         "domain": [
          0.8160000000000001,
          0.898
         ]
        },
        "xaxis3": {
         "anchor": "y3",
         "domain": [
          0.20400000000000001,
          0.28600000000000003
         ]
        },
        "xaxis30": {
         "anchor": "y30",
         "domain": [
          0.9179999999999999,
          0.9999999999999999
         ]
        },
        "xaxis31": {
         "anchor": "y31",
         "domain": [
          0,
          0.082
         ]
        },
        "xaxis32": {
         "anchor": "y32",
         "domain": [
          0.10200000000000001,
          0.184
         ]
        },
        "xaxis33": {
         "anchor": "y33",
         "domain": [
          0.20400000000000001,
          0.28600000000000003
         ]
        },
        "xaxis34": {
         "anchor": "y34",
         "domain": [
          0.306,
          0.388
         ]
        },
        "xaxis35": {
         "anchor": "y35",
         "domain": [
          0.40800000000000003,
          0.49000000000000005
         ]
        },
        "xaxis36": {
         "anchor": "y36",
         "domain": [
          0.51,
          0.592
         ]
        },
        "xaxis37": {
         "anchor": "y37",
         "domain": [
          0.6120000000000001,
          0.6940000000000001
         ]
        },
        "xaxis38": {
         "anchor": "y38",
         "domain": [
          0.7140000000000001,
          0.796
         ]
        },
        "xaxis39": {
         "anchor": "y39",
         "domain": [
          0.8160000000000001,
          0.898
         ]
        },
        "xaxis4": {
         "anchor": "y4",
         "domain": [
          0.306,
          0.388
         ]
        },
        "xaxis40": {
         "anchor": "y40",
         "domain": [
          0.9179999999999999,
          0.9999999999999999
         ]
        },
        "xaxis41": {
         "anchor": "y41",
         "domain": [
          0,
          0.082
         ]
        },
        "xaxis42": {
         "anchor": "y42",
         "domain": [
          0.10200000000000001,
          0.184
         ]
        },
        "xaxis43": {
         "anchor": "y43",
         "domain": [
          0.20400000000000001,
          0.28600000000000003
         ]
        },
        "xaxis44": {
         "anchor": "y44",
         "domain": [
          0.306,
          0.388
         ]
        },
        "xaxis45": {
         "anchor": "y45",
         "domain": [
          0.40800000000000003,
          0.49000000000000005
         ]
        },
        "xaxis46": {
         "anchor": "y46",
         "domain": [
          0.51,
          0.592
         ]
        },
        "xaxis47": {
         "anchor": "y47",
         "domain": [
          0.6120000000000001,
          0.6940000000000001
         ]
        },
        "xaxis48": {
         "anchor": "y48",
         "domain": [
          0.7140000000000001,
          0.796
         ]
        },
        "xaxis49": {
         "anchor": "y49",
         "domain": [
          0.8160000000000001,
          0.898
         ]
        },
        "xaxis5": {
         "anchor": "y5",
         "domain": [
          0.40800000000000003,
          0.49000000000000005
         ]
        },
        "xaxis50": {
         "anchor": "y50",
         "domain": [
          0.9179999999999999,
          0.9999999999999999
         ]
        },
        "xaxis51": {
         "anchor": "y51",
         "domain": [
          0,
          0.082
         ]
        },
        "xaxis52": {
         "anchor": "y52",
         "domain": [
          0.10200000000000001,
          0.184
         ]
        },
        "xaxis53": {
         "anchor": "y53",
         "domain": [
          0.20400000000000001,
          0.28600000000000003
         ]
        },
        "xaxis54": {
         "anchor": "y54",
         "domain": [
          0.306,
          0.388
         ]
        },
        "xaxis55": {
         "anchor": "y55",
         "domain": [
          0.40800000000000003,
          0.49000000000000005
         ]
        },
        "xaxis56": {
         "anchor": "y56",
         "domain": [
          0.51,
          0.592
         ]
        },
        "xaxis57": {
         "anchor": "y57",
         "domain": [
          0.6120000000000001,
          0.6940000000000001
         ]
        },
        "xaxis58": {
         "anchor": "y58",
         "domain": [
          0.7140000000000001,
          0.796
         ]
        },
        "xaxis59": {
         "anchor": "y59",
         "domain": [
          0.8160000000000001,
          0.898
         ]
        },
        "xaxis6": {
         "anchor": "y6",
         "domain": [
          0.51,
          0.592
         ]
        },
        "xaxis60": {
         "anchor": "y60",
         "domain": [
          0.9179999999999999,
          0.9999999999999999
         ]
        },
        "xaxis61": {
         "anchor": "y61",
         "domain": [
          0,
          0.082
         ]
        },
        "xaxis62": {
         "anchor": "y62",
         "domain": [
          0.10200000000000001,
          0.184
         ]
        },
        "xaxis63": {
         "anchor": "y63",
         "domain": [
          0.20400000000000001,
          0.28600000000000003
         ]
        },
        "xaxis64": {
         "anchor": "y64",
         "domain": [
          0.306,
          0.388
         ]
        },
        "xaxis65": {
         "anchor": "y65",
         "domain": [
          0.40800000000000003,
          0.49000000000000005
         ]
        },
        "xaxis66": {
         "anchor": "y66",
         "domain": [
          0.51,
          0.592
         ]
        },
        "xaxis67": {
         "anchor": "y67",
         "domain": [
          0.6120000000000001,
          0.6940000000000001
         ]
        },
        "xaxis68": {
         "anchor": "y68",
         "domain": [
          0.7140000000000001,
          0.796
         ]
        },
        "xaxis69": {
         "anchor": "y69",
         "domain": [
          0.8160000000000001,
          0.898
         ]
        },
        "xaxis7": {
         "anchor": "y7",
         "domain": [
          0.6120000000000001,
          0.6940000000000001
         ]
        },
        "xaxis70": {
         "anchor": "y70",
         "domain": [
          0.9179999999999999,
          0.9999999999999999
         ]
        },
        "xaxis71": {
         "anchor": "y71",
         "domain": [
          0,
          0.082
         ]
        },
        "xaxis72": {
         "anchor": "y72",
         "domain": [
          0.10200000000000001,
          0.184
         ]
        },
        "xaxis73": {
         "anchor": "y73",
         "domain": [
          0.20400000000000001,
          0.28600000000000003
         ]
        },
        "xaxis74": {
         "anchor": "y74",
         "domain": [
          0.306,
          0.388
         ]
        },
        "xaxis75": {
         "anchor": "y75",
         "domain": [
          0.40800000000000003,
          0.49000000000000005
         ]
        },
        "xaxis76": {
         "anchor": "y76",
         "domain": [
          0.51,
          0.592
         ]
        },
        "xaxis77": {
         "anchor": "y77",
         "domain": [
          0.6120000000000001,
          0.6940000000000001
         ]
        },
        "xaxis78": {
         "anchor": "y78",
         "domain": [
          0.7140000000000001,
          0.796
         ]
        },
        "xaxis79": {
         "anchor": "y79",
         "domain": [
          0.8160000000000001,
          0.898
         ]
        },
        "xaxis8": {
         "anchor": "y8",
         "domain": [
          0.7140000000000001,
          0.796
         ]
        },
        "xaxis80": {
         "anchor": "y80",
         "domain": [
          0.9179999999999999,
          0.9999999999999999
         ]
        },
        "xaxis81": {
         "anchor": "y81",
         "domain": [
          0,
          0.082
         ]
        },
        "xaxis82": {
         "anchor": "y82",
         "domain": [
          0.10200000000000001,
          0.184
         ]
        },
        "xaxis83": {
         "anchor": "y83",
         "domain": [
          0.20400000000000001,
          0.28600000000000003
         ]
        },
        "xaxis84": {
         "anchor": "y84",
         "domain": [
          0.306,
          0.388
         ]
        },
        "xaxis85": {
         "anchor": "y85",
         "domain": [
          0.40800000000000003,
          0.49000000000000005
         ]
        },
        "xaxis86": {
         "anchor": "y86",
         "domain": [
          0.51,
          0.592
         ]
        },
        "xaxis87": {
         "anchor": "y87",
         "domain": [
          0.6120000000000001,
          0.6940000000000001
         ]
        },
        "xaxis88": {
         "anchor": "y88",
         "domain": [
          0.7140000000000001,
          0.796
         ]
        },
        "xaxis89": {
         "anchor": "y89",
         "domain": [
          0.8160000000000001,
          0.898
         ]
        },
        "xaxis9": {
         "anchor": "y9",
         "domain": [
          0.8160000000000001,
          0.898
         ]
        },
        "xaxis90": {
         "anchor": "y90",
         "domain": [
          0.9179999999999999,
          0.9999999999999999
         ]
        },
        "xaxis91": {
         "anchor": "y91",
         "domain": [
          0,
          0.082
         ]
        },
        "xaxis92": {
         "anchor": "y92",
         "domain": [
          0.10200000000000001,
          0.184
         ]
        },
        "xaxis93": {
         "anchor": "y93",
         "domain": [
          0.20400000000000001,
          0.28600000000000003
         ]
        },
        "xaxis94": {
         "anchor": "y94",
         "domain": [
          0.306,
          0.388
         ]
        },
        "xaxis95": {
         "anchor": "y95",
         "domain": [
          0.40800000000000003,
          0.49000000000000005
         ]
        },
        "xaxis96": {
         "anchor": "y96",
         "domain": [
          0.51,
          0.592
         ]
        },
        "xaxis97": {
         "anchor": "y97",
         "domain": [
          0.6120000000000001,
          0.6940000000000001
         ]
        },
        "xaxis98": {
         "anchor": "y98",
         "domain": [
          0.7140000000000001,
          0.796
         ]
        },
        "xaxis99": {
         "anchor": "y99",
         "domain": [
          0.8160000000000001,
          0.898
         ]
        },
        "yaxis": {
         "anchor": "x",
         "domain": [
          0.9545454545454546,
          1
         ]
        },
        "yaxis10": {
         "anchor": "x10",
         "domain": [
          0.9545454545454546,
          1
         ]
        },
        "yaxis100": {
         "anchor": "x100",
         "domain": [
          0.09545454545454546,
          0.14090909090909093
         ],
         "range": [
          -0.23068570000000002,
          3.2236427
         ]
        },
        "yaxis101": {
         "anchor": "x101",
         "domain": [
          0,
          0.045454545454545456
         ]
        },
        "yaxis102": {
         "anchor": "x102",
         "domain": [
          0,
          0.045454545454545456
         ]
        },
        "yaxis103": {
         "anchor": "x103",
         "domain": [
          0,
          0.045454545454545456
         ]
        },
        "yaxis104": {
         "anchor": "x104",
         "domain": [
          0,
          0.045454545454545456
         ]
        },
        "yaxis105": {
         "anchor": "x105",
         "domain": [
          0,
          0.045454545454545456
         ]
        },
        "yaxis106": {
         "anchor": "x106",
         "domain": [
          0,
          0.045454545454545456
         ]
        },
        "yaxis107": {
         "anchor": "x107",
         "domain": [
          0,
          0.045454545454545456
         ]
        },
        "yaxis108": {
         "anchor": "x108",
         "domain": [
          0,
          0.045454545454545456
         ],
         "range": [
          84.355584,
          84.355584
         ]
        },
        "yaxis109": {
         "anchor": "x109",
         "domain": [
          0,
          0.045454545454545456
         ]
        },
        "yaxis11": {
         "anchor": "x11",
         "domain": [
          0.8590909090909091,
          0.9045454545454545
         ],
         "range": [
          628.9331853250001,
          1487.876501425
         ]
        },
        "yaxis110": {
         "anchor": "x110",
         "domain": [
          0,
          0.045454545454545456
         ]
        },
        "yaxis12": {
         "anchor": "x12",
         "domain": [
          0.8590909090909091,
          0.9045454545454545
         ],
         "range": [
          -0.1889921,
          2.3015251
         ]
        },
        "yaxis13": {
         "anchor": "x13",
         "domain": [
          0.8590909090909091,
          0.9045454545454545
         ],
         "range": [
          -0.551925075,
          6.276198825
         ]
        },
        "yaxis14": {
         "anchor": "x14",
         "domain": [
          0.8590909090909091,
          0.9045454545454545
         ],
         "range": [
          -0.4500125,
          5.2214275
         ]
        },
        "yaxis15": {
         "anchor": "x15",
         "domain": [
          0.8590909090909091,
          0.9045454545454545
         ],
         "range": [
          -0.0301743,
          0.5142333
         ]
        },
        "yaxis16": {
         "anchor": "x16",
         "domain": [
          0.8590909090909091,
          0.9045454545454545
         ],
         "range": [
          -1.7317714499999999,
          20.711497950000002
         ]
        },
        "yaxis17": {
         "anchor": "x17",
         "domain": [
          0.8590909090909091,
          0.9045454545454545
         ],
         "range": [
          -2.337017750000001,
          98.60472924999999
         ]
        },
        "yaxis18": {
         "anchor": "x18",
         "domain": [
          0.8590909090909091,
          0.9045454545454545
         ]
        },
        "yaxis19": {
         "anchor": "x19",
         "domain": [
          0.8590909090909091,
          0.9045454545454545
         ]
        },
        "yaxis2": {
         "anchor": "x2",
         "domain": [
          0.9545454545454546,
          1
         ],
         "range": [
          -0.014347500000000003,
          0.2798835
         ]
        },
        "yaxis20": {
         "anchor": "x20",
         "domain": [
          0.8590909090909091,
          0.9045454545454545
         ]
        },
        "yaxis21": {
         "anchor": "x21",
         "domain": [
          0.7636363636363637,
          0.8090909090909091
         ]
        },
        "yaxis22": {
         "anchor": "x22",
         "domain": [
          0.7636363636363637,
          0.8090909090909091
         ]
        },
        "yaxis23": {
         "anchor": "x23",
         "domain": [
          0.7636363636363637,
          0.8090909090909091
         ]
        },
        "yaxis24": {
         "anchor": "x24",
         "domain": [
          0.7636363636363637,
          0.8090909090909091
         ]
        },
        "yaxis25": {
         "anchor": "x25",
         "domain": [
          0.7636363636363637,
          0.8090909090909091
         ],
         "range": [
          -6.48779005,
          73.92998254999999
         ]
        },
        "yaxis26": {
         "anchor": "x26",
         "domain": [
          0.7636363636363637,
          0.8090909090909091
         ],
         "range": [
          -0.015098949999999996,
          0.32117644999999995
         ]
        },
        "yaxis27": {
         "anchor": "x27",
         "domain": [
          0.7636363636363637,
          0.8090909090909091
         ],
         "range": [
          -1.1548271,
          13.2561301
         ]
        },
        "yaxis28": {
         "anchor": "x28",
         "domain": [
          0.7636363636363637,
          0.8090909090909091
         ],
         "range": [
          -26.51789685,
          327.70546935
         ]
        },
        "yaxis29": {
         "anchor": "x29",
         "domain": [
          0.7636363636363637,
          0.8090909090909091
         ],
         "range": [
          -12.423229450000001,
          139.36920995
         ]
        },
        "yaxis3": {
         "anchor": "x3",
         "domain": [
          0.9545454545454546,
          1
         ],
         "range": [
          -0.028301100000000006,
          0.5027481
         ]
        },
        "yaxis30": {
         "anchor": "x30",
         "domain": [
          0.7636363636363637,
          0.8090909090909091
         ],
         "range": [
          -0.0061471999999999985,
          0.28588719999999995
         ]
        },
        "yaxis31": {
         "anchor": "x31",
         "domain": [
          0.6681818181818182,
          0.7136363636363636
         ]
        },
        "yaxis32": {
         "anchor": "x32",
         "domain": [
          0.6681818181818182,
          0.7136363636363636
         ]
        },
        "yaxis33": {
         "anchor": "x33",
         "domain": [
          0.6681818181818182,
          0.7136363636363636
         ]
        },
        "yaxis34": {
         "anchor": "x34",
         "domain": [
          0.6681818181818182,
          0.7136363636363636
         ]
        },
        "yaxis35": {
         "anchor": "x35",
         "domain": [
          0.6681818181818182,
          0.7136363636363636
         ],
         "range": [
          -32.283117125,
          357.750169375
         ]
        },
        "yaxis36": {
         "anchor": "x36",
         "domain": [
          0.6681818181818182,
          0.7136363636363636
         ],
         "range": [
          -0.007036400000000002,
          0.3346684
         ]
        },
        "yaxis37": {
         "anchor": "x37",
         "domain": [
          0.6681818181818182,
          0.7136363636363636
         ],
         "range": [
          -30.4936744,
          405.6123104
         ]
        },
        "yaxis38": {
         "anchor": "x38",
         "domain": [
          0.6681818181818182,
          0.7136363636363636
         ],
         "range": [
          -30.637055300000004,
          409.51514230000004
         ]
        },
        "yaxis39": {
         "anchor": "x39",
         "domain": [
          0.6681818181818182,
          0.7136363636363636
         ]
        },
        "yaxis4": {
         "anchor": "x4",
         "domain": [
          0.9545454545454546,
          1
         ],
         "range": [
          -0.03463395000000001,
          0.5770414500000001
         ]
        },
        "yaxis40": {
         "anchor": "x40",
         "domain": [
          0.6681818181818182,
          0.7136363636363636
         ]
        },
        "yaxis41": {
         "anchor": "x41",
         "domain": [
          0.5727272727272728,
          0.6181818181818182
         ]
        },
        "yaxis42": {
         "anchor": "x42",
         "domain": [
          0.5727272727272728,
          0.6181818181818182
         ]
        },
        "yaxis43": {
         "anchor": "x43",
         "domain": [
          0.5727272727272728,
          0.6181818181818182
         ],
         "range": [
          -0.011050900000000006,
          0.31106990000000007
         ]
        },
        "yaxis44": {
         "anchor": "x44",
         "domain": [
          0.5727272727272728,
          0.6181818181818182
         ],
         "range": [
          -0.4371401750000001,
          5.250237925
         ]
        },
        "yaxis45": {
         "anchor": "x45",
         "domain": [
          0.5727272727272728,
          0.6181818181818182
         ],
         "range": [
          -0.025706000000000007,
          0.520294
         ]
        },
        "yaxis46": {
         "anchor": "x46",
         "domain": [
          0.5727272727272728,
          0.6181818181818182
         ],
         "range": [
          -0.015656499999999997,
          0.3506255
         ]
        },
        "yaxis47": {
         "anchor": "x47",
         "domain": [
          0.5727272727272728,
          0.6181818181818182
         ],
         "range": [
          -10.9479701,
          121.0446751
         ]
        },
        "yaxis48": {
         "anchor": "x48",
         "domain": [
          0.5727272727272728,
          0.6181818181818182
         ]
        },
        "yaxis49": {
         "anchor": "x49",
         "domain": [
          0.5727272727272728,
          0.6181818181818182
         ]
        },
        "yaxis5": {
         "anchor": "x5",
         "domain": [
          0.9545454545454546,
          1
         ],
         "range": [
          -0.0366388,
          0.6473348
         ]
        },
        "yaxis50": {
         "anchor": "x50",
         "domain": [
          0.5727272727272728,
          0.6181818181818182
         ]
        },
        "yaxis51": {
         "anchor": "x51",
         "domain": [
          0.4772727272727273,
          0.5227272727272727
         ]
        },
        "yaxis52": {
         "anchor": "x52",
         "domain": [
          0.4772727272727273,
          0.5227272727272727
         ]
        },
        "yaxis53": {
         "anchor": "x53",
         "domain": [
          0.4772727272727273,
          0.5227272727272727
         ],
         "range": [
          -0.014174925000000001,
          0.286085175
         ]
        },
        "yaxis54": {
         "anchor": "x54",
         "domain": [
          0.4772727272727273,
          0.5227272727272727
         ],
         "range": [
          -0.010417699999999998,
          0.3403507
         ]
        },
        "yaxis55": {
         "anchor": "x55",
         "domain": [
          0.4772727272727273,
          0.5227272727272727
         ],
         "range": [
          -0.0710466,
          1.0525566
         ]
        },
        "yaxis56": {
         "anchor": "x56",
         "domain": [
          0.4772727272727273,
          0.5227272727272727
         ],
         "range": [
          -0.03156755000000001,
          0.60541705
         ]
        },
        "yaxis57": {
         "anchor": "x57",
         "domain": [
          0.4772727272727273,
          0.5227272727272727
         ],
         "range": [
          -4.32072715,
          50.552226649999994
         ]
        },
        "yaxis58": {
         "anchor": "x58",
         "domain": [
          0.4772727272727273,
          0.5227272727272727
         ],
         "range": [
          -20.936778825000033,
          7978.765671075
         ]
        },
        "yaxis59": {
         "anchor": "x59",
         "domain": [
          0.4772727272727273,
          0.5227272727272727
         ]
        },
        "yaxis6": {
         "anchor": "x6",
         "domain": [
          0.9545454545454546,
          1
         ],
         "range": [
          -180.03977227500002,
          2875.8977270249998
         ]
        },
        "yaxis60": {
         "anchor": "x60",
         "domain": [
          0.4772727272727273,
          0.5227272727272727
         ]
        },
        "yaxis61": {
         "anchor": "x61",
         "domain": [
          0.38181818181818183,
          0.4272727272727273
         ],
         "range": [
          -0.009834100000000002,
          0.27881510000000004
         ]
        },
        "yaxis62": {
         "anchor": "x62",
         "domain": [
          0.38181818181818183,
          0.4272727272727273
         ],
         "range": [
          -0.9554063,
          13.422073300000001
         ]
        },
        "yaxis63": {
         "anchor": "x63",
         "domain": [
          0.38181818181818183,
          0.4272727272727273
         ],
         "range": [
          -0.12837197499999997,
          3.2799727249999995
         ]
        },
        "yaxis64": {
         "anchor": "x64",
         "domain": [
          0.38181818181818183,
          0.4272727272727273
         ],
         "range": [
          -0.013343025,
          0.333382275
         ]
        },
        "yaxis65": {
         "anchor": "x65",
         "domain": [
          0.38181818181818183,
          0.4272727272727273
         ],
         "range": [
          -0.07645797500000001,
          1.061549725
         ]
        },
        "yaxis66": {
         "anchor": "x66",
         "domain": [
          0.38181818181818183,
          0.4272727272727273
         ],
         "range": [
          -0.009692000000000003,
          0.307714
         ]
        },
        "yaxis67": {
         "anchor": "x67",
         "domain": [
          0.38181818181818183,
          0.4272727272727273
         ],
         "range": [
          -0.569079,
          6.592761
         ]
        },
        "yaxis68": {
         "anchor": "x68",
         "domain": [
          0.38181818181818183,
          0.4272727272727273
         ],
         "range": [
          -1.035997775,
          13.713364525000001
         ]
        },
        "yaxis69": {
         "anchor": "x69",
         "domain": [
          0.38181818181818183,
          0.4272727272727273
         ],
         "range": [
          -0.013037,
          0.287683
         ]
        },
        "yaxis7": {
         "anchor": "x7",
         "domain": [
          0.9545454545454546,
          1
         ]
        },
        "yaxis70": {
         "anchor": "x70",
         "domain": [
          0.38181818181818183,
          0.4272727272727273
         ],
         "range": [
          0.10001235,
          0.24184215
         ]
        },
        "yaxis71": {
         "anchor": "x71",
         "domain": [
          0.2863636363636364,
          0.33181818181818185
         ]
        },
        "yaxis72": {
         "anchor": "x72",
         "domain": [
          0.2863636363636364,
          0.33181818181818185
         ],
         "range": [
          846.64710315,
          1790.18145135
         ]
        },
        "yaxis73": {
         "anchor": "x73",
         "domain": [
          0.2863636363636364,
          0.33181818181818185
         ],
         "range": [
          -0.038829000000000016,
          0.593439
         ]
        },
        "yaxis74": {
         "anchor": "x74",
         "domain": [
          0.2863636363636364,
          0.33181818181818185
         ],
         "range": [
          -0.013654475000000001,
          0.308419225
         ]
        },
        "yaxis75": {
         "anchor": "x75",
         "domain": [
          0.2863636363636364,
          0.33181818181818185
         ],
         "range": [
          -0.037340425,
          0.644789675
         ]
        },
        "yaxis76": {
         "anchor": "x76",
         "domain": [
          0.2863636363636364,
          0.33181818181818185
         ],
         "range": [
          -0.07845712499999999,
          1.130751375
         ]
        },
        "yaxis77": {
         "anchor": "x77",
         "domain": [
          0.2863636363636364,
          0.33181818181818185
         ],
         "range": [
          -0.03678960000000003,
          3.3712296
         ]
        },
        "yaxis78": {
         "anchor": "x78",
         "domain": [
          0.2863636363636364,
          0.33181818181818185
         ],
         "range": [
          -13.101747500000002,
          146.93255050000002
         ]
        },
        "yaxis79": {
         "anchor": "x79",
         "domain": [
          0.2863636363636364,
          0.33181818181818185
         ]
        },
        "yaxis8": {
         "anchor": "x8",
         "domain": [
          0.9545454545454546,
          1
         ]
        },
        "yaxis80": {
         "anchor": "x80",
         "domain": [
          0.2863636363636364,
          0.33181818181818185
         ]
        },
        "yaxis81": {
         "anchor": "x81",
         "domain": [
          0.19090909090909092,
          0.2363636363636364
         ]
        },
        "yaxis82": {
         "anchor": "x82",
         "domain": [
          0.19090909090909092,
          0.2363636363636364
         ]
        },
        "yaxis83": {
         "anchor": "x83",
         "domain": [
          0.19090909090909092,
          0.2363636363636364
         ]
        },
        "yaxis84": {
         "anchor": "x84",
         "domain": [
          0.19090909090909092,
          0.2363636363636364
         ]
        },
        "yaxis85": {
         "anchor": "x85",
         "domain": [
          0.19090909090909092,
          0.2363636363636364
         ],
         "range": [
          0.52464185,
          6.54029765
         ]
        },
        "yaxis86": {
         "anchor": "x86",
         "domain": [
          0.19090909090909092,
          0.2363636363636364
         ],
         "range": [
          -0.09962930000000002,
          2.1154813
         ]
        },
        "yaxis87": {
         "anchor": "x87",
         "domain": [
          0.19090909090909092,
          0.2363636363636364
         ],
         "range": [
          -0.07411715,
          1.16931865
         ]
        },
        "yaxis88": {
         "anchor": "x88",
         "domain": [
          0.19090909090909092,
          0.2363636363636364
         ],
         "range": [
          -0.026283400000000005,
          0.4887014
         ]
        },
        "yaxis89": {
         "anchor": "x89",
         "domain": [
          0.19090909090909092,
          0.2363636363636364
         ],
         "range": [
          -0.04571177500000001,
          0.658157525
         ]
        },
        "yaxis9": {
         "anchor": "x9",
         "domain": [
          0.9545454545454546,
          1
         ]
        },
        "yaxis90": {
         "anchor": "x90",
         "domain": [
          0.19090909090909092,
          0.2363636363636364
         ]
        },
        "yaxis91": {
         "anchor": "x91",
         "domain": [
          0.09545454545454546,
          0.14090909090909093
         ]
        },
        "yaxis92": {
         "anchor": "x92",
         "domain": [
          0.09545454545454546,
          0.14090909090909093
         ]
        },
        "yaxis93": {
         "anchor": "x93",
         "domain": [
          0.09545454545454546,
          0.14090909090909093
         ]
        },
        "yaxis94": {
         "anchor": "x94",
         "domain": [
          0.09545454545454546,
          0.14090909090909093
         ]
        },
        "yaxis95": {
         "anchor": "x95",
         "domain": [
          0.09545454545454546,
          0.14090909090909093
         ]
        },
        "yaxis96": {
         "anchor": "x96",
         "domain": [
          0.09545454545454546,
          0.14090909090909093
         ],
         "range": [
          -0.16908702500000003,
          2.116580275
         ]
        },
        "yaxis97": {
         "anchor": "x97",
         "domain": [
          0.09545454545454546,
          0.14090909090909093
         ],
         "range": [
          -0.026454750000000006,
          0.45443625
         ]
        },
        "yaxis98": {
         "anchor": "x98",
         "domain": [
          0.09545454545454546,
          0.14090909090909093
         ],
         "range": [
          -0.07516985000000004,
          3.86446435
         ]
        },
        "yaxis99": {
         "anchor": "x99",
         "domain": [
          0.09545454545454546,
          0.14090909090909093
         ],
         "range": [
          -0.02702940000000001,
          0.5515044
         ]
        }
       }
      }
     },
     "metadata": {},
     "output_type": "display_data"
    }
   ],
   "source": [
    "# Create subplot grid\n",
    "fig = make_subplots(\n",
    "    rows=len(unique_days),\n",
    "    cols=len(unique_prices),\n",
    "    vertical_spacing=0.05\n",
    ")\n",
    "\n",
    "# Add box plots for each day-price combination\n",
    "for i, day in enumerate(unique_days, 1):\n",
    "    for j, price in enumerate(unique_prices, 1):\n",
    "        if (day, price) in time_diffs_by_group:\n",
    "            time_diffs = time_diffs_by_group[(day, price)]\n",
    "            \n",
    "            # Calculate Q1 and Q3 for y-axis limits\n",
    "            Q1 = np.percentile(time_diffs, 25)\n",
    "            Q3 = np.percentile(time_diffs, 75)\n",
    "            IQR = Q3 - Q1\n",
    "            \n",
    "            # Add some padding (10%) to the range for better visualization\n",
    "            padding = IQR * 0.1\n",
    "            ymin = Q1 - padding\n",
    "            ymax = Q3 + padding\n",
    "            \n",
    "            # Create box plot for time differences\n",
    "            fig.add_trace(\n",
    "                go.Box(\n",
    "                    y=time_diffs,\n",
    "                    name=f'{day}, {price:.6f}',\n",
    "                    showlegend=False,\n",
    "                    boxpoints=False,  # This removes outliers from the plot\n",
    "                    showwhiskers=False  # This removes the whiskers showing min/max values\n",
    "                ),\n",
    "                row=i,\n",
    "                col=j\n",
    "            )\n",
    "            \n",
    "            # Update y-axis range for this subplot\n",
    "            fig.update_yaxes(range=[ymin, ymax], row=i, col=j)\n",
    "\n",
    "# Update layout\n",
    "fig.update_layout(\n",
    "    height=200 * len(unique_days),\n",
    "    width=200 * len(unique_prices),\n",
    "    showlegend=False,\n",
    "    title_text='Time Between Trades (seconds)'\n",
    ")\n",
    "\n",
    "fig.show()\n"
   ]
  },
  {
   "cell_type": "code",
   "execution_count": null,
   "id": "054f44b6",
   "metadata": {},
   "outputs": [],
   "source": []
  }
 ],
 "metadata": {
  "kernelspec": {
   "display_name": "venv",
   "language": "python",
   "name": "python3"
  },
  "language_info": {
   "codemirror_mode": {
    "name": "ipython",
    "version": 3
   },
   "file_extension": ".py",
   "mimetype": "text/x-python",
   "name": "python",
   "nbconvert_exporter": "python",
   "pygments_lexer": "ipython3",
   "version": "3.9.22"
  }
 },
 "nbformat": 4,
 "nbformat_minor": 5
}
