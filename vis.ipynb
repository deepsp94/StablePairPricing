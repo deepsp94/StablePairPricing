{
 "cells": [
  {
   "cell_type": "code",
   "execution_count": 1,
   "id": "c3cc4523",
   "metadata": {},
   "outputs": [],
   "source": [
    "import pandas as pd\n",
    "import plotly.express as px\n",
    "import plotly.graph_objects as go\n",
    "from plotly.subplots import make_subplots\n",
    "import numpy as np\n",
    "from datetime import datetime, timedelta"
   ]
  },
  {
   "cell_type": "code",
   "execution_count": 2,
   "id": "649dd5db",
   "metadata": {},
   "outputs": [
    {
     "data": {
      "text/html": [
       "<div>\n",
       "<style scoped>\n",
       "    .dataframe tbody tr th:only-of-type {\n",
       "        vertical-align: middle;\n",
       "    }\n",
       "\n",
       "    .dataframe tbody tr th {\n",
       "        vertical-align: top;\n",
       "    }\n",
       "\n",
       "    .dataframe thead th {\n",
       "        text-align: right;\n",
       "    }\n",
       "</style>\n",
       "<table border=\"1\" class=\"dataframe\">\n",
       "  <thead>\n",
       "    <tr style=\"text-align: right;\">\n",
       "      <th></th>\n",
       "      <th>side</th>\n",
       "      <th>price</th>\n",
       "      <th>time</th>\n",
       "      <th>size</th>\n",
       "      <th>day</th>\n",
       "    </tr>\n",
       "  </thead>\n",
       "  <tbody>\n",
       "    <tr>\n",
       "      <th>0</th>\n",
       "      <td>buy</td>\n",
       "      <td>1.0001</td>\n",
       "      <td>2025-09-25 03:32:12.178759+00:00</td>\n",
       "      <td>138.02</td>\n",
       "      <td>2025-09-25</td>\n",
       "    </tr>\n",
       "    <tr>\n",
       "      <th>1</th>\n",
       "      <td>buy</td>\n",
       "      <td>1.0001</td>\n",
       "      <td>2025-09-25 03:44:12.441170+00:00</td>\n",
       "      <td>5000.00</td>\n",
       "      <td>2025-09-25</td>\n",
       "    </tr>\n",
       "    <tr>\n",
       "      <th>2</th>\n",
       "      <td>buy</td>\n",
       "      <td>1.0001</td>\n",
       "      <td>2025-09-25 04:21:34.172087+00:00</td>\n",
       "      <td>899.78</td>\n",
       "      <td>2025-09-25</td>\n",
       "    </tr>\n",
       "    <tr>\n",
       "      <th>3</th>\n",
       "      <td>buy</td>\n",
       "      <td>1.0001</td>\n",
       "      <td>2025-09-25 04:32:15.432034+00:00</td>\n",
       "      <td>45.17</td>\n",
       "      <td>2025-09-25</td>\n",
       "    </tr>\n",
       "    <tr>\n",
       "      <th>4</th>\n",
       "      <td>buy</td>\n",
       "      <td>1.0001</td>\n",
       "      <td>2025-09-25 04:51:16.585584+00:00</td>\n",
       "      <td>897.72</td>\n",
       "      <td>2025-09-25</td>\n",
       "    </tr>\n",
       "  </tbody>\n",
       "</table>\n",
       "</div>"
      ],
      "text/plain": [
       "  side   price                             time     size         day\n",
       "0  buy  1.0001 2025-09-25 03:32:12.178759+00:00   138.02  2025-09-25\n",
       "1  buy  1.0001 2025-09-25 03:44:12.441170+00:00  5000.00  2025-09-25\n",
       "2  buy  1.0001 2025-09-25 04:21:34.172087+00:00   899.78  2025-09-25\n",
       "3  buy  1.0001 2025-09-25 04:32:15.432034+00:00    45.17  2025-09-25\n",
       "4  buy  1.0001 2025-09-25 04:51:16.585584+00:00   897.72  2025-09-25"
      ]
     },
     "execution_count": 2,
     "metadata": {},
     "output_type": "execute_result"
    }
   ],
   "source": [
    "df = pd.read_csv('trades.csv')\n",
    "# Fix the time column\n",
    "df['time'] = pd.to_datetime(df['time'])\n",
    "\n",
    "# Remove column trade_id\n",
    "df = df.drop(columns=['trade_id'])\n",
    "\n",
    "# Group by side, price, time and sum the size\n",
    "df = df.groupby(['side', 'price', 'time'])['size'].sum().reset_index()\n",
    "\n",
    "# Add a column called day\n",
    "df['day'] = pd.to_datetime(df['time']).dt.date\n",
    "\n",
    "df.head()"
   ]
  },
  {
   "cell_type": "code",
   "execution_count": 3,
   "id": "b8a115e6",
   "metadata": {},
   "outputs": [
    {
     "data": {
      "text/html": [
       "<div>\n",
       "<style scoped>\n",
       "    .dataframe tbody tr th:only-of-type {\n",
       "        vertical-align: middle;\n",
       "    }\n",
       "\n",
       "    .dataframe tbody tr th {\n",
       "        vertical-align: top;\n",
       "    }\n",
       "\n",
       "    .dataframe thead th {\n",
       "        text-align: right;\n",
       "    }\n",
       "</style>\n",
       "<table border=\"1\" class=\"dataframe\">\n",
       "  <thead>\n",
       "    <tr style=\"text-align: right;\">\n",
       "      <th></th>\n",
       "      <th>side</th>\n",
       "      <th>price</th>\n",
       "      <th>time</th>\n",
       "      <th>size</th>\n",
       "      <th>day</th>\n",
       "    </tr>\n",
       "  </thead>\n",
       "  <tbody>\n",
       "    <tr>\n",
       "      <th>19456</th>\n",
       "      <td>sell</td>\n",
       "      <td>1.0004</td>\n",
       "      <td>2025-09-24 00:48:34.835177+00:00</td>\n",
       "      <td>422.98</td>\n",
       "      <td>2025-09-24</td>\n",
       "    </tr>\n",
       "    <tr>\n",
       "      <th>19457</th>\n",
       "      <td>sell</td>\n",
       "      <td>1.0004</td>\n",
       "      <td>2025-09-24 00:48:46.689000+00:00</td>\n",
       "      <td>422.98</td>\n",
       "      <td>2025-09-24</td>\n",
       "    </tr>\n",
       "    <tr>\n",
       "      <th>19458</th>\n",
       "      <td>sell</td>\n",
       "      <td>1.0004</td>\n",
       "      <td>2025-09-24 00:50:15.993753+00:00</td>\n",
       "      <td>292244.23</td>\n",
       "      <td>2025-09-24</td>\n",
       "    </tr>\n",
       "    <tr>\n",
       "      <th>486</th>\n",
       "      <td>buy</td>\n",
       "      <td>1.0003</td>\n",
       "      <td>2025-09-24 00:57:00.353522+00:00</td>\n",
       "      <td>605.40</td>\n",
       "      <td>2025-09-24</td>\n",
       "    </tr>\n",
       "    <tr>\n",
       "      <th>19459</th>\n",
       "      <td>sell</td>\n",
       "      <td>1.0004</td>\n",
       "      <td>2025-09-24 00:57:18.410859+00:00</td>\n",
       "      <td>689.03</td>\n",
       "      <td>2025-09-24</td>\n",
       "    </tr>\n",
       "    <tr>\n",
       "      <th>2065</th>\n",
       "      <td>buy</td>\n",
       "      <td>1.0004</td>\n",
       "      <td>2025-09-24 00:57:42.978165+00:00</td>\n",
       "      <td>605.40</td>\n",
       "      <td>2025-09-24</td>\n",
       "    </tr>\n",
       "    <tr>\n",
       "      <th>22524</th>\n",
       "      <td>sell</td>\n",
       "      <td>1.0005</td>\n",
       "      <td>2025-09-24 00:59:14.484352+00:00</td>\n",
       "      <td>689.03</td>\n",
       "      <td>2025-09-24</td>\n",
       "    </tr>\n",
       "    <tr>\n",
       "      <th>22525</th>\n",
       "      <td>sell</td>\n",
       "      <td>1.0005</td>\n",
       "      <td>2025-09-24 00:59:21.190281+00:00</td>\n",
       "      <td>689.03</td>\n",
       "      <td>2025-09-24</td>\n",
       "    </tr>\n",
       "    <tr>\n",
       "      <th>2066</th>\n",
       "      <td>buy</td>\n",
       "      <td>1.0004</td>\n",
       "      <td>2025-09-24 01:10:05.009753+00:00</td>\n",
       "      <td>45.00</td>\n",
       "      <td>2025-09-24</td>\n",
       "    </tr>\n",
       "    <tr>\n",
       "      <th>2067</th>\n",
       "      <td>buy</td>\n",
       "      <td>1.0004</td>\n",
       "      <td>2025-09-24 01:10:05.021236+00:00</td>\n",
       "      <td>45.00</td>\n",
       "      <td>2025-09-24</td>\n",
       "    </tr>\n",
       "    <tr>\n",
       "      <th>2068</th>\n",
       "      <td>buy</td>\n",
       "      <td>1.0004</td>\n",
       "      <td>2025-09-24 01:12:14.097939+00:00</td>\n",
       "      <td>197.17</td>\n",
       "      <td>2025-09-24</td>\n",
       "    </tr>\n",
       "    <tr>\n",
       "      <th>22526</th>\n",
       "      <td>sell</td>\n",
       "      <td>1.0005</td>\n",
       "      <td>2025-09-24 01:13:58.742186+00:00</td>\n",
       "      <td>532.11</td>\n",
       "      <td>2025-09-24</td>\n",
       "    </tr>\n",
       "    <tr>\n",
       "      <th>22527</th>\n",
       "      <td>sell</td>\n",
       "      <td>1.0005</td>\n",
       "      <td>2025-09-24 01:19:46.761139+00:00</td>\n",
       "      <td>26.49</td>\n",
       "      <td>2025-09-24</td>\n",
       "    </tr>\n",
       "    <tr>\n",
       "      <th>2069</th>\n",
       "      <td>buy</td>\n",
       "      <td>1.0004</td>\n",
       "      <td>2025-09-24 01:24:40.595125+00:00</td>\n",
       "      <td>419.01</td>\n",
       "      <td>2025-09-24</td>\n",
       "    </tr>\n",
       "    <tr>\n",
       "      <th>22528</th>\n",
       "      <td>sell</td>\n",
       "      <td>1.0005</td>\n",
       "      <td>2025-09-24 01:26:10.198573+00:00</td>\n",
       "      <td>261.74</td>\n",
       "      <td>2025-09-24</td>\n",
       "    </tr>\n",
       "    <tr>\n",
       "      <th>2070</th>\n",
       "      <td>buy</td>\n",
       "      <td>1.0004</td>\n",
       "      <td>2025-09-24 01:27:23.684703+00:00</td>\n",
       "      <td>499.00</td>\n",
       "      <td>2025-09-24</td>\n",
       "    </tr>\n",
       "    <tr>\n",
       "      <th>22529</th>\n",
       "      <td>sell</td>\n",
       "      <td>1.0005</td>\n",
       "      <td>2025-09-24 01:29:43.465764+00:00</td>\n",
       "      <td>80.11</td>\n",
       "      <td>2025-09-24</td>\n",
       "    </tr>\n",
       "    <tr>\n",
       "      <th>22530</th>\n",
       "      <td>sell</td>\n",
       "      <td>1.0005</td>\n",
       "      <td>2025-09-24 01:34:28.549051+00:00</td>\n",
       "      <td>139.12</td>\n",
       "      <td>2025-09-24</td>\n",
       "    </tr>\n",
       "    <tr>\n",
       "      <th>2071</th>\n",
       "      <td>buy</td>\n",
       "      <td>1.0004</td>\n",
       "      <td>2025-09-24 01:35:34.556776+00:00</td>\n",
       "      <td>45.00</td>\n",
       "      <td>2025-09-24</td>\n",
       "    </tr>\n",
       "    <tr>\n",
       "      <th>2072</th>\n",
       "      <td>buy</td>\n",
       "      <td>1.0004</td>\n",
       "      <td>2025-09-24 01:35:34.825449+00:00</td>\n",
       "      <td>45.00</td>\n",
       "      <td>2025-09-24</td>\n",
       "    </tr>\n",
       "    <tr>\n",
       "      <th>2073</th>\n",
       "      <td>buy</td>\n",
       "      <td>1.0004</td>\n",
       "      <td>2025-09-24 01:35:35.024246+00:00</td>\n",
       "      <td>45.00</td>\n",
       "      <td>2025-09-24</td>\n",
       "    </tr>\n",
       "    <tr>\n",
       "      <th>2074</th>\n",
       "      <td>buy</td>\n",
       "      <td>1.0004</td>\n",
       "      <td>2025-09-24 01:35:35.033468+00:00</td>\n",
       "      <td>45.00</td>\n",
       "      <td>2025-09-24</td>\n",
       "    </tr>\n",
       "    <tr>\n",
       "      <th>2075</th>\n",
       "      <td>buy</td>\n",
       "      <td>1.0004</td>\n",
       "      <td>2025-09-24 01:35:35.307962+00:00</td>\n",
       "      <td>45.00</td>\n",
       "      <td>2025-09-24</td>\n",
       "    </tr>\n",
       "    <tr>\n",
       "      <th>2076</th>\n",
       "      <td>buy</td>\n",
       "      <td>1.0004</td>\n",
       "      <td>2025-09-24 01:35:35.539154+00:00</td>\n",
       "      <td>45.00</td>\n",
       "      <td>2025-09-24</td>\n",
       "    </tr>\n",
       "    <tr>\n",
       "      <th>2077</th>\n",
       "      <td>buy</td>\n",
       "      <td>1.0004</td>\n",
       "      <td>2025-09-24 01:35:35.543066+00:00</td>\n",
       "      <td>45.00</td>\n",
       "      <td>2025-09-24</td>\n",
       "    </tr>\n",
       "    <tr>\n",
       "      <th>2078</th>\n",
       "      <td>buy</td>\n",
       "      <td>1.0004</td>\n",
       "      <td>2025-09-24 01:35:35.766519+00:00</td>\n",
       "      <td>45.00</td>\n",
       "      <td>2025-09-24</td>\n",
       "    </tr>\n",
       "    <tr>\n",
       "      <th>2079</th>\n",
       "      <td>buy</td>\n",
       "      <td>1.0004</td>\n",
       "      <td>2025-09-24 01:35:35.820390+00:00</td>\n",
       "      <td>45.00</td>\n",
       "      <td>2025-09-24</td>\n",
       "    </tr>\n",
       "    <tr>\n",
       "      <th>2080</th>\n",
       "      <td>buy</td>\n",
       "      <td>1.0004</td>\n",
       "      <td>2025-09-24 01:35:36.269719+00:00</td>\n",
       "      <td>45.00</td>\n",
       "      <td>2025-09-24</td>\n",
       "    </tr>\n",
       "    <tr>\n",
       "      <th>2081</th>\n",
       "      <td>buy</td>\n",
       "      <td>1.0004</td>\n",
       "      <td>2025-09-24 01:35:36.509920+00:00</td>\n",
       "      <td>45.00</td>\n",
       "      <td>2025-09-24</td>\n",
       "    </tr>\n",
       "    <tr>\n",
       "      <th>2082</th>\n",
       "      <td>buy</td>\n",
       "      <td>1.0004</td>\n",
       "      <td>2025-09-24 01:35:36.521690+00:00</td>\n",
       "      <td>45.00</td>\n",
       "      <td>2025-09-24</td>\n",
       "    </tr>\n",
       "    <tr>\n",
       "      <th>2083</th>\n",
       "      <td>buy</td>\n",
       "      <td>1.0004</td>\n",
       "      <td>2025-09-24 01:35:36.743258+00:00</td>\n",
       "      <td>45.00</td>\n",
       "      <td>2025-09-24</td>\n",
       "    </tr>\n",
       "    <tr>\n",
       "      <th>2084</th>\n",
       "      <td>buy</td>\n",
       "      <td>1.0004</td>\n",
       "      <td>2025-09-24 01:35:36.748327+00:00</td>\n",
       "      <td>45.00</td>\n",
       "      <td>2025-09-24</td>\n",
       "    </tr>\n",
       "    <tr>\n",
       "      <th>2085</th>\n",
       "      <td>buy</td>\n",
       "      <td>1.0004</td>\n",
       "      <td>2025-09-24 01:35:38.974552+00:00</td>\n",
       "      <td>45.00</td>\n",
       "      <td>2025-09-24</td>\n",
       "    </tr>\n",
       "    <tr>\n",
       "      <th>2086</th>\n",
       "      <td>buy</td>\n",
       "      <td>1.0004</td>\n",
       "      <td>2025-09-24 01:40:13.401127+00:00</td>\n",
       "      <td>45.00</td>\n",
       "      <td>2025-09-24</td>\n",
       "    </tr>\n",
       "    <tr>\n",
       "      <th>2087</th>\n",
       "      <td>buy</td>\n",
       "      <td>1.0004</td>\n",
       "      <td>2025-09-24 01:40:13.640462+00:00</td>\n",
       "      <td>30.00</td>\n",
       "      <td>2025-09-24</td>\n",
       "    </tr>\n",
       "    <tr>\n",
       "      <th>19460</th>\n",
       "      <td>sell</td>\n",
       "      <td>1.0004</td>\n",
       "      <td>2025-09-24 01:47:46.607984+00:00</td>\n",
       "      <td>2.17</td>\n",
       "      <td>2025-09-24</td>\n",
       "    </tr>\n",
       "    <tr>\n",
       "      <th>19461</th>\n",
       "      <td>sell</td>\n",
       "      <td>1.0004</td>\n",
       "      <td>2025-09-24 01:48:41.257556+00:00</td>\n",
       "      <td>308.70</td>\n",
       "      <td>2025-09-24</td>\n",
       "    </tr>\n",
       "    <tr>\n",
       "      <th>19462</th>\n",
       "      <td>sell</td>\n",
       "      <td>1.0004</td>\n",
       "      <td>2025-09-24 01:51:09.315793+00:00</td>\n",
       "      <td>199.92</td>\n",
       "      <td>2025-09-24</td>\n",
       "    </tr>\n",
       "    <tr>\n",
       "      <th>19463</th>\n",
       "      <td>sell</td>\n",
       "      <td>1.0004</td>\n",
       "      <td>2025-09-24 02:04:56.427489+00:00</td>\n",
       "      <td>2000.00</td>\n",
       "      <td>2025-09-24</td>\n",
       "    </tr>\n",
       "    <tr>\n",
       "      <th>487</th>\n",
       "      <td>buy</td>\n",
       "      <td>1.0003</td>\n",
       "      <td>2025-09-24 02:23:10.880763+00:00</td>\n",
       "      <td>369.78</td>\n",
       "      <td>2025-09-24</td>\n",
       "    </tr>\n",
       "    <tr>\n",
       "      <th>488</th>\n",
       "      <td>buy</td>\n",
       "      <td>1.0003</td>\n",
       "      <td>2025-09-24 02:24:01.532817+00:00</td>\n",
       "      <td>49.30</td>\n",
       "      <td>2025-09-24</td>\n",
       "    </tr>\n",
       "    <tr>\n",
       "      <th>19464</th>\n",
       "      <td>sell</td>\n",
       "      <td>1.0004</td>\n",
       "      <td>2025-09-24 02:29:32.051050+00:00</td>\n",
       "      <td>13.12</td>\n",
       "      <td>2025-09-24</td>\n",
       "    </tr>\n",
       "    <tr>\n",
       "      <th>19465</th>\n",
       "      <td>sell</td>\n",
       "      <td>1.0004</td>\n",
       "      <td>2025-09-24 02:34:52.455817+00:00</td>\n",
       "      <td>850.88</td>\n",
       "      <td>2025-09-24</td>\n",
       "    </tr>\n",
       "    <tr>\n",
       "      <th>19466</th>\n",
       "      <td>sell</td>\n",
       "      <td>1.0004</td>\n",
       "      <td>2025-09-24 02:38:55.452807+00:00</td>\n",
       "      <td>12.04</td>\n",
       "      <td>2025-09-24</td>\n",
       "    </tr>\n",
       "    <tr>\n",
       "      <th>19467</th>\n",
       "      <td>sell</td>\n",
       "      <td>1.0004</td>\n",
       "      <td>2025-09-24 02:55:51.173016+00:00</td>\n",
       "      <td>45.00</td>\n",
       "      <td>2025-09-24</td>\n",
       "    </tr>\n",
       "    <tr>\n",
       "      <th>19468</th>\n",
       "      <td>sell</td>\n",
       "      <td>1.0004</td>\n",
       "      <td>2025-09-24 02:55:51.174560+00:00</td>\n",
       "      <td>45.00</td>\n",
       "      <td>2025-09-24</td>\n",
       "    </tr>\n",
       "    <tr>\n",
       "      <th>19469</th>\n",
       "      <td>sell</td>\n",
       "      <td>1.0004</td>\n",
       "      <td>2025-09-24 02:55:51.398607+00:00</td>\n",
       "      <td>45.00</td>\n",
       "      <td>2025-09-24</td>\n",
       "    </tr>\n",
       "    <tr>\n",
       "      <th>19470</th>\n",
       "      <td>sell</td>\n",
       "      <td>1.0004</td>\n",
       "      <td>2025-09-24 02:55:51.401784+00:00</td>\n",
       "      <td>45.00</td>\n",
       "      <td>2025-09-24</td>\n",
       "    </tr>\n",
       "    <tr>\n",
       "      <th>19471</th>\n",
       "      <td>sell</td>\n",
       "      <td>1.0004</td>\n",
       "      <td>2025-09-24 02:55:51.622495+00:00</td>\n",
       "      <td>45.00</td>\n",
       "      <td>2025-09-24</td>\n",
       "    </tr>\n",
       "    <tr>\n",
       "      <th>19472</th>\n",
       "      <td>sell</td>\n",
       "      <td>1.0004</td>\n",
       "      <td>2025-09-24 02:55:54.842367+00:00</td>\n",
       "      <td>45.00</td>\n",
       "      <td>2025-09-24</td>\n",
       "    </tr>\n",
       "  </tbody>\n",
       "</table>\n",
       "</div>"
      ],
      "text/plain": [
       "       side   price                             time       size         day\n",
       "19456  sell  1.0004 2025-09-24 00:48:34.835177+00:00     422.98  2025-09-24\n",
       "19457  sell  1.0004 2025-09-24 00:48:46.689000+00:00     422.98  2025-09-24\n",
       "19458  sell  1.0004 2025-09-24 00:50:15.993753+00:00  292244.23  2025-09-24\n",
       "486     buy  1.0003 2025-09-24 00:57:00.353522+00:00     605.40  2025-09-24\n",
       "19459  sell  1.0004 2025-09-24 00:57:18.410859+00:00     689.03  2025-09-24\n",
       "2065    buy  1.0004 2025-09-24 00:57:42.978165+00:00     605.40  2025-09-24\n",
       "22524  sell  1.0005 2025-09-24 00:59:14.484352+00:00     689.03  2025-09-24\n",
       "22525  sell  1.0005 2025-09-24 00:59:21.190281+00:00     689.03  2025-09-24\n",
       "2066    buy  1.0004 2025-09-24 01:10:05.009753+00:00      45.00  2025-09-24\n",
       "2067    buy  1.0004 2025-09-24 01:10:05.021236+00:00      45.00  2025-09-24\n",
       "2068    buy  1.0004 2025-09-24 01:12:14.097939+00:00     197.17  2025-09-24\n",
       "22526  sell  1.0005 2025-09-24 01:13:58.742186+00:00     532.11  2025-09-24\n",
       "22527  sell  1.0005 2025-09-24 01:19:46.761139+00:00      26.49  2025-09-24\n",
       "2069    buy  1.0004 2025-09-24 01:24:40.595125+00:00     419.01  2025-09-24\n",
       "22528  sell  1.0005 2025-09-24 01:26:10.198573+00:00     261.74  2025-09-24\n",
       "2070    buy  1.0004 2025-09-24 01:27:23.684703+00:00     499.00  2025-09-24\n",
       "22529  sell  1.0005 2025-09-24 01:29:43.465764+00:00      80.11  2025-09-24\n",
       "22530  sell  1.0005 2025-09-24 01:34:28.549051+00:00     139.12  2025-09-24\n",
       "2071    buy  1.0004 2025-09-24 01:35:34.556776+00:00      45.00  2025-09-24\n",
       "2072    buy  1.0004 2025-09-24 01:35:34.825449+00:00      45.00  2025-09-24\n",
       "2073    buy  1.0004 2025-09-24 01:35:35.024246+00:00      45.00  2025-09-24\n",
       "2074    buy  1.0004 2025-09-24 01:35:35.033468+00:00      45.00  2025-09-24\n",
       "2075    buy  1.0004 2025-09-24 01:35:35.307962+00:00      45.00  2025-09-24\n",
       "2076    buy  1.0004 2025-09-24 01:35:35.539154+00:00      45.00  2025-09-24\n",
       "2077    buy  1.0004 2025-09-24 01:35:35.543066+00:00      45.00  2025-09-24\n",
       "2078    buy  1.0004 2025-09-24 01:35:35.766519+00:00      45.00  2025-09-24\n",
       "2079    buy  1.0004 2025-09-24 01:35:35.820390+00:00      45.00  2025-09-24\n",
       "2080    buy  1.0004 2025-09-24 01:35:36.269719+00:00      45.00  2025-09-24\n",
       "2081    buy  1.0004 2025-09-24 01:35:36.509920+00:00      45.00  2025-09-24\n",
       "2082    buy  1.0004 2025-09-24 01:35:36.521690+00:00      45.00  2025-09-24\n",
       "2083    buy  1.0004 2025-09-24 01:35:36.743258+00:00      45.00  2025-09-24\n",
       "2084    buy  1.0004 2025-09-24 01:35:36.748327+00:00      45.00  2025-09-24\n",
       "2085    buy  1.0004 2025-09-24 01:35:38.974552+00:00      45.00  2025-09-24\n",
       "2086    buy  1.0004 2025-09-24 01:40:13.401127+00:00      45.00  2025-09-24\n",
       "2087    buy  1.0004 2025-09-24 01:40:13.640462+00:00      30.00  2025-09-24\n",
       "19460  sell  1.0004 2025-09-24 01:47:46.607984+00:00       2.17  2025-09-24\n",
       "19461  sell  1.0004 2025-09-24 01:48:41.257556+00:00     308.70  2025-09-24\n",
       "19462  sell  1.0004 2025-09-24 01:51:09.315793+00:00     199.92  2025-09-24\n",
       "19463  sell  1.0004 2025-09-24 02:04:56.427489+00:00    2000.00  2025-09-24\n",
       "487     buy  1.0003 2025-09-24 02:23:10.880763+00:00     369.78  2025-09-24\n",
       "488     buy  1.0003 2025-09-24 02:24:01.532817+00:00      49.30  2025-09-24\n",
       "19464  sell  1.0004 2025-09-24 02:29:32.051050+00:00      13.12  2025-09-24\n",
       "19465  sell  1.0004 2025-09-24 02:34:52.455817+00:00     850.88  2025-09-24\n",
       "19466  sell  1.0004 2025-09-24 02:38:55.452807+00:00      12.04  2025-09-24\n",
       "19467  sell  1.0004 2025-09-24 02:55:51.173016+00:00      45.00  2025-09-24\n",
       "19468  sell  1.0004 2025-09-24 02:55:51.174560+00:00      45.00  2025-09-24\n",
       "19469  sell  1.0004 2025-09-24 02:55:51.398607+00:00      45.00  2025-09-24\n",
       "19470  sell  1.0004 2025-09-24 02:55:51.401784+00:00      45.00  2025-09-24\n",
       "19471  sell  1.0004 2025-09-24 02:55:51.622495+00:00      45.00  2025-09-24\n",
       "19472  sell  1.0004 2025-09-24 02:55:54.842367+00:00      45.00  2025-09-24"
      ]
     },
     "execution_count": 3,
     "metadata": {},
     "output_type": "execute_result"
    }
   ],
   "source": [
    "# Sort df by time\n",
    "df = df.sort_values('time')\n",
    "\n",
    "df.head(50)"
   ]
  },
  {
   "cell_type": "code",
   "execution_count": 4,
   "id": "603354e9",
   "metadata": {},
   "outputs": [
    {
     "data": {
      "application/vnd.plotly.v1+json": {
       "config": {
        "plotlyServerURL": "https://plot.ly"
       },
       "data": [
        {
         "hovertemplate": "price=%{x}<br>size=%{y}<extra></extra>",
         "legendgroup": "",
         "marker": {
          "color": "#636efa",
          "pattern": {
           "shape": ""
          }
         },
         "name": "",
         "orientation": "v",
         "showlegend": false,
         "textposition": "auto",
         "type": "bar",
         "x": {
          "bdata": "cayL22gA8D/iWBe30QDwP1MFo5I6AfA/xLEubqMB8D81XrpJDALwP6YKRiV1AvA/F7fRAN4C8D+IY13cRgPwP/kP6bevA/A/arx0kxgE8D8=",
          "dtype": "f8"
         },
         "xaxis": "x",
         "y": {
          "bdata": "H4XrIWU2U0Fcj8J1W7ZAQYXrUbidMEFBzczMzKuLRkHNzMyMsoldQVyPwnVSf1hB4XoUbsgsWkHD9ShccyVSQT0K16NA0CJB4noUro9dAkE=",
          "dtype": "f8"
         },
         "yaxis": "y"
        }
       ],
       "layout": {
        "barmode": "relative",
        "legend": {
         "tracegroupgap": 0
        },
        "margin": {
         "t": 60
        },
        "template": {
         "data": {
          "bar": [
           {
            "error_x": {
             "color": "#2a3f5f"
            },
            "error_y": {
             "color": "#2a3f5f"
            },
            "marker": {
             "line": {
              "color": "#E5ECF6",
              "width": 0.5
             },
             "pattern": {
              "fillmode": "overlay",
              "size": 10,
              "solidity": 0.2
             }
            },
            "type": "bar"
           }
          ],
          "barpolar": [
           {
            "marker": {
             "line": {
              "color": "#E5ECF6",
              "width": 0.5
             },
             "pattern": {
              "fillmode": "overlay",
              "size": 10,
              "solidity": 0.2
             }
            },
            "type": "barpolar"
           }
          ],
          "carpet": [
           {
            "aaxis": {
             "endlinecolor": "#2a3f5f",
             "gridcolor": "white",
             "linecolor": "white",
             "minorgridcolor": "white",
             "startlinecolor": "#2a3f5f"
            },
            "baxis": {
             "endlinecolor": "#2a3f5f",
             "gridcolor": "white",
             "linecolor": "white",
             "minorgridcolor": "white",
             "startlinecolor": "#2a3f5f"
            },
            "type": "carpet"
           }
          ],
          "choropleth": [
           {
            "colorbar": {
             "outlinewidth": 0,
             "ticks": ""
            },
            "type": "choropleth"
           }
          ],
          "contour": [
           {
            "colorbar": {
             "outlinewidth": 0,
             "ticks": ""
            },
            "colorscale": [
             [
              0,
              "#0d0887"
             ],
             [
              0.1111111111111111,
              "#46039f"
             ],
             [
              0.2222222222222222,
              "#7201a8"
             ],
             [
              0.3333333333333333,
              "#9c179e"
             ],
             [
              0.4444444444444444,
              "#bd3786"
             ],
             [
              0.5555555555555556,
              "#d8576b"
             ],
             [
              0.6666666666666666,
              "#ed7953"
             ],
             [
              0.7777777777777778,
              "#fb9f3a"
             ],
             [
              0.8888888888888888,
              "#fdca26"
             ],
             [
              1,
              "#f0f921"
             ]
            ],
            "type": "contour"
           }
          ],
          "contourcarpet": [
           {
            "colorbar": {
             "outlinewidth": 0,
             "ticks": ""
            },
            "type": "contourcarpet"
           }
          ],
          "heatmap": [
           {
            "colorbar": {
             "outlinewidth": 0,
             "ticks": ""
            },
            "colorscale": [
             [
              0,
              "#0d0887"
             ],
             [
              0.1111111111111111,
              "#46039f"
             ],
             [
              0.2222222222222222,
              "#7201a8"
             ],
             [
              0.3333333333333333,
              "#9c179e"
             ],
             [
              0.4444444444444444,
              "#bd3786"
             ],
             [
              0.5555555555555556,
              "#d8576b"
             ],
             [
              0.6666666666666666,
              "#ed7953"
             ],
             [
              0.7777777777777778,
              "#fb9f3a"
             ],
             [
              0.8888888888888888,
              "#fdca26"
             ],
             [
              1,
              "#f0f921"
             ]
            ],
            "type": "heatmap"
           }
          ],
          "histogram": [
           {
            "marker": {
             "pattern": {
              "fillmode": "overlay",
              "size": 10,
              "solidity": 0.2
             }
            },
            "type": "histogram"
           }
          ],
          "histogram2d": [
           {
            "colorbar": {
             "outlinewidth": 0,
             "ticks": ""
            },
            "colorscale": [
             [
              0,
              "#0d0887"
             ],
             [
              0.1111111111111111,
              "#46039f"
             ],
             [
              0.2222222222222222,
              "#7201a8"
             ],
             [
              0.3333333333333333,
              "#9c179e"
             ],
             [
              0.4444444444444444,
              "#bd3786"
             ],
             [
              0.5555555555555556,
              "#d8576b"
             ],
             [
              0.6666666666666666,
              "#ed7953"
             ],
             [
              0.7777777777777778,
              "#fb9f3a"
             ],
             [
              0.8888888888888888,
              "#fdca26"
             ],
             [
              1,
              "#f0f921"
             ]
            ],
            "type": "histogram2d"
           }
          ],
          "histogram2dcontour": [
           {
            "colorbar": {
             "outlinewidth": 0,
             "ticks": ""
            },
            "colorscale": [
             [
              0,
              "#0d0887"
             ],
             [
              0.1111111111111111,
              "#46039f"
             ],
             [
              0.2222222222222222,
              "#7201a8"
             ],
             [
              0.3333333333333333,
              "#9c179e"
             ],
             [
              0.4444444444444444,
              "#bd3786"
             ],
             [
              0.5555555555555556,
              "#d8576b"
             ],
             [
              0.6666666666666666,
              "#ed7953"
             ],
             [
              0.7777777777777778,
              "#fb9f3a"
             ],
             [
              0.8888888888888888,
              "#fdca26"
             ],
             [
              1,
              "#f0f921"
             ]
            ],
            "type": "histogram2dcontour"
           }
          ],
          "mesh3d": [
           {
            "colorbar": {
             "outlinewidth": 0,
             "ticks": ""
            },
            "type": "mesh3d"
           }
          ],
          "parcoords": [
           {
            "line": {
             "colorbar": {
              "outlinewidth": 0,
              "ticks": ""
             }
            },
            "type": "parcoords"
           }
          ],
          "pie": [
           {
            "automargin": true,
            "type": "pie"
           }
          ],
          "scatter": [
           {
            "fillpattern": {
             "fillmode": "overlay",
             "size": 10,
             "solidity": 0.2
            },
            "type": "scatter"
           }
          ],
          "scatter3d": [
           {
            "line": {
             "colorbar": {
              "outlinewidth": 0,
              "ticks": ""
             }
            },
            "marker": {
             "colorbar": {
              "outlinewidth": 0,
              "ticks": ""
             }
            },
            "type": "scatter3d"
           }
          ],
          "scattercarpet": [
           {
            "marker": {
             "colorbar": {
              "outlinewidth": 0,
              "ticks": ""
             }
            },
            "type": "scattercarpet"
           }
          ],
          "scattergeo": [
           {
            "marker": {
             "colorbar": {
              "outlinewidth": 0,
              "ticks": ""
             }
            },
            "type": "scattergeo"
           }
          ],
          "scattergl": [
           {
            "marker": {
             "colorbar": {
              "outlinewidth": 0,
              "ticks": ""
             }
            },
            "type": "scattergl"
           }
          ],
          "scattermap": [
           {
            "marker": {
             "colorbar": {
              "outlinewidth": 0,
              "ticks": ""
             }
            },
            "type": "scattermap"
           }
          ],
          "scattermapbox": [
           {
            "marker": {
             "colorbar": {
              "outlinewidth": 0,
              "ticks": ""
             }
            },
            "type": "scattermapbox"
           }
          ],
          "scatterpolar": [
           {
            "marker": {
             "colorbar": {
              "outlinewidth": 0,
              "ticks": ""
             }
            },
            "type": "scatterpolar"
           }
          ],
          "scatterpolargl": [
           {
            "marker": {
             "colorbar": {
              "outlinewidth": 0,
              "ticks": ""
             }
            },
            "type": "scatterpolargl"
           }
          ],
          "scatterternary": [
           {
            "marker": {
             "colorbar": {
              "outlinewidth": 0,
              "ticks": ""
             }
            },
            "type": "scatterternary"
           }
          ],
          "surface": [
           {
            "colorbar": {
             "outlinewidth": 0,
             "ticks": ""
            },
            "colorscale": [
             [
              0,
              "#0d0887"
             ],
             [
              0.1111111111111111,
              "#46039f"
             ],
             [
              0.2222222222222222,
              "#7201a8"
             ],
             [
              0.3333333333333333,
              "#9c179e"
             ],
             [
              0.4444444444444444,
              "#bd3786"
             ],
             [
              0.5555555555555556,
              "#d8576b"
             ],
             [
              0.6666666666666666,
              "#ed7953"
             ],
             [
              0.7777777777777778,
              "#fb9f3a"
             ],
             [
              0.8888888888888888,
              "#fdca26"
             ],
             [
              1,
              "#f0f921"
             ]
            ],
            "type": "surface"
           }
          ],
          "table": [
           {
            "cells": {
             "fill": {
              "color": "#EBF0F8"
             },
             "line": {
              "color": "white"
             }
            },
            "header": {
             "fill": {
              "color": "#C8D4E3"
             },
             "line": {
              "color": "white"
             }
            },
            "type": "table"
           }
          ]
         },
         "layout": {
          "annotationdefaults": {
           "arrowcolor": "#2a3f5f",
           "arrowhead": 0,
           "arrowwidth": 1
          },
          "autotypenumbers": "strict",
          "coloraxis": {
           "colorbar": {
            "outlinewidth": 0,
            "ticks": ""
           }
          },
          "colorscale": {
           "diverging": [
            [
             0,
             "#8e0152"
            ],
            [
             0.1,
             "#c51b7d"
            ],
            [
             0.2,
             "#de77ae"
            ],
            [
             0.3,
             "#f1b6da"
            ],
            [
             0.4,
             "#fde0ef"
            ],
            [
             0.5,
             "#f7f7f7"
            ],
            [
             0.6,
             "#e6f5d0"
            ],
            [
             0.7,
             "#b8e186"
            ],
            [
             0.8,
             "#7fbc41"
            ],
            [
             0.9,
             "#4d9221"
            ],
            [
             1,
             "#276419"
            ]
           ],
           "sequential": [
            [
             0,
             "#0d0887"
            ],
            [
             0.1111111111111111,
             "#46039f"
            ],
            [
             0.2222222222222222,
             "#7201a8"
            ],
            [
             0.3333333333333333,
             "#9c179e"
            ],
            [
             0.4444444444444444,
             "#bd3786"
            ],
            [
             0.5555555555555556,
             "#d8576b"
            ],
            [
             0.6666666666666666,
             "#ed7953"
            ],
            [
             0.7777777777777778,
             "#fb9f3a"
            ],
            [
             0.8888888888888888,
             "#fdca26"
            ],
            [
             1,
             "#f0f921"
            ]
           ],
           "sequentialminus": [
            [
             0,
             "#0d0887"
            ],
            [
             0.1111111111111111,
             "#46039f"
            ],
            [
             0.2222222222222222,
             "#7201a8"
            ],
            [
             0.3333333333333333,
             "#9c179e"
            ],
            [
             0.4444444444444444,
             "#bd3786"
            ],
            [
             0.5555555555555556,
             "#d8576b"
            ],
            [
             0.6666666666666666,
             "#ed7953"
            ],
            [
             0.7777777777777778,
             "#fb9f3a"
            ],
            [
             0.8888888888888888,
             "#fdca26"
            ],
            [
             1,
             "#f0f921"
            ]
           ]
          },
          "colorway": [
           "#636efa",
           "#EF553B",
           "#00cc96",
           "#ab63fa",
           "#FFA15A",
           "#19d3f3",
           "#FF6692",
           "#B6E880",
           "#FF97FF",
           "#FECB52"
          ],
          "font": {
           "color": "#2a3f5f"
          },
          "geo": {
           "bgcolor": "white",
           "lakecolor": "white",
           "landcolor": "#E5ECF6",
           "showlakes": true,
           "showland": true,
           "subunitcolor": "white"
          },
          "hoverlabel": {
           "align": "left"
          },
          "hovermode": "closest",
          "mapbox": {
           "style": "light"
          },
          "paper_bgcolor": "white",
          "plot_bgcolor": "#E5ECF6",
          "polar": {
           "angularaxis": {
            "gridcolor": "white",
            "linecolor": "white",
            "ticks": ""
           },
           "bgcolor": "#E5ECF6",
           "radialaxis": {
            "gridcolor": "white",
            "linecolor": "white",
            "ticks": ""
           }
          },
          "scene": {
           "xaxis": {
            "backgroundcolor": "#E5ECF6",
            "gridcolor": "white",
            "gridwidth": 2,
            "linecolor": "white",
            "showbackground": true,
            "ticks": "",
            "zerolinecolor": "white"
           },
           "yaxis": {
            "backgroundcolor": "#E5ECF6",
            "gridcolor": "white",
            "gridwidth": 2,
            "linecolor": "white",
            "showbackground": true,
            "ticks": "",
            "zerolinecolor": "white"
           },
           "zaxis": {
            "backgroundcolor": "#E5ECF6",
            "gridcolor": "white",
            "gridwidth": 2,
            "linecolor": "white",
            "showbackground": true,
            "ticks": "",
            "zerolinecolor": "white"
           }
          },
          "shapedefaults": {
           "line": {
            "color": "#2a3f5f"
           }
          },
          "ternary": {
           "aaxis": {
            "gridcolor": "white",
            "linecolor": "white",
            "ticks": ""
           },
           "baxis": {
            "gridcolor": "white",
            "linecolor": "white",
            "ticks": ""
           },
           "bgcolor": "#E5ECF6",
           "caxis": {
            "gridcolor": "white",
            "linecolor": "white",
            "ticks": ""
           }
          },
          "title": {
           "x": 0.05
          },
          "xaxis": {
           "automargin": true,
           "gridcolor": "white",
           "linecolor": "white",
           "ticks": "",
           "title": {
            "standoff": 15
           },
           "zerolinecolor": "white",
           "zerolinewidth": 2
          },
          "yaxis": {
           "automargin": true,
           "gridcolor": "white",
           "linecolor": "white",
           "ticks": "",
           "title": {
            "standoff": 15
           },
           "zerolinecolor": "white",
           "zerolinewidth": 2
          }
         }
        },
        "xaxis": {
         "anchor": "y",
         "domain": [
          0,
          1
         ],
         "title": {
          "text": "price"
         }
        },
        "yaxis": {
         "anchor": "x",
         "domain": [
          0,
          1
         ],
         "title": {
          "text": "size"
         }
        }
       }
      }
     },
     "metadata": {},
     "output_type": "display_data"
    }
   ],
   "source": [
    "# Group by price and sum the size\n",
    "df_price_sum = df.groupby('price')['size'].sum()\n",
    "# Fix the index\n",
    "df_price_sum = df_price_sum.reset_index()\n",
    "\n",
    "# Plot the price vs the sum of the size\n",
    "px.bar(df_price_sum, x='price', y='size')\n"
   ]
  },
  {
   "cell_type": "code",
   "execution_count": 5,
   "id": "4664e5ec",
   "metadata": {},
   "outputs": [
    {
     "data": {
      "application/vnd.plotly.v1+json": {
       "config": {
        "plotlyServerURL": "https://plot.ly"
       },
       "data": [
        {
         "hovertemplate": "price=%{x}<br>size=%{y}<extra></extra>",
         "legendgroup": "",
         "marker": {
          "color": "#636efa",
          "pattern": {
           "shape": ""
          }
         },
         "name": "",
         "orientation": "v",
         "showlegend": false,
         "textposition": "auto",
         "type": "bar",
         "x": {
          "bdata": "cayL22gA8D/iWBe30QDwP1MFo5I6AfA/xLEubqMB8D81XrpJDALwP6YKRiV1AvA/F7fRAN4C8D+IY13cRgPwP/kP6bevA/A/arx0kxgE8D8=",
          "dtype": "f8"
         },
         "xaxis": "x",
         "y": {
          "bdata": "owDzAi8K7BCAJC0rIBM+E4MPiQA=",
          "dtype": "i2"
         },
         "yaxis": "y"
        }
       ],
       "layout": {
        "barmode": "relative",
        "legend": {
         "tracegroupgap": 0
        },
        "margin": {
         "t": 60
        },
        "template": {
         "data": {
          "bar": [
           {
            "error_x": {
             "color": "#2a3f5f"
            },
            "error_y": {
             "color": "#2a3f5f"
            },
            "marker": {
             "line": {
              "color": "#E5ECF6",
              "width": 0.5
             },
             "pattern": {
              "fillmode": "overlay",
              "size": 10,
              "solidity": 0.2
             }
            },
            "type": "bar"
           }
          ],
          "barpolar": [
           {
            "marker": {
             "line": {
              "color": "#E5ECF6",
              "width": 0.5
             },
             "pattern": {
              "fillmode": "overlay",
              "size": 10,
              "solidity": 0.2
             }
            },
            "type": "barpolar"
           }
          ],
          "carpet": [
           {
            "aaxis": {
             "endlinecolor": "#2a3f5f",
             "gridcolor": "white",
             "linecolor": "white",
             "minorgridcolor": "white",
             "startlinecolor": "#2a3f5f"
            },
            "baxis": {
             "endlinecolor": "#2a3f5f",
             "gridcolor": "white",
             "linecolor": "white",
             "minorgridcolor": "white",
             "startlinecolor": "#2a3f5f"
            },
            "type": "carpet"
           }
          ],
          "choropleth": [
           {
            "colorbar": {
             "outlinewidth": 0,
             "ticks": ""
            },
            "type": "choropleth"
           }
          ],
          "contour": [
           {
            "colorbar": {
             "outlinewidth": 0,
             "ticks": ""
            },
            "colorscale": [
             [
              0,
              "#0d0887"
             ],
             [
              0.1111111111111111,
              "#46039f"
             ],
             [
              0.2222222222222222,
              "#7201a8"
             ],
             [
              0.3333333333333333,
              "#9c179e"
             ],
             [
              0.4444444444444444,
              "#bd3786"
             ],
             [
              0.5555555555555556,
              "#d8576b"
             ],
             [
              0.6666666666666666,
              "#ed7953"
             ],
             [
              0.7777777777777778,
              "#fb9f3a"
             ],
             [
              0.8888888888888888,
              "#fdca26"
             ],
             [
              1,
              "#f0f921"
             ]
            ],
            "type": "contour"
           }
          ],
          "contourcarpet": [
           {
            "colorbar": {
             "outlinewidth": 0,
             "ticks": ""
            },
            "type": "contourcarpet"
           }
          ],
          "heatmap": [
           {
            "colorbar": {
             "outlinewidth": 0,
             "ticks": ""
            },
            "colorscale": [
             [
              0,
              "#0d0887"
             ],
             [
              0.1111111111111111,
              "#46039f"
             ],
             [
              0.2222222222222222,
              "#7201a8"
             ],
             [
              0.3333333333333333,
              "#9c179e"
             ],
             [
              0.4444444444444444,
              "#bd3786"
             ],
             [
              0.5555555555555556,
              "#d8576b"
             ],
             [
              0.6666666666666666,
              "#ed7953"
             ],
             [
              0.7777777777777778,
              "#fb9f3a"
             ],
             [
              0.8888888888888888,
              "#fdca26"
             ],
             [
              1,
              "#f0f921"
             ]
            ],
            "type": "heatmap"
           }
          ],
          "histogram": [
           {
            "marker": {
             "pattern": {
              "fillmode": "overlay",
              "size": 10,
              "solidity": 0.2
             }
            },
            "type": "histogram"
           }
          ],
          "histogram2d": [
           {
            "colorbar": {
             "outlinewidth": 0,
             "ticks": ""
            },
            "colorscale": [
             [
              0,
              "#0d0887"
             ],
             [
              0.1111111111111111,
              "#46039f"
             ],
             [
              0.2222222222222222,
              "#7201a8"
             ],
             [
              0.3333333333333333,
              "#9c179e"
             ],
             [
              0.4444444444444444,
              "#bd3786"
             ],
             [
              0.5555555555555556,
              "#d8576b"
             ],
             [
              0.6666666666666666,
              "#ed7953"
             ],
             [
              0.7777777777777778,
              "#fb9f3a"
             ],
             [
              0.8888888888888888,
              "#fdca26"
             ],
             [
              1,
              "#f0f921"
             ]
            ],
            "type": "histogram2d"
           }
          ],
          "histogram2dcontour": [
           {
            "colorbar": {
             "outlinewidth": 0,
             "ticks": ""
            },
            "colorscale": [
             [
              0,
              "#0d0887"
             ],
             [
              0.1111111111111111,
              "#46039f"
             ],
             [
              0.2222222222222222,
              "#7201a8"
             ],
             [
              0.3333333333333333,
              "#9c179e"
             ],
             [
              0.4444444444444444,
              "#bd3786"
             ],
             [
              0.5555555555555556,
              "#d8576b"
             ],
             [
              0.6666666666666666,
              "#ed7953"
             ],
             [
              0.7777777777777778,
              "#fb9f3a"
             ],
             [
              0.8888888888888888,
              "#fdca26"
             ],
             [
              1,
              "#f0f921"
             ]
            ],
            "type": "histogram2dcontour"
           }
          ],
          "mesh3d": [
           {
            "colorbar": {
             "outlinewidth": 0,
             "ticks": ""
            },
            "type": "mesh3d"
           }
          ],
          "parcoords": [
           {
            "line": {
             "colorbar": {
              "outlinewidth": 0,
              "ticks": ""
             }
            },
            "type": "parcoords"
           }
          ],
          "pie": [
           {
            "automargin": true,
            "type": "pie"
           }
          ],
          "scatter": [
           {
            "fillpattern": {
             "fillmode": "overlay",
             "size": 10,
             "solidity": 0.2
            },
            "type": "scatter"
           }
          ],
          "scatter3d": [
           {
            "line": {
             "colorbar": {
              "outlinewidth": 0,
              "ticks": ""
             }
            },
            "marker": {
             "colorbar": {
              "outlinewidth": 0,
              "ticks": ""
             }
            },
            "type": "scatter3d"
           }
          ],
          "scattercarpet": [
           {
            "marker": {
             "colorbar": {
              "outlinewidth": 0,
              "ticks": ""
             }
            },
            "type": "scattercarpet"
           }
          ],
          "scattergeo": [
           {
            "marker": {
             "colorbar": {
              "outlinewidth": 0,
              "ticks": ""
             }
            },
            "type": "scattergeo"
           }
          ],
          "scattergl": [
           {
            "marker": {
             "colorbar": {
              "outlinewidth": 0,
              "ticks": ""
             }
            },
            "type": "scattergl"
           }
          ],
          "scattermap": [
           {
            "marker": {
             "colorbar": {
              "outlinewidth": 0,
              "ticks": ""
             }
            },
            "type": "scattermap"
           }
          ],
          "scattermapbox": [
           {
            "marker": {
             "colorbar": {
              "outlinewidth": 0,
              "ticks": ""
             }
            },
            "type": "scattermapbox"
           }
          ],
          "scatterpolar": [
           {
            "marker": {
             "colorbar": {
              "outlinewidth": 0,
              "ticks": ""
             }
            },
            "type": "scatterpolar"
           }
          ],
          "scatterpolargl": [
           {
            "marker": {
             "colorbar": {
              "outlinewidth": 0,
              "ticks": ""
             }
            },
            "type": "scatterpolargl"
           }
          ],
          "scatterternary": [
           {
            "marker": {
             "colorbar": {
              "outlinewidth": 0,
              "ticks": ""
             }
            },
            "type": "scatterternary"
           }
          ],
          "surface": [
           {
            "colorbar": {
             "outlinewidth": 0,
             "ticks": ""
            },
            "colorscale": [
             [
              0,
              "#0d0887"
             ],
             [
              0.1111111111111111,
              "#46039f"
             ],
             [
              0.2222222222222222,
              "#7201a8"
             ],
             [
              0.3333333333333333,
              "#9c179e"
             ],
             [
              0.4444444444444444,
              "#bd3786"
             ],
             [
              0.5555555555555556,
              "#d8576b"
             ],
             [
              0.6666666666666666,
              "#ed7953"
             ],
             [
              0.7777777777777778,
              "#fb9f3a"
             ],
             [
              0.8888888888888888,
              "#fdca26"
             ],
             [
              1,
              "#f0f921"
             ]
            ],
            "type": "surface"
           }
          ],
          "table": [
           {
            "cells": {
             "fill": {
              "color": "#EBF0F8"
             },
             "line": {
              "color": "white"
             }
            },
            "header": {
             "fill": {
              "color": "#C8D4E3"
             },
             "line": {
              "color": "white"
             }
            },
            "type": "table"
           }
          ]
         },
         "layout": {
          "annotationdefaults": {
           "arrowcolor": "#2a3f5f",
           "arrowhead": 0,
           "arrowwidth": 1
          },
          "autotypenumbers": "strict",
          "coloraxis": {
           "colorbar": {
            "outlinewidth": 0,
            "ticks": ""
           }
          },
          "colorscale": {
           "diverging": [
            [
             0,
             "#8e0152"
            ],
            [
             0.1,
             "#c51b7d"
            ],
            [
             0.2,
             "#de77ae"
            ],
            [
             0.3,
             "#f1b6da"
            ],
            [
             0.4,
             "#fde0ef"
            ],
            [
             0.5,
             "#f7f7f7"
            ],
            [
             0.6,
             "#e6f5d0"
            ],
            [
             0.7,
             "#b8e186"
            ],
            [
             0.8,
             "#7fbc41"
            ],
            [
             0.9,
             "#4d9221"
            ],
            [
             1,
             "#276419"
            ]
           ],
           "sequential": [
            [
             0,
             "#0d0887"
            ],
            [
             0.1111111111111111,
             "#46039f"
            ],
            [
             0.2222222222222222,
             "#7201a8"
            ],
            [
             0.3333333333333333,
             "#9c179e"
            ],
            [
             0.4444444444444444,
             "#bd3786"
            ],
            [
             0.5555555555555556,
             "#d8576b"
            ],
            [
             0.6666666666666666,
             "#ed7953"
            ],
            [
             0.7777777777777778,
             "#fb9f3a"
            ],
            [
             0.8888888888888888,
             "#fdca26"
            ],
            [
             1,
             "#f0f921"
            ]
           ],
           "sequentialminus": [
            [
             0,
             "#0d0887"
            ],
            [
             0.1111111111111111,
             "#46039f"
            ],
            [
             0.2222222222222222,
             "#7201a8"
            ],
            [
             0.3333333333333333,
             "#9c179e"
            ],
            [
             0.4444444444444444,
             "#bd3786"
            ],
            [
             0.5555555555555556,
             "#d8576b"
            ],
            [
             0.6666666666666666,
             "#ed7953"
            ],
            [
             0.7777777777777778,
             "#fb9f3a"
            ],
            [
             0.8888888888888888,
             "#fdca26"
            ],
            [
             1,
             "#f0f921"
            ]
           ]
          },
          "colorway": [
           "#636efa",
           "#EF553B",
           "#00cc96",
           "#ab63fa",
           "#FFA15A",
           "#19d3f3",
           "#FF6692",
           "#B6E880",
           "#FF97FF",
           "#FECB52"
          ],
          "font": {
           "color": "#2a3f5f"
          },
          "geo": {
           "bgcolor": "white",
           "lakecolor": "white",
           "landcolor": "#E5ECF6",
           "showlakes": true,
           "showland": true,
           "subunitcolor": "white"
          },
          "hoverlabel": {
           "align": "left"
          },
          "hovermode": "closest",
          "mapbox": {
           "style": "light"
          },
          "paper_bgcolor": "white",
          "plot_bgcolor": "#E5ECF6",
          "polar": {
           "angularaxis": {
            "gridcolor": "white",
            "linecolor": "white",
            "ticks": ""
           },
           "bgcolor": "#E5ECF6",
           "radialaxis": {
            "gridcolor": "white",
            "linecolor": "white",
            "ticks": ""
           }
          },
          "scene": {
           "xaxis": {
            "backgroundcolor": "#E5ECF6",
            "gridcolor": "white",
            "gridwidth": 2,
            "linecolor": "white",
            "showbackground": true,
            "ticks": "",
            "zerolinecolor": "white"
           },
           "yaxis": {
            "backgroundcolor": "#E5ECF6",
            "gridcolor": "white",
            "gridwidth": 2,
            "linecolor": "white",
            "showbackground": true,
            "ticks": "",
            "zerolinecolor": "white"
           },
           "zaxis": {
            "backgroundcolor": "#E5ECF6",
            "gridcolor": "white",
            "gridwidth": 2,
            "linecolor": "white",
            "showbackground": true,
            "ticks": "",
            "zerolinecolor": "white"
           }
          },
          "shapedefaults": {
           "line": {
            "color": "#2a3f5f"
           }
          },
          "ternary": {
           "aaxis": {
            "gridcolor": "white",
            "linecolor": "white",
            "ticks": ""
           },
           "baxis": {
            "gridcolor": "white",
            "linecolor": "white",
            "ticks": ""
           },
           "bgcolor": "#E5ECF6",
           "caxis": {
            "gridcolor": "white",
            "linecolor": "white",
            "ticks": ""
           }
          },
          "title": {
           "x": 0.05
          },
          "xaxis": {
           "automargin": true,
           "gridcolor": "white",
           "linecolor": "white",
           "ticks": "",
           "title": {
            "standoff": 15
           },
           "zerolinecolor": "white",
           "zerolinewidth": 2
          },
          "yaxis": {
           "automargin": true,
           "gridcolor": "white",
           "linecolor": "white",
           "ticks": "",
           "title": {
            "standoff": 15
           },
           "zerolinecolor": "white",
           "zerolinewidth": 2
          }
         }
        },
        "xaxis": {
         "anchor": "y",
         "domain": [
          0,
          1
         ],
         "title": {
          "text": "price"
         }
        },
        "yaxis": {
         "anchor": "x",
         "domain": [
          0,
          1
         ],
         "title": {
          "text": "size"
         }
        }
       }
      }
     },
     "metadata": {},
     "output_type": "display_data"
    }
   ],
   "source": [
    "# Group by price and sum the size\n",
    "df_price_sum = df.groupby('price')['size'].count()\n",
    "# Fix the index\n",
    "df_price_sum = df_price_sum.reset_index()\n",
    "\n",
    "# Plot the price vs the sum of the size\n",
    "px.bar(df_price_sum, x='price', y='size')\n"
   ]
  },
  {
   "cell_type": "code",
   "execution_count": 6,
   "id": "b8e7ec40",
   "metadata": {},
   "outputs": [],
   "source": [
    "# Convert time to datetime\n",
    "df['time'] = pd.to_datetime(df['time'])\n",
    "\n",
    "# Sort by time to ensure correct time difference calculation\n",
    "df = df.sort_values('time')\n",
    "\n",
    "# Group by day and price\n",
    "groups = df.groupby(['day', 'price'])\n",
    "\n",
    "# Calculate time differences for each group\n",
    "time_diffs_by_group = {}\n",
    "for (day, price), group in groups:\n",
    "    # Calculate time differences in seconds\n",
    "    time_diffs = group['time'].diff().dt.total_seconds()\n",
    "    # Remove NaN (first entry in each group)\n",
    "    time_diffs = time_diffs.dropna()\n",
    "    if len(time_diffs) > 0:  # Only store if we have time differences\n",
    "        time_diffs_by_group[(day, price)] = time_diffs\n",
    "\n",
    "# Count number of unique days and prices for subplot layout\n",
    "unique_days = df['day'].nunique()\n",
    "unique_prices = df['price'].nunique()\n",
    "\n",
    "# Create subplots - one row per day, one column per unique price\n",
    "# First, get unique days and prices sorted\n",
    "unique_days = sorted(df['day'].unique())\n",
    "unique_prices = sorted(df['price'].unique())\n"
   ]
  },
  {
   "cell_type": "code",
   "execution_count": null,
   "id": "5ad9a7f2",
   "metadata": {},
   "outputs": [
    {
     "data": {
      "image/png": "[encoded data removed]"
     },
     "metadata": {},
     "output_type": "display_data"
    }
   ],
   "source": [
    "# Create subplot grid\n",
    "fig = make_subplots(\n",
    "    rows=len(unique_days),\n",
    "    cols=len(unique_prices),\n",
    "    vertical_spacing=0.05\n",
    ")\n",
    "\n",
    "# Add box plots for each day-price combination\n",
    "for i, day in enumerate(unique_days, 1):\n",
    "    for j, price in enumerate(unique_prices, 1):\n",
    "        if (day, price) in time_diffs_by_group:\n",
    "            time_diffs = time_diffs_by_group[(day, price)]\n",
    "            \n",
    "            # Calculate Q1 and Q3 for y-axis limits\n",
    "            Q1 = np.percentile(time_diffs, 25)\n",
    "            Q3 = np.percentile(time_diffs, 75)\n",
    "            IQR = Q3 - Q1\n",
    "            \n",
    "            # Add some padding (10%) to the range for better visualization\n",
    "            padding = IQR * 0.1\n",
    "            ymin = Q1 - padding\n",
    "            ymax = Q3 + padding\n",
    "            \n",
    "            # Create box plot for time differences\n",
    "            fig.add_trace(\n",
    "                go.Box(\n",
    "                    y=time_diffs,\n",
    "                    name=f'{day}, {price:.6f}',\n",
    "                    showlegend=False,\n",
    "                    boxpoints=False,  # This removes outliers from the plot\n",
    "                    showwhiskers=False  # This removes the whiskers showing min/max values\n",
    "                ),\n",
    "                row=i,\n",
    "                col=j\n",
    "            )\n",
    "            \n",
    "            # Update y-axis range for this subplot\n",
    "            fig.update_yaxes(range=[ymin, ymax], row=i, col=j)\n",
    "\n",
    "# Update layout\n",
    "fig.update_layout(\n",
    "    height=200 * len(unique_days),\n",
    "    width=200 * len(unique_prices),\n",
    "    showlegend=False,\n",
    "    title_text='Time Between Trades (seconds)'\n",
    ")\n",
    "\n",
    "fig.show(renderer=\"png\")\n",
    "# fig.show()  # For interactive plot\n"
   ]
  },
  {
   "cell_type": "code",
   "execution_count": null,
   "id": "054f44b6",
   "metadata": {},
   "outputs": [],
   "source": []
  }
 ],
 "metadata": {
  "kernelspec": {
   "display_name": "venv",
   "language": "python",
   "name": "python3"
  },
  "language_info": {
   "codemirror_mode": {
    "name": "ipython",
    "version": 3
   },
   "file_extension": ".py",
   "mimetype": "text/x-python",
   "name": "python",
   "nbconvert_exporter": "python",
   "pygments_lexer": "ipython3",
   "version": "3.9.22"
  }
 },
 "nbformat": 4,
 "nbformat_minor": 5
}
